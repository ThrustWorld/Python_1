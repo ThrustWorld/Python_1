{
 "cells": [
  {
   "cell_type": "markdown",
   "metadata": {},
   "source": [
    "# Moduli e programma principale"
   ]
  },
  {
   "cell_type": "markdown",
   "metadata": {},
   "source": [
    "Talvolta un file Python può essere utilizzato sia come programma, lanciandolo direttamente, che come modulo da importare in altri programmi. È il caso, ad esempio, del file [hangman.py](https://fad.unich.it/pluginfile.php/319831/mod_page/content/10/hangman.py?time=1701099685331) della lezione di laboratorio del 27 novembre. Questo file contiene il programma dell'impiccato, ma viene anche importato dal file [test_hangman.py](https://fad.unich.it/pluginfile.php/319831/mod_page/content/10/test_hangman.py?time=1701101210726) che ne collauda le funzioni.\n",
    "\n",
    "È importante osservare che quando un modulo è importato, il programma pincipale contenuto al suo interno viene automaticamente eseguito, e se il programma fallisce con un errore l'importazione del modulo fallisce. Tuttavia, normalmente quando importiamo un modulo non vogliamo eseguire l'eventuale programma principale in esso contenuto: questo è sicuramente vero nel caso di test_hangman.py. Per far sì che il programma principale venga eseguito solo quando un file Python viene eseguito direttamente e non quando viene important, basta inserire il programma principale all'interno di questa istruzione if:\n",
    "```python\n",
    "if __name__ == \"__main__\":\n",
    "    # qui va il programma principale\n",
    "```\n",
    "\n",
    "Quando un modulo Python viene importato, la variabile `__name__`  (che è predefinita da Python, non dobbiamo crearla noi) viene inizializzata con il nome del modulo (normalmente il nome del file). Tuttavia, se il programma è stato eseguito direttamente e non a seguito di una importazione, allora la variabile `__name__` assume il valore speciale `__main__`. Pertanto, controllando questa variabile possiamo sapere se un file è in corso di esecuzione diretta o è stato importato come modulo."
   ]
  },
  {
   "cell_type": "markdown",
   "metadata": {},
   "source": [
    "# Ancora sull'algoritmo di selection sort"
   ]
  },
  {
   "cell_type": "markdown",
   "metadata": {},
   "source": [
    "Riportiamo qui sotto la funzione che implementa l'algoritmo di ordinamento per selezione, e la funzione ausiliaria *minimum_position*."
   ]
  },
  {
   "cell_type": "code",
   "execution_count": 8,
   "metadata": {},
   "outputs": [],
   "source": [
    "def minimum_position(l, start):\n",
    "    \"\"\"\n",
    "    Restituisce la posizione dell'elemento minimo nella sottolista l[start:].\n",
    "    Si assume che start sia una posizione valida per l.\n",
    "    \"\"\"\n",
    "    minpos = start\n",
    "    for i in range(start + 1, len(l)):\n",
    "        if l[i] < l[minpos]:\n",
    "            minpos = i\n",
    "    return minpos\n",
    "\n",
    "def selection_sort(l):\n",
    "    \"\"\"Ordina gli elementi di l.\"\"\"\n",
    "    for i in range(len(l)-1):\n",
    "        m = minimum_position(l, i)\n",
    "        l[i], l[m] = l[m], l[i]"
   ]
  },
  {
   "cell_type": "markdown",
   "metadata": {},
   "source": [
    "Vogliamo provare il funzionamento di questo algoritmo e cerca di studiare quanto tempo richiede la sua esecuzione. Mentre per la ricerca lineare e la ricerca binaria abbiamo usato una lista di parole predefinita, per l'ordinamento preferiamo utilizzare liste di numeri generati artificialmente in maniera casuale."
   ]
  },
  {
   "cell_type": "code",
   "execution_count": 9,
   "metadata": {},
   "outputs": [],
   "source": [
    "from random import randint\n",
    "\n",
    "def create_random_list(n):\n",
    "    \"\"\"\n",
    "    Restituisce una lista di lunghezza `n` riempita di numeri interi casuali tra\n",
    "    zero e un milione.\n",
    "    \"\"\"\n",
    "    l = []\n",
    "    # Quando una istruzione for viene usata per ripete delle istruzioni un\n",
    "    # certo numero di volte e la variabile indice non è usata, è possibile\n",
    "    # rimpiazzare la variabile indice con il simbolo di sottolineatura,\n",
    "    # come fatto qui sotto.\n",
    "    for _ in range(n):\n",
    "        # Quando di scrive un numero, si possono usare i simboli di sottolineatura\n",
    "        # per separare le cifre in gruppi di tre. La sottolineatura viene completamente\n",
    "        # ignorata da Python, ma rende il numero più leggibile a un essere umano.\n",
    "        l.append(randint(0, 1_000_000))\n",
    "    return l"
   ]
  },
  {
   "cell_type": "code",
   "execution_count": 10,
   "metadata": {},
   "outputs": [
    {
     "data": {
      "text/plain": [
       "[262309, 848062, 583484, 23601, 356783, 692346, 385810, 386928, 677911, 176078]"
      ]
     },
     "execution_count": 10,
     "metadata": {},
     "output_type": "execute_result"
    }
   ],
   "source": [
    "create_random_list(10)"
   ]
  },
  {
   "cell_type": "markdown",
   "metadata": {},
   "source": [
    "Vediamo quanto ci impiega *selection_sort* a ordinare una lista di 4000 elementi."
   ]
  },
  {
   "cell_type": "code",
   "execution_count": 14,
   "metadata": {},
   "outputs": [],
   "source": [
    "l = create_random_list(4000)"
   ]
  },
  {
   "cell_type": "code",
   "execution_count": 15,
   "metadata": {},
   "outputs": [
    {
     "name": "stdout",
     "output_type": "stream",
     "text": [
      "213 ms ± 1.2 ms per loop (mean ± std. dev. of 7 runs, 1 loop each)\n"
     ]
    }
   ],
   "source": [
    "%%timeit\n",
    "selection_sort(l)"
   ]
  },
  {
   "cell_type": "markdown",
   "metadata": {},
   "source": [
    "Il tempo di esecuzione di 213 ms è molto grande se confrontato con l'algoritmo di ricerca lineare (per non parlare di quella binaria). Nella lezione precedente, abbiamo visto che, sullo stesso computer, la ricerca lineare impiegava circa 13 ms nel caso peggiore a cercare un elemento in una lista enormemente più grande (400.000 elementi invece di 4000)."
   ]
  },
  {
   "cell_type": "markdown",
   "metadata": {},
   "source": [
    "Proviamo adesso ad ordinare liste di lunghezza diversa, per vedere come il tempo di esecuzione dipende dalla lunghezza della lista."
   ]
  },
  {
   "cell_type": "code",
   "execution_count": 17,
   "metadata": {},
   "outputs": [
    {
     "name": "stdout",
     "output_type": "stream",
     "text": [
      "Size 1000 Time:      0.014 secondi\n",
      "Size 2000 Time:      0.057 secondi\n",
      "Size 3000 Time:      0.118 secondi\n",
      "Size 4000 Time:      0.217 secondi\n",
      "Size 5000 Time:      0.334 secondi\n",
      "Size 6000 Time:      0.489 secondi\n",
      "Size 7000 Time:      0.650 secondi\n",
      "Size 8000 Time:      0.861 secondi\n",
      "Size 9000 Time:      1.087 secondi\n",
      "Size 10000 Time:      1.339 secondi\n",
      "Size 11000 Time:      1.618 secondi\n",
      "Size 12000 Time:      1.938 secondi\n",
      "Size 13000 Time:      2.281 secondi\n",
      "Size 14000 Time:      2.675 secondi\n",
      "Size 15000 Time:      3.023 secondi\n"
     ]
    }
   ],
   "source": [
    "# importiamo la funzione time dal modulo time\n",
    "from time import time\n",
    "\n",
    "times = []\n",
    "for i in range(1000, 15001, 1000):\n",
    "    l = create_random_list(i)\n",
    "    # La funzione time restituisce il numero di secondi trascorsi dal 1° gennaio 1970.\n",
    "    start_time = time()\n",
    "    selection_sort(l)\n",
    "    end_time = time()\n",
    "    # La differenza tra end_time e start_time è la quantitià di tempo, in secondi, che è\n",
    "    # stata impiegata dalla funzione selection_sort.\n",
    "    times.append(end_time - start_time)\n",
    "    print(f\"Size {i} Time: {end_time - start_time:10.3f} secondi\")"
   ]
  },
  {
   "cell_type": "markdown",
   "metadata": {},
   "source": [
    "Si nota che quando la lunghezza della lista raddopia, il tempo di esecuzione aumenta di circa 4 volte. Ad esempio, per ordinare una lista di 5000 elementi ci sono voluti 0.334 secondi, mentre per ordinarne una di 10.000 ne sono stati necessari 1.339, e 1.339 / 0.334 è circa 4. Possiamo visualizzare l'andamento del tempo di esecuzione in funzione della lunghezza della lista col seguente codice (che non fa parte del programma del corso):"
   ]
  },
  {
   "cell_type": "code",
   "execution_count": 20,
   "metadata": {},
   "outputs": [
    {
     "data": {
      "text/plain": [
       "[<matplotlib.lines.Line2D at 0x7ff198b99d60>]"
      ]
     },
     "execution_count": 20,
     "metadata": {},
     "output_type": "execute_result"
    },
    {
     "data": {
      "image/png": "[encoded data removed]",
      "text/plain": [
       "<Figure size 640x480 with 1 Axes>"
      ]
     },
     "metadata": {},
     "output_type": "display_data"
    }
   ],
   "source": [
    "from matplotlib import pyplot as plt\n",
    "plt.plot(range(1000,15001,1000),times)"
   ]
  },
  {
   "cell_type": "markdown",
   "metadata": {},
   "source": [
    "## Studio teorico\n",
    "\n",
    "Per uno studio teorico di come evolve il tempo di esecuzione dell'ordinamento per selezione al variare della lunghezza della lista in input, consultare la [lavagna della lezione del 28 novembre](https://fad.unich.it/mod/resource/view.php?id=27842) o la sezione 12.3 del libro di testo."
   ]
  },
  {
   "cell_type": "markdown",
   "metadata": {},
   "source": [
    "# Tabelle e matrici"
   ]
  },
  {
   "cell_type": "markdown",
   "metadata": {},
   "source": [
    "Supponiamo di voler memorizzare una *tabella* come\n",
    "<pre>\n",
    "2   3   4\n",
    "1   0  -3\n",
    "</pre>\n",
    "in qualche modo dentro Python, e di voler fare la somma di tutti questi elementi. Useremo il termine *matrice* come sinonimo di *tabella*."
   ]
  },
  {
   "cell_type": "markdown",
   "metadata": {},
   "source": [
    "## Possibili approcci"
   ]
  },
  {
   "cell_type": "markdown",
   "metadata": {},
   "source": [
    "Abbiamo varie possibilità:\n",
    "\n",
    "**1) usiamo una variabile diversa per ogni elemento della tabella**\n",
    "\n",
    "Questa soluzione è pessima, va bene solo se sappiamo a priori quanti elementi ha la tabella, ma se la tabella va letta da un file su memoria di massa o da Internet, e può avere dimensione variabile, non è assoluamente possibile seguire questo approccio. Ad ogni modo, il codice che mette tutti i dati della tabella di sopra nelle variabili opportune e le somma sarebbe il seguente:\n",
    "```python\n",
    "a = 2\n",
    "b = 3\n",
    "c = 4\n",
    "d = 1\n",
    "e = 0\n",
    "f = -3\n",
    "a * b * c * d * e * f\n",
    "```\n",
    "\n",
    "**2) usare una variabile diversa per ogni riga: ogni variabile è una lista degli elementi di quella riga**\n",
    "\n",
    "Un po' meglio di prima, ma non risolve veramente il problema, perché dobbiamo sapere a priori quante sono le righe della tabella (mentre siamo flessibili sulle colonne). L'esempio di sopra diventa:\n",
    "```python\n",
    "l1 = [2, 3, 4]\n",
    "l2 = [1, 0, -3]\n",
    "\n",
    "def sum_list(l):\n",
    "    sum = 0\n",
    "    for v in l:\n",
    "        sum += v\n",
    "    return sum\n",
    "\n",
    "sum_list(l1) + sum_list(l2)\n",
    "```\n",
    "\n",
    "Notare che il codice per eseguire il prodotto si è di molto complicato: abbiamo definito una funzione ausiliaria `sum_list` che esegue la somma di tutti gli elementi di una lista, e la richiamiamo per fare la somma degli elementi in `l1` ed in `l2`. Di contro, questa soluzione è indipendente dal numero di colonne: se le liste `l1` ed `l2` hanno 100 elementi invece di 3, il codice della somma funziona correttamente. Se invece aumenta il numero di righe, il codice della somma va modificato per prevedere la riga in più che è stata inserita.\n",
    "\n",
    "**3) usare una unica lista in cui inserire tutti gli elementi della tabella**\n",
    "\n",
    "Questa soluzione non è male, ed è indipendente sia dal numero di righe che dal numero di colonne della tabella.\n",
    "```python\n",
    "l = [ 2, 3, 4, 1, 0, -3 ]\n",
    "\n",
    "def sum_list(l):\n",
    "    sum = 0\n",
    "    for v in l:\n",
    "        sum += v\n",
    "    return sum\n",
    "\n",
    "sum_list(l)\n",
    "```\n",
    "\n",
    "Il problema di questa soluzione è che è un po' scomoda per il programmatore. Infatti non è immediato capire come accedere ad un elemento che sta in una certa riga e colonna: bisogna fare dei calcoli per determinare dove sta questo elemento. I calcoli in realtà non sono particolarmente difficili: l'elemento in riga `i` colonna `j` sta nella posizione `i * num_colonne + j` della lista `l`. Ad ogni modo, normalmente si preferisce adottare la soluzione che vedremo qui sotto.\n",
    "\n",
    "**4) utilizzare una unica lista di liste: gli elementi della lista sono le righe della tabella, ogni riga rappresentata essa stessa con una lista di numeri**\n",
    "\n",
    "L'idea è fondamentalmente partire dalla soluzione 2, ma impacchettare tutte le liste che contengono le righe della tabella in una unica lista di liste.\n",
    "```python\n",
    "l1 = [2, 3, 4]\n",
    "l2 = [1, 0, -3]\n",
    "l = [l1, l2]\n",
    "```\n",
    "o anche, più semplicemente\n",
    "```python\n",
    "l = [ [2,3,4], [1,0,-3]]\n",
    "```\n",
    "Per il programma che fa il prodotto dei numeri della tabella vediamo qui sotto.\n"
   ]
  },
  {
   "cell_type": "markdown",
   "metadata": {},
   "source": [
    "## Esperimenti"
   ]
  },
  {
   "cell_type": "code",
   "execution_count": 1,
   "metadata": {},
   "outputs": [
    {
     "data": {
      "text/plain": [
       "[[2, 3, 4], [1, 0, -3]]"
      ]
     },
     "execution_count": 1,
     "metadata": {},
     "output_type": "execute_result"
    }
   ],
   "source": [
    "# Crea una lista formata da due elementi. Entrambi gli elementi sono a loro volta liste di numeri.\n",
    "l = [ [2, 3, 4], [1, 0, -3] ]\n",
    "l"
   ]
  },
  {
   "cell_type": "markdown",
   "metadata": {},
   "source": [
    "Gli elementi della lista `l` corrispondono alle righe della tabella."
   ]
  },
  {
   "cell_type": "code",
   "execution_count": 2,
   "metadata": {},
   "outputs": [
    {
     "data": {
      "text/plain": [
       "[2, 3, 4]"
      ]
     },
     "execution_count": 2,
     "metadata": {},
     "output_type": "execute_result"
    }
   ],
   "source": [
    "# Il primo elemento è la lista [2, 3, 4], ovvero la prima riga della tabella\n",
    "l[0]"
   ]
  },
  {
   "cell_type": "code",
   "execution_count": 3,
   "metadata": {},
   "outputs": [
    {
     "data": {
      "text/plain": [
       "[1, 0, -3]"
      ]
     },
     "execution_count": 3,
     "metadata": {},
     "output_type": "execute_result"
    }
   ],
   "source": [
    "# Il secondo elemento è la lista [2, 3, 4], ovvero la prima riga della tabella\n",
    "l[1]"
   ]
  },
  {
   "cell_type": "markdown",
   "metadata": {},
   "source": [
    "Per accedere ad un singolo elemento della tabella bisogna prima selezionare la riga desiderata con un primo utilizzo dell'operatore di accesso alle liste (le parentesi quadre []), ed all'interno della riga selezionare la colonna desiderata con un secondo utilizzo dell'operatore di accesso alle liste. Ad esempio `l[0][1]` estrae la prima riga (perché `l[0] = [2, 3, 4]` è il primo elemento di `l`, quindi la prima riga) e poi su di esso applica l'operazione `[1]` che restituisce il secondo elemento di `[2, 3, 4]` ovvero il `3`. In sostanza, `l[0][1]` accede all'elemento di `l` in riga `0` e colonna `1` (come nel caso delle liste semplici, numero di riga e colonna iniziano da 0)."
   ]
  },
  {
   "cell_type": "code",
   "execution_count": 4,
   "metadata": {},
   "outputs": [
    {
     "data": {
      "text/plain": [
       "3"
      ]
     },
     "execution_count": 4,
     "metadata": {},
     "output_type": "execute_result"
    }
   ],
   "source": [
    "l[0][1]"
   ]
  },
  {
   "cell_type": "markdown",
   "metadata": {},
   "source": [
    "Supponiamo ora di voler scrivere la funzione `somma_tabella` che somma tutti gli elementi di una tabella rappresentata utilizzando questa convenzione delle liste di liste. Un primo tentativo è il seguente, in cui passiamo esplicitamente alla funzione il numero di righe e colonne della tabella (vedremo poi che non sarà necessari)."
   ]
  },
  {
   "cell_type": "code",
   "execution_count": 5,
   "metadata": {},
   "outputs": [],
   "source": [
    "def somma_tabella(l, num_righe, num_colonne):\n",
    "    \"\"\"\n",
    "    Se l è una tabella con numero di righe e colonne specificato nei\n",
    "    parametri, restituisce la somma di tutti i numeri in essa presenti.\n",
    "    \"\"\"\n",
    "    somma = 0\n",
    "    # il primo for scorre tutte le righe\n",
    "    for i in range(num_righe):\n",
    "        # il secondo for scorre tutte le colonne\n",
    "        for j in range(num_colonne):\n",
    "            print(\"riga:\", i, \"colonna:\", j)\n",
    "            somma += l[i][j]\n",
    "    return somma"
   ]
  },
  {
   "cell_type": "markdown",
   "metadata": {},
   "source": [
    "L'istruzione `print` dentro il codice è stata inserita per far vedere in che ordine vengono esaminate le celle della tabella, ed ovviamente andrebbe rimossa quando si intende utilizzare veramente la funzione."
   ]
  },
  {
   "cell_type": "code",
   "execution_count": 7,
   "metadata": {},
   "outputs": [
    {
     "name": "stdout",
     "output_type": "stream",
     "text": [
      "riga: 0 colonna: 0\n",
      "riga: 0 colonna: 1\n",
      "riga: 0 colonna: 2\n",
      "riga: 1 colonna: 0\n",
      "riga: 1 colonna: 1\n",
      "riga: 1 colonna: 2\n"
     ]
    },
    {
     "data": {
      "text/plain": [
       "7"
      ]
     },
     "execution_count": 7,
     "metadata": {},
     "output_type": "execute_result"
    }
   ],
   "source": [
    "somma_tabella(l, 2, 3)"
   ]
  },
  {
   "cell_type": "markdown",
   "metadata": {},
   "source": [
    "Se si sbalia ad indicare il numero di righe o di colonne, `somma_tabella` può sommare solo una porzione della tabella, o dare errore qualora tenti di accedere a righe e colonne inesistenti."
   ]
  },
  {
   "cell_type": "code",
   "execution_count": 8,
   "metadata": {},
   "outputs": [
    {
     "name": "stdout",
     "output_type": "stream",
     "text": [
      "riga: 0 colonna: 0\n",
      "riga: 0 colonna: 1\n",
      "riga: 1 colonna: 0\n",
      "riga: 1 colonna: 1\n"
     ]
    },
    {
     "data": {
      "text/plain": [
       "6"
      ]
     },
     "execution_count": 8,
     "metadata": {},
     "output_type": "execute_result"
    }
   ],
   "source": [
    "# somma solo le prime due colonne della tabella e ignora la terza\n",
    "somma_tabella(l, 2, 2)"
   ]
  },
  {
   "cell_type": "code",
   "execution_count": 9,
   "metadata": {},
   "outputs": [
    {
     "name": "stdout",
     "output_type": "stream",
     "text": [
      "riga: 0 colonna: 0\n",
      "riga: 0 colonna: 1\n",
      "riga: 0 colonna: 2\n",
      "riga: 1 colonna: 0\n",
      "riga: 1 colonna: 1\n",
      "riga: 1 colonna: 2\n",
      "riga: 2 colonna: 0\n"
     ]
    },
    {
     "ename": "IndexError",
     "evalue": "list index out of range",
     "output_type": "error",
     "traceback": [
      "\u001b[0;31m---------------------------------------------------------------------------\u001b[0m",
      "\u001b[0;31mIndexError\u001b[0m                                Traceback (most recent call last)",
      "\u001b[0;32m/tmp/ipykernel_212888/3361396845.py\u001b[0m in \u001b[0;36m<module>\u001b[0;34m\u001b[0m\n\u001b[1;32m      1\u001b[0m \u001b[0;31m# genera errore perché non esiste la terza riga\u001b[0m\u001b[0;34m\u001b[0m\u001b[0;34m\u001b[0m\u001b[0m\n\u001b[0;32m----> 2\u001b[0;31m \u001b[0msomma_tabella\u001b[0m\u001b[0;34m(\u001b[0m\u001b[0ml\u001b[0m\u001b[0;34m,\u001b[0m \u001b[0;36m3\u001b[0m\u001b[0;34m,\u001b[0m \u001b[0;36m3\u001b[0m\u001b[0;34m)\u001b[0m\u001b[0;34m\u001b[0m\u001b[0;34m\u001b[0m\u001b[0m\n\u001b[0m",
      "\u001b[0;32m/tmp/ipykernel_212888/2981315666.py\u001b[0m in \u001b[0;36msomma_tabella\u001b[0;34m(l, num_righe, num_colonne)\u001b[0m\n\u001b[1;32m     10\u001b[0m         \u001b[0;32mfor\u001b[0m \u001b[0mj\u001b[0m \u001b[0;32min\u001b[0m \u001b[0mrange\u001b[0m\u001b[0;34m(\u001b[0m\u001b[0mnum_colonne\u001b[0m\u001b[0;34m)\u001b[0m\u001b[0;34m:\u001b[0m\u001b[0;34m\u001b[0m\u001b[0;34m\u001b[0m\u001b[0m\n\u001b[1;32m     11\u001b[0m             \u001b[0mprint\u001b[0m\u001b[0;34m(\u001b[0m\u001b[0;34m\"riga:\"\u001b[0m\u001b[0;34m,\u001b[0m \u001b[0mi\u001b[0m\u001b[0;34m,\u001b[0m \u001b[0;34m\"colonna:\"\u001b[0m\u001b[0;34m,\u001b[0m \u001b[0mj\u001b[0m\u001b[0;34m)\u001b[0m\u001b[0;34m\u001b[0m\u001b[0;34m\u001b[0m\u001b[0m\n\u001b[0;32m---> 12\u001b[0;31m             \u001b[0msomma\u001b[0m \u001b[0;34m+=\u001b[0m \u001b[0ml\u001b[0m\u001b[0;34m[\u001b[0m\u001b[0mi\u001b[0m\u001b[0;34m]\u001b[0m\u001b[0;34m[\u001b[0m\u001b[0mj\u001b[0m\u001b[0;34m]\u001b[0m\u001b[0;34m\u001b[0m\u001b[0;34m\u001b[0m\u001b[0m\n\u001b[0m\u001b[1;32m     13\u001b[0m     \u001b[0;32mreturn\u001b[0m \u001b[0msomma\u001b[0m\u001b[0;34m\u001b[0m\u001b[0;34m\u001b[0m\u001b[0m\n",
      "\u001b[0;31mIndexError\u001b[0m: list index out of range"
     ]
    }
   ],
   "source": [
    "# genera errore perché non esiste la terza riga\n",
    "somma_tabella(l, 3, 3)"
   ]
  },
  {
   "cell_type": "markdown",
   "metadata": {},
   "source": [
    "## Rappresentazioni per righe o per colonne"
   ]
  },
  {
   "cell_type": "markdown",
   "metadata": {},
   "source": [
    "In tutti gli esempi visti fin'ora, abbiamo deciso di rappresentare le tabelle *per riga*: gli elementi di una riga stavano sempre insieme tra di loro. Ma sarebbe altrettanto ragionevole memorizzare la tabella *per colonne*. Riconsideriamo quindi la tabella dell'esempio di sopra, e vediamo come sarebbe utilizzare la rappresentazione per colonne.\n",
    "<pre>\n",
    "2   3   4\n",
    "1   0  -3\n",
    "</pre>"
   ]
  },
  {
   "cell_type": "markdown",
   "metadata": {},
   "source": [
    "**1) una variaìbile per ogni elemento**\n",
    "\n",
    "Non cambia nulla, questa rappresentazione non si può definire né per righe né per colonne\n",
    "\n",
    "**2) una variabile per ogni riga**\n",
    "\n",
    "Diventa **una variabile per ogni colonna**. Invece di\n",
    "```python\n",
    "l1 = [2, 3, 4]\n",
    "l2 = [1, 0, -3]\n",
    "```\n",
    "abbiamo\n",
    "```python\n",
    "c1 = [2, 1]\n",
    "c2 = [3, 0]\n",
    "c3 = [4, -3]\n",
    "```\n",
    "\n",
    "**3) una unica lista per tutti gli elementi**\n",
    "\n",
    "Cambia l'ordine degli elementi, non più una riga dopo l'altra ma una colonna dopo l'altra. Invece di\n",
    "```python\n",
    "l = [2, 3, 4, 1, 0, -3]\n",
    "```\n",
    "abbiamo\n",
    "```python\n",
    "l = [2, 1, 3, 0, 4, -3]\n",
    "```\n",
    "\n",
    "**4) lista di liste**\n",
    "\n",
    "Gli elementi della lista principale contengono le colonne della tabella. Invece di:\n",
    "```python\n",
    "l = [ [2,3,4], [1,0,-3] ]\n",
    "```\n",
    "abbiamo\n",
    "```python\n",
    "l = [ [2, 1], [3, 0], [4, -3] ]\n",
    "```"
   ]
  },
  {
   "cell_type": "markdown",
   "metadata": {},
   "source": [
    "Notare che l'interprete Python non sa niente di come decidete di memorizzare voi le tabelle: per lui si tratta solo di liste, cosa metterci dentro è compito del programmatore. Se scegliete di passare da una memorizzazione per righe ad una per colonne, dovrete sicuramente modificare buona parte del programma. Ad esempio, se utilizziamo il metodo 4 della lista di liste per memorizzare una tabella nella lista `l` adottando la appresentazione per righe e  volete accedere all'elemento nella riga 0 colonna 1, l'espressione corretta è `l[0][1]`, ma se usate la rappresentazione per colonne dovete invece scrivere `l[1][0]`."
   ]
  },
  {
   "cell_type": "code",
   "execution_count": 10,
   "metadata": {},
   "outputs": [
    {
     "data": {
      "text/plain": [
       "3"
      ]
     },
     "execution_count": 10,
     "metadata": {},
     "output_type": "execute_result"
    }
   ],
   "source": [
    "# rappresenta la solita tabella per righe ed estrae l'elemento nella riga 0 e colonna 1\n",
    "l_per_righe = [ [2, 3, 4], [1, 0, -3]]\n",
    "l[0][1]"
   ]
  },
  {
   "cell_type": "code",
   "execution_count": 11,
   "metadata": {},
   "outputs": [
    {
     "data": {
      "text/plain": [
       "3"
      ]
     },
     "execution_count": 11,
     "metadata": {},
     "output_type": "execute_result"
    }
   ],
   "source": [
    "# rappresenta la solita tabella per colonne ed estrae l'elemento nella riga 0 e colonna 1\n",
    "l_per_colonne= [ [2,1], [3,0], [4,3] ]\n",
    "l_per_colonne[1][0]"
   ]
  }
 ],
 "metadata": {
  "kernelspec": {
   "display_name": "Python 3",
   "language": "python",
   "name": "python3"
  },
  "language_info": {
   "codemirror_mode": {
    "name": "ipython",
    "version": 3
   },
   "file_extension": ".py",
   "mimetype": "text/x-python",
   "name": "python",
   "nbconvert_exporter": "python",
   "pygments_lexer": "ipython3",
   "version": "3.12.0"
  }
 },
 "nbformat": 4,
 "nbformat_minor": 2
}
