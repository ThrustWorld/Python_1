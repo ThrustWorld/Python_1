{
 "cells": [
  {
   "cell_type": "markdown",
   "metadata": {},
   "source": [
    "# Copiare una lista"
   ]
  },
  {
   "cell_type": "markdown",
   "metadata": {},
   "source": [
    "Abbiamo visto che copiare in una lista l'operazione di assegnamento in realtà non copia la lista ma solo il riferimento alla lista, generando un alias."
   ]
  },
  {
   "cell_type": "code",
   "execution_count": 5,
   "metadata": {},
   "outputs": [
    {
     "name": "stdout",
     "output_type": "stream",
     "text": [
      "140062880039808 140062880039808\n"
     ]
    }
   ],
   "source": [
    "l = [\"a\", \"b\", \"c\"]\n",
    "m = l\n",
    "# gli id di questi oggetti sono uguali, si tratta dello stesso oggetto\n",
    "print(id(l), id(m))"
   ]
  },
  {
   "cell_type": "markdown",
   "metadata": {},
   "source": [
    "Ogni modifica alla lista `l` si ripercuote su `m`:"
   ]
  },
  {
   "cell_type": "code",
   "execution_count": 3,
   "metadata": {},
   "outputs": [
    {
     "name": "stdout",
     "output_type": "stream",
     "text": [
      "['ciao', 'b', 'c'] ['ciao', 'b', 'c']\n"
     ]
    }
   ],
   "source": [
    "l[0] = \"ciao\"\n",
    "print(l, m)"
   ]
  },
  {
   "cell_type": "markdown",
   "metadata": {},
   "source": [
    "Se si vuole effettivamente copiare una lista, nel senso di generare una nuova lista con lo stesso contenuto, si possono usare la funzione `list` o il metodo `copy()`."
   ]
  },
  {
   "cell_type": "code",
   "execution_count": 4,
   "metadata": {},
   "outputs": [
    {
     "name": "stdout",
     "output_type": "stream",
     "text": [
      "140062880030400 140062880283008 140062880347520\n"
     ]
    }
   ],
   "source": [
    "l1 = l.copy()\n",
    "l2 = list(l)\n",
    "# gli id di queste liste sono diversi: vuol dire che si tratta di oggetti distinti\n",
    "print(id(l), id(l1), id(l2))"
   ]
  },
  {
   "cell_type": "code",
   "execution_count": 7,
   "metadata": {},
   "outputs": [
    {
     "name": "stdout",
     "output_type": "stream",
     "text": [
      "['ciao', 'b', 'c']\n",
      "['ciao', 'b', 'c']\n"
     ]
    }
   ],
   "source": [
    "# le liste l1 ed l2 contengono comunque gli stessi elementi di l\n",
    "print(l1)\n",
    "print(l2)"
   ]
  },
  {
   "cell_type": "markdown",
   "metadata": {},
   "source": [
    "# Funzioni che modificano variabili sul posto"
   ]
  },
  {
   "cell_type": "markdown",
   "metadata": {},
   "source": [
    "Finora le funzioni che abbiamo scritte che operavano sulle liste o effettuvano solo operazioni di lettura, o generavano delle liste nuove, ma senza modificare le liste passate come paramentro. Consideriamo la funzione `reverse`."
   ]
  },
  {
   "cell_type": "code",
   "execution_count": 9,
   "metadata": {},
   "outputs": [],
   "source": [
    "def reverse(l):\n",
    "    \"\"\"\n",
    "    Restituisce una nuova lista ottenuta da l ma procedendo dall'ultimo al primo elemento.\n",
    "    \"\"\"\n",
    "    risultato = []\n",
    "    for i in range(len(l)-1, -1, -1):\n",
    "        risultato.append(l[i])\n",
    "    return risultato"
   ]
  },
  {
   "cell_type": "code",
   "execution_count": 10,
   "metadata": {},
   "outputs": [
    {
     "data": {
      "text/plain": [
       "[3, 2, 1]"
      ]
     },
     "execution_count": 10,
     "metadata": {},
     "output_type": "execute_result"
    }
   ],
   "source": [
    "l = [1,2,3]\n",
    "# chiamare reverse restituisce la lista [3,2,1], ma lascia inalterata l\n",
    "reverse(l)"
   ]
  },
  {
   "cell_type": "code",
   "execution_count": 11,
   "metadata": {},
   "outputs": [
    {
     "data": {
      "text/plain": [
       "[1, 2, 3]"
      ]
     },
     "execution_count": 11,
     "metadata": {},
     "output_type": "execute_result"
    }
   ],
   "source": [
    "l"
   ]
  },
  {
   "cell_type": "markdown",
   "metadata": {},
   "source": [
    "La funzione `reverse` si comporta quindi in maniera simile ai metodi che operano sulle stringhe come `lower` e `upper`, che generano una nuova stringa senza modificare quella originaria."
   ]
  },
  {
   "cell_type": "code",
   "execution_count": 12,
   "metadata": {},
   "outputs": [
    {
     "data": {
      "text/plain": [
       "'CIAO'"
      ]
     },
     "execution_count": 12,
     "metadata": {},
     "output_type": "execute_result"
    }
   ],
   "source": [
    "s = \"ciao\"\n",
    "# restitusice una nuova stringa \"CIAO\"\n",
    "s.upper()"
   ]
  },
  {
   "cell_type": "code",
   "execution_count": 13,
   "metadata": {},
   "outputs": [
    {
     "data": {
      "text/plain": [
       "'ciao'"
      ]
     },
     "execution_count": 13,
     "metadata": {},
     "output_type": "execute_result"
    }
   ],
   "source": [
    "# ma la stringa in s è rimasta inalterata\n",
    "s"
   ]
  },
  {
   "cell_type": "markdown",
   "metadata": {},
   "source": [
    "Inveve, i metodi come `pop`, `remove`, `append`, etc... non si comportano in questo modo: non resituiscono nulla ma invece modificano la lista di partenza."
   ]
  },
  {
   "cell_type": "code",
   "execution_count": 14,
   "metadata": {},
   "outputs": [],
   "source": [
    "l = [4,5,6]\n",
    "# append aggiunge un nuovo elemento alla lista: non restituisce nulla!!\n",
    "l.append(10)"
   ]
  },
  {
   "cell_type": "code",
   "execution_count": 15,
   "metadata": {},
   "outputs": [
    {
     "data": {
      "text/plain": [
       "[4, 5, 6, 10]"
      ]
     },
     "execution_count": 15,
     "metadata": {},
     "output_type": "execute_result"
    }
   ],
   "source": [
    "# ma dopo la sua esecuzione il valore di l è alterato\n",
    "l"
   ]
  },
  {
   "cell_type": "markdown",
   "metadata": {},
   "source": [
    "Vogliamo scrivere una versione di `reverse` che si comporta come `append`, ovvero che non genera una nuova lista, ma modifica quella di partenza. Funzioni che modificano i parametri passati in input si dice che hanno *effetti collaterali* o anche che effettuano modifiche *sul posto* (*in place* in inglese)."
   ]
  },
  {
   "cell_type": "markdown",
   "metadata": {},
   "source": [
    "## Come scambiare il valore di due variabili\n",
    "\n",
    "Piccola parentesi, che sarà necessaria per la scrittura della nuova versione di `reverse`: come si scambiano due variabili ?"
   ]
  },
  {
   "cell_type": "code",
   "execution_count": 21,
   "metadata": {},
   "outputs": [
    {
     "name": "stdout",
     "output_type": "stream",
     "text": [
      "5 2\n"
     ]
    }
   ],
   "source": [
    "a = 5\n",
    "b = 2\n",
    "print(a, b)"
   ]
  },
  {
   "cell_type": "code",
   "execution_count": 22,
   "metadata": {},
   "outputs": [
    {
     "name": "stdout",
     "output_type": "stream",
     "text": [
      "2 2\n"
     ]
    }
   ],
   "source": [
    "# Questo metodo non funziona, perché i due assegnamenti vengono svolti uno dopo l'altro:\n",
    "# - la prima istruzione (a = b) sovrascrive il valore di a con 2\n",
    "# - quando la seconda istruzione viene eseguita, ormai a vale 2 e non più 5\n",
    "a = b\n",
    "b = a\n",
    "print(a, b)"
   ]
  },
  {
   "cell_type": "code",
   "execution_count": 27,
   "metadata": {},
   "outputs": [
    {
     "name": "stdout",
     "output_type": "stream",
     "text": [
      "5 2\n"
     ]
    }
   ],
   "source": [
    "# Reimpostiamo a e b per fare un altro esperimento\n",
    "a = 5\n",
    "b = 2\n",
    "print(a, b)"
   ]
  },
  {
   "cell_type": "markdown",
   "metadata": {},
   "source": [
    "Per poter scambiare il valore di due variabili, occorre una terza variabile di appoggio dove salvare il valore della prima variabile che andiamo a sovrascrivere (`a` nel caso di sopra)."
   ]
  },
  {
   "cell_type": "code",
   "execution_count": 28,
   "metadata": {},
   "outputs": [
    {
     "name": "stdout",
     "output_type": "stream",
     "text": [
      "2 5\n"
     ]
    }
   ],
   "source": [
    "# salvo il valore di a nella variabile tmp\n",
    "tmp = a\n",
    "a = b\n",
    "b = tmp\n",
    "print(a, b)"
   ]
  },
  {
   "cell_type": "markdown",
   "metadata": {},
   "source": [
    "## La funzione `reverse_inplace`"
   ]
  },
  {
   "cell_type": "markdown",
   "metadata": {},
   "source": [
    "Quando si progetta un algoritmo, può essere utile pensare come noi come esseri umano potremmo risolvere quel problema nel mondo fisico. Al posto di una lista, supponiamo di avere una fila di carte da gioco, delle quali vogliamo invertire l'ordine. Il fatto che non vogliamo creare una nuova lista vuol dire che noi possiamo spostare queste carte e tenerle nelle mani, ma non possiamo utilizzare spazio sul tavolo per una seconda lista di carte.\n",
    "\n",
    "Un modo per risolvere il problema potrebbe essere questo:\n",
    "  * scambia la prima e l'ultima carta\n",
    "  * scambia la seconda e la penultima\n",
    "  * ....\n",
    "  * ripeti finché hai scambiato tutte le carte\n",
    "\n",
    "Cerchiamo di scrivere queste istruzioni in modo che assomiglino di più ad uno pseudo-codice:\n",
    "  * ripetere per ogni carta, a partire da quella più a sinistra fino a quella centrale\n",
    "    * scambia la carta considerata e quella che occupa la stessa posizione a partire da destra"
   ]
  },
  {
   "cell_type": "markdown",
   "metadata": {},
   "source": [
    "Un primo pseudocodice può quindi essere:\n",
    "```python\n",
    "def reverse_inplace(l):\n",
    "    for i in range(0, ultimo posizione da scambiare):\n",
    "        # scambia l[i] con corrispondente elemento a partire dall'ultimo\n",
    "```"
   ]
  },
  {
   "cell_type": "markdown",
   "metadata": {},
   "source": [
    "Abbiamo visto prima come si scambiano due variabili tra di loro, ci rimane quindi da capire:\n",
    "  * qual è l'ultima posizione da scambiare\n",
    "  * quale elemento di `l` corrisponde all'emento `i` ma a partire dall'ultimo."
   ]
  },
  {
   "cell_type": "markdown",
   "metadata": {},
   "source": [
    "Per il secondo punto, notare che:\n",
    "  * All'elemento in posizione 0 corrisponde all'elemento in posizione len(l)-1\n",
    "  * All'elemento in posizione 1 corrisponde all'elemento in posizione len(l)-2\n",
    "  * In generale, all'elemento in posizione i corrisponde all'elemento in posizione len(l) - 1 - i"
   ]
  },
  {
   "cell_type": "markdown",
   "metadata": {},
   "source": [
    "Per il primo punto, invece, è ovvio che in qualche modo bisogna scambiare gli elementi dalla posizione 0 alla posizione di circa `len(l) // 2`, bisogna capire se a questo `len(l) // 2` bisogna aggiungere o togliere il numero 1. Facciamo qualche esempio:\n",
    "  * se ci sono 4 elementi, le cui posizioni sono 0 1 2 3, dobbiamo scambiare l'elemento 0 (con 3) e 1 (con 2). Ovvero l'ultimo elemento da scambiare è quello in posizione `4 // 2 - 1 = 1`\n",
    "  * se ci sono 5 elementi, le cui posizioni sono 0 1 2 3 4, scambiare ancora l'elemento 0 (con 3) e 1 (con 2). Ovvero l'ultimo elemento da scambiare è quello in posizione `5 // 2 - 1 = 1` \n",
    "  \n",
    "Dunque l'ultimo elemento da scambiare è quello in posizione `len(l) // 2 - 1`.\n",
    "\n",
    "Siamo pronti a scrivere il codice."
   ]
  },
  {
   "cell_type": "code",
   "execution_count": 47,
   "metadata": {},
   "outputs": [],
   "source": [
    "def reverse_inplace(l):\n",
    "    \"\"\"\n",
    "    Inverte l'ordine degli elementi della lista l.\n",
    "    \"\"\"\n",
    "    # Notare che l'ultimo elemento da scambiare è quello in posizione len(l)//2 - 1\n",
    "    # nel range devo mettere len(l) // 2 perché il valore destro del range è escluso.\n",
    "    for i in range(0, len(l) // 2):\n",
    "        # scambiamo l[i] ed l[len(l) - i - 1]\n",
    "        tmp = l[len(l) - i - 1]\n",
    "        l[len(l) - i - 1] = l[i]\n",
    "        l[i] = tmp"
   ]
  },
  {
   "cell_type": "markdown",
   "metadata": {},
   "source": [
    "Proviamo se funziona."
   ]
  },
  {
   "cell_type": "code",
   "execution_count": 31,
   "metadata": {},
   "outputs": [],
   "source": [
    "l = [\"a\", \"b\", \"c\"]\n",
    "m = l"
   ]
  },
  {
   "cell_type": "code",
   "execution_count": 32,
   "metadata": {},
   "outputs": [],
   "source": [
    "reverse_inplace(l)"
   ]
  },
  {
   "cell_type": "markdown",
   "metadata": {},
   "source": [
    "La funzione `reverse_inplace` sembra non abbia fatto nulla, ma in realà ha modifica il valore della lista `l` ( e quindi anche del suo alias `m`)."
   ]
  },
  {
   "cell_type": "code",
   "execution_count": 33,
   "metadata": {},
   "outputs": [
    {
     "name": "stdout",
     "output_type": "stream",
     "text": [
      "['c', 'b', 'a']\n",
      "['c', 'b', 'a']\n"
     ]
    }
   ],
   "source": [
    "print(l)\n",
    "print(m)"
   ]
  },
  {
   "cell_type": "markdown",
   "metadata": {},
   "source": [
    "## Esecuzione passo-passo di `reverse_inplace`"
   ]
  },
  {
   "cell_type": "markdown",
   "metadata": {},
   "source": [
    "Vediamo di provare ad eseguire passo-passo la funzione `reverse_inplace`. Non usiamo come al solito il modulo per l'esecuzione passo passo, perché vogliamo evidenziare con più precisione il contenuto di heap e stack. Consideriamo il seguente programma."
   ]
  },
  {
   "cell_type": "code",
   "execution_count": null,
   "metadata": {},
   "outputs": [],
   "source": [
    "def reverse_inplace(l):\n",
    "    \"\"\"\n",
    "    Inverte l'ordine degli elementi della lista l.\n",
    "    \"\"\"\n",
    "    # Notare che l'ultimo elemento da scambiare è quello in posizione len(l)//2 - 1\n",
    "    # nel range devo mettere len(l) // 2 perché il valore destro del range è escluso.\n",
    "    for i in range(0, len(l) // 2):\n",
    "        # scambiamo l[i] ed l[len(l) - i - 1]\n",
    "        tmp = l[len(l) - i - 1]\n",
    "        l[len(l) - i - 1] = l[i]\n",
    "        l[i] = tmp\n",
    "\n",
    "k = [1, 2, 3]\n",
    "l = k\n",
    "reverse_inplace(l)"
   ]
  },
  {
   "attachments": {
    "image.png": {
     "image/png": "[encoded data removed]"
    }
   },
   "cell_type": "markdown",
   "metadata": {},
   "source": [
    "Dopo l'esecuzione delle linee 13 e 14, la situazione è la seguente:\n",
    "\n",
    "![image.png](attachment:image.png)\n",
    "\n",
    "Notare che:\n",
    "* `m` e `k` si riferiscono allo stesso oggetto;\n",
    "* siamo stati particolarmente pedanti, e invece di mettere 1, 2 e 3 dentro la lista l, abbiamo più correttamente inserito dentro la lista dei riferimenti (frecce) a tre zone nello heap che contengono i numeri 1, 2 e 3 rispettivamente. Tale precisione è eccessiva quando si ha a che fare con i tipi immutabili, ma per una volta abbiamo voluto fare tutto con la massima precisione."
   ]
  },
  {
   "attachments": {
    "image.png": {
     "image/png": "[encoded data removed]"
    }
   },
   "cell_type": "markdown",
   "metadata": {},
   "source": [
    "Alla riga 15 c'è la chiamata di funzione. Quello che succede è che:\n",
    "* Le variabili `k` ed  `m` diventano *invisibili*: sono ancora lì, ma non vi si può accedere.\n",
    "* Nello stack viene creata una nuova zona dedicata alle variabili locali: questa zona si chiama *record di attivazione*.\n",
    "* Il valore dell'argomento `k` viene copiato nel paramatro `l`: per valore di `k` si intende il riferimento contenuto in `k`. Il risultato è che `l` punta allo stesso oggetto nello heap di `l` (in sostanza, è come se fosse stato eseguito l'assegnamento `l = k`).\n",
    "\n",
    "![image.png](attachment:image.png)"
   ]
  },
  {
   "attachments": {
    "image.png": {
     "image/png": "[encoded data removed]"
    }
   },
   "cell_type": "markdown",
   "metadata": {},
   "source": [
    "Con l'esecuzione della riga 8, viene creata una nuova variabile locale `i` che ha valore 0, e una nuova variabile locale `tmp` che ha valore uguale all'elemento in posizione `len(l) - i - 1 = 3 - 0 - 1 = 2` di `l`. Ancora una volta, non è che il valore in `l[2]` viene duplicato, ma la variabile `tmp` punta allo stesso oggetto di `l[2]`.\n",
    "\n",
    "![image.png](attachment:image.png)"
   ]
  },
  {
   "attachments": {
    "image.png": {
     "image/png": "[encoded data removed]"
    }
   },
   "cell_type": "markdown",
   "metadata": {},
   "source": [
    "La riga 10 copia in `l[2]` il valore di `l[0]`. Ancora una volta, quello che vengono cambiati solo i rifetimenti.\n",
    "\n",
    "![image.png](attachment:image.png)"
   ]
  },
  {
   "attachments": {
    "image.png": {
     "image/png": "[encoded data removed]"
    }
   },
   "cell_type": "markdown",
   "metadata": {},
   "source": [
    "Infine, la riga 11 copia (il riferimento di) `tmp` in `l[0]`.\n",
    "\n",
    "![image.png](attachment:image.png)"
   ]
  },
  {
   "attachments": {
    "image.png": {
     "image/png": "[encoded data removed]"
    }
   },
   "cell_type": "markdown",
   "metadata": {},
   "source": [
    "Il ciclo `for` non viene eseguito ulteriormente, e quindi si esce dalla funzione `reverse_inplace`. Il risultato è che il record di attivazione della funzione `reverse_inplace` viene distrutto, e la situazione diventa questa:\n",
    "\n",
    "![image.png](attachment:image.png)"
   ]
  },
  {
   "cell_type": "markdown",
   "metadata": {},
   "source": [
    "Dunque `k` ed `m` sono alias, ed entrambi uguali a `[3, 2, 1]`."
   ]
  },
  {
   "cell_type": "markdown",
   "metadata": {},
   "source": [
    "## Altri esempi\n",
    "\n",
    "Vediamo adesso un altro esempio di funzione che modifica l'input sul posto, rimpiendo tutti gli elementi di una lista con uno stesso valore."
   ]
  },
  {
   "cell_type": "code",
   "execution_count": 35,
   "metadata": {},
   "outputs": [],
   "source": [
    "def fill_inplace(l, x):\n",
    "    \"\"\"\n",
    "    Rimpiazza tutti gli elementi di l con x.\n",
    "    \"\"\"\n",
    "    for i in range(len(l)):\n",
    "        l[i] = x"
   ]
  },
  {
   "cell_type": "code",
   "execution_count": 36,
   "metadata": {},
   "outputs": [],
   "source": [
    "l = [\"a\", \"b\", \"c\"]\n",
    "fill_inplace(l, 99)"
   ]
  },
  {
   "cell_type": "code",
   "execution_count": 37,
   "metadata": {},
   "outputs": [
    {
     "data": {
      "text/plain": [
       "[99, 99, 99]"
      ]
     },
     "execution_count": 37,
     "metadata": {},
     "output_type": "execute_result"
    }
   ],
   "source": [
    "l"
   ]
  },
  {
   "cell_type": "markdown",
   "metadata": {},
   "source": [
    "# Le tuple"
   ]
  },
  {
   "cell_type": "markdown",
   "metadata": {},
   "source": [
    "Abbiamo detto varie volte che le liste sono tipi di dato mutabili. Tuttavia, Python mette a disposizione un altro tipo di dato, le tuple, che sono come le liste ma sono immutabili."
   ]
  },
  {
   "cell_type": "code",
   "execution_count": 43,
   "metadata": {},
   "outputs": [
    {
     "data": {
      "text/plain": [
       "[1, 2, 3]"
      ]
     },
     "execution_count": 43,
     "metadata": {},
     "output_type": "execute_result"
    }
   ],
   "source": [
    "# Questa è una lista\n",
    "[1, 2, 3]"
   ]
  },
  {
   "cell_type": "code",
   "execution_count": 38,
   "metadata": {},
   "outputs": [
    {
     "data": {
      "text/plain": [
       "list"
      ]
     },
     "execution_count": 38,
     "metadata": {},
     "output_type": "execute_result"
    }
   ],
   "source": [
    "# Il tipo di una lista è `list`\n",
    "type([1, 2, 3])"
   ]
  },
  {
   "cell_type": "markdown",
   "metadata": {},
   "source": [
    "Una lista si scrive come una tupla, ma senza le parentesi quadre."
   ]
  },
  {
   "cell_type": "code",
   "execution_count": 39,
   "metadata": {},
   "outputs": [
    {
     "data": {
      "text/plain": [
       "(1, 2, 3)"
      ]
     },
     "execution_count": 39,
     "metadata": {},
     "output_type": "execute_result"
    }
   ],
   "source": [
    "# Questa è una tupla\n",
    "1, 2, 3"
   ]
  },
  {
   "cell_type": "code",
   "execution_count": 40,
   "metadata": {},
   "outputs": [
    {
     "data": {
      "text/plain": [
       "tuple"
      ]
     },
     "execution_count": 40,
     "metadata": {},
     "output_type": "execute_result"
    }
   ],
   "source": [
    "t = 1,2,3\n",
    "type(t)"
   ]
  },
  {
   "cell_type": "markdown",
   "metadata": {},
   "source": [
    "Tutto ciò che si può fare con le liste che non comporti modifiche su può fare anche sulle tuple."
   ]
  },
  {
   "cell_type": "code",
   "execution_count": 41,
   "metadata": {},
   "outputs": [
    {
     "data": {
      "text/plain": [
       "1"
      ]
     },
     "execution_count": 41,
     "metadata": {},
     "output_type": "execute_result"
    }
   ],
   "source": [
    "# Accesso ad un elemento\n",
    "t[0]"
   ]
  },
  {
   "cell_type": "code",
   "execution_count": 42,
   "metadata": {},
   "outputs": [
    {
     "name": "stdout",
     "output_type": "stream",
     "text": [
      "1\n",
      "2\n",
      "3\n"
     ]
    }
   ],
   "source": [
    "# Cicli\n",
    "for i in t:\n",
    "    print(i)"
   ]
  },
  {
   "cell_type": "code",
   "execution_count": 43,
   "metadata": {},
   "outputs": [
    {
     "ename": "TypeError",
     "evalue": "'tuple' object does not support item assignment",
     "output_type": "error",
     "traceback": [
      "\u001b[0;31m---------------------------------------------------------------------------\u001b[0m",
      "\u001b[0;31mTypeError\u001b[0m                                 Traceback (most recent call last)",
      "\u001b[1;32m/home/amato/Nextcloud/Didattica/programmazione-python/notebooks/programmazione/notebook_231121.ipynb Cell 48\u001b[0m line \u001b[0;36m2\n\u001b[1;32m      <a href='vscode-notebook-cell:/home/amato/Nextcloud/Didattica/programmazione-python/notebooks/programmazione/notebook_231121.ipynb#X63sZmlsZQ%3D%3D?line=0'>1</a>\u001b[0m \u001b[39m# Questo non è ammesso\u001b[39;00m\n\u001b[0;32m----> <a href='vscode-notebook-cell:/home/amato/Nextcloud/Didattica/programmazione-python/notebooks/programmazione/notebook_231121.ipynb#X63sZmlsZQ%3D%3D?line=1'>2</a>\u001b[0m t[\u001b[39m0\u001b[39;49m] \u001b[39m=\u001b[39m \u001b[39m'\u001b[39m\u001b[39mciao\u001b[39m\u001b[39m'\u001b[39m\n",
      "\u001b[0;31mTypeError\u001b[0m: 'tuple' object does not support item assignment"
     ]
    }
   ],
   "source": [
    "# Questo non è ammesso\n",
    "t[0] = 'ciao'"
   ]
  },
  {
   "cell_type": "code",
   "execution_count": 44,
   "metadata": {},
   "outputs": [
    {
     "ename": "AttributeError",
     "evalue": "'tuple' object has no attribute 'append'",
     "output_type": "error",
     "traceback": [
      "\u001b[0;31m---------------------------------------------------------------------------\u001b[0m",
      "\u001b[0;31mAttributeError\u001b[0m                            Traceback (most recent call last)",
      "\u001b[1;32m/home/amato/Nextcloud/Didattica/programmazione-python/notebooks/programmazione/notebook_231121.ipynb Cell 49\u001b[0m line \u001b[0;36m2\n\u001b[1;32m      <a href='vscode-notebook-cell:/home/amato/Nextcloud/Didattica/programmazione-python/notebooks/programmazione/notebook_231121.ipynb#X64sZmlsZQ%3D%3D?line=0'>1</a>\u001b[0m \u001b[39m# Il metodo append non esiste\u001b[39;00m\n\u001b[0;32m----> <a href='vscode-notebook-cell:/home/amato/Nextcloud/Didattica/programmazione-python/notebooks/programmazione/notebook_231121.ipynb#X64sZmlsZQ%3D%3D?line=1'>2</a>\u001b[0m t\u001b[39m.\u001b[39;49mappend(\u001b[39m\"\u001b[39m\u001b[39mciao\u001b[39m\u001b[39m\"\u001b[39m)\n",
      "\u001b[0;31mAttributeError\u001b[0m: 'tuple' object has no attribute 'append'"
     ]
    }
   ],
   "source": [
    "# Il metodo append non esiste\n",
    "t.append(\"ciao\")"
   ]
  },
  {
   "cell_type": "markdown",
   "metadata": {},
   "source": [
    "## Assegnamenti multipli\n",
    "\n",
    "La cosa interessante delle tuple è che è possibile assegnare il valore dei componenti delle tuple a singole variabili."
   ]
  },
  {
   "cell_type": "code",
   "execution_count": 48,
   "metadata": {},
   "outputs": [],
   "source": [
    "t = 4,5,6"
   ]
  },
  {
   "cell_type": "markdown",
   "metadata": {},
   "source": [
    "Se vogliamo assegnare i tre elmenti di `t` alle variabili `a`, `b` e `c` rispettivamente, un modo è quello classico con tre assegnamenti per accedere ai tre elementi della tupla."
   ]
  },
  {
   "cell_type": "code",
   "execution_count": 49,
   "metadata": {},
   "outputs": [
    {
     "name": "stdout",
     "output_type": "stream",
     "text": [
      "4 5 6\n"
     ]
    }
   ],
   "source": [
    "a = t[0]\n",
    "b = t[1]\n",
    "c = t[2]\n",
    "print(a, b, c)"
   ]
  },
  {
   "cell_type": "markdown",
   "metadata": {},
   "source": [
    "Tuttavia, un altro modo consiste nel mettere a sinistra dell'uguale le tre variabili a cui vogliamo assegnare i valori della tupla, separate da virgola."
   ]
  },
  {
   "cell_type": "code",
   "execution_count": 50,
   "metadata": {},
   "outputs": [],
   "source": [
    "t = \"ciao\", \"sono\", \"io\""
   ]
  },
  {
   "cell_type": "code",
   "execution_count": 56,
   "metadata": {},
   "outputs": [
    {
     "name": "stdout",
     "output_type": "stream",
     "text": [
      "ciao sono io\n"
     ]
    }
   ],
   "source": [
    "a, b, c = t\n",
    "print(a, b, c)"
   ]
  },
  {
   "cell_type": "markdown",
   "metadata": {},
   "source": [
    "Se il numero di variabili a sinistra dell'uguale è sbagliato, si ottiene un errore."
   ]
  },
  {
   "cell_type": "code",
   "execution_count": 55,
   "metadata": {},
   "outputs": [
    {
     "ename": "ValueError",
     "evalue": "too many values to unpack (expected 2)",
     "output_type": "error",
     "traceback": [
      "\u001b[0;31m---------------------------------------------------------------------------\u001b[0m",
      "\u001b[0;31mValueError\u001b[0m                                Traceback (most recent call last)",
      "\u001b[1;32m/home/amato/Nextcloud/Didattica/programmazione-python/notebooks/programmazione/notebook_231121.ipynb Cell 58\u001b[0m line \u001b[0;36m1\n\u001b[0;32m----> <a href='vscode-notebook-cell:/home/amato/Nextcloud/Didattica/programmazione-python/notebooks/programmazione/notebook_231121.ipynb#Y163sZmlsZQ%3D%3D?line=0'>1</a>\u001b[0m a, b \u001b[39m=\u001b[39m t\n",
      "\u001b[0;31mValueError\u001b[0m: too many values to unpack (expected 2)"
     ]
    }
   ],
   "source": [
    "a, b = t"
   ]
  },
  {
   "cell_type": "markdown",
   "metadata": {},
   "source": [
    "In realtà questo meccanismo funziona anche con le liste."
   ]
  },
  {
   "cell_type": "code",
   "execution_count": 54,
   "metadata": {},
   "outputs": [
    {
     "name": "stdout",
     "output_type": "stream",
     "text": [
      "10 20 30\n"
     ]
    }
   ],
   "source": [
    "l = [10, 20, 30]\n",
    "a, b, c = l\n",
    "print(a, b, c)"
   ]
  },
  {
   "cell_type": "markdown",
   "metadata": {},
   "source": [
    "Questo metodo si può usare anche per assegnare contemporaneamente più variabili in una unica istruzione di assegnamento."
   ]
  },
  {
   "cell_type": "code",
   "execution_count": 58,
   "metadata": {},
   "outputs": [],
   "source": [
    "# Assegna ad a la stringa \"ciao\" e alla variabile b l'intero 23\n",
    "a, b = \"ciao\", 23"
   ]
  },
  {
   "cell_type": "markdown",
   "metadata": {},
   "source": [
    "Il tutto funziona perché `\"ciao\", 23` costruisce una tupla il cui primo elemento è `\"ciao\"` e il secondo e `23`, e l'assegnamento distribuisce questi due valori sulle variabili `a` e `b`. In questo modo è possibile scambiare il valore di due variabili senza avere bisogno di una variabile temporanea."
   ]
  },
  {
   "cell_type": "code",
   "execution_count": 60,
   "metadata": {},
   "outputs": [
    {
     "name": "stdout",
     "output_type": "stream",
     "text": [
      "10 20\n",
      "20 10\n"
     ]
    }
   ],
   "source": [
    "a, b = 10, 20\n",
    "print(a, b)\n",
    "a, b = b, a\n",
    "print(a, b)"
   ]
  },
  {
   "cell_type": "markdown",
   "metadata": {},
   "source": [
    "## Funzioni che restituiscono più valori\n",
    "\n",
    "Un utilizzo comune delle tuple è quando una funzione vuole restituire più valori. È una cosa che abbiamo già visto con il metodo `getMouse` della libreria ezgraphics. Per acquisire il punto dove è stato effettuato il click del mouse, l'istruzione che abbianmo usato è \n",
    "```python\n",
    "x, y = win.getMouse()\n",
    "```"
   ]
  },
  {
   "cell_type": "markdown",
   "metadata": {},
   "source": [
    "In realtà, il metodo `getMouse` non restituisce più valori, ma una tupla contenente le coordinate `x` ed `y` del click. Vediamo ora di realizzare noi una funzione di questo tipo. La funzione che segue determina sia l'area che il perimetro di una rettangolo di data base ed altezza."
   ]
  },
  {
   "cell_type": "code",
   "execution_count": 61,
   "metadata": {},
   "outputs": [],
   "source": [
    "def area_perimetro_rettangolo(base, altezza):\n",
    "    \"\"\"\n",
    "    Restitusice la tuple (a, p) dove a è l'area e p il perimetro di un rettangolo di data base e altezza.\n",
    "    \"\"\"\n",
    "    area = base * altezza\n",
    "    perimetro = 2* (base + altezza)\n",
    "    return area, perimetro"
   ]
  },
  {
   "cell_type": "code",
   "execution_count": 62,
   "metadata": {},
   "outputs": [
    {
     "data": {
      "text/plain": [
       "(10, 14)"
      ]
     },
     "execution_count": 62,
     "metadata": {},
     "output_type": "execute_result"
    }
   ],
   "source": [
    "# Se chiamo la funzione di cui sopra, mi restituisce una tupla\n",
    "area_perimetro_rettangolo(2, 5)"
   ]
  },
  {
   "cell_type": "code",
   "execution_count": 63,
   "metadata": {},
   "outputs": [
    {
     "name": "stdout",
     "output_type": "stream",
     "text": [
      "10 14\n"
     ]
    }
   ],
   "source": [
    "# Posso chiamare la funzione e contemporaneamente assegnare i due elementi della tupla\n",
    "# a due variabili distinte\n",
    "a, p = area_perimetro_rettangolo(2, 5)\n",
    "print(a, p)"
   ]
  },
  {
   "cell_type": "markdown",
   "metadata": {},
   "source": [
    "Questa cosa funzionerebbe anche restituendo una lista invece di una tupla. Perché allora usare una tupla ? In generale, è molto più efficiente costruire una tupla con pochi elementi che una lista con molti elementi, quindi le tuple sono da preferire in questo tipo di applicazione."
   ]
  },
  {
   "cell_type": "markdown",
   "metadata": {},
   "source": [
    "## Funzioni che accettano un numero variabile di argomenti"
   ]
  },
  {
   "cell_type": "markdown",
   "metadata": {},
   "source": [
    "Un'altra applicazione delle tuple è per scrivere una funzione che accettano un numero variabile di parametri. Esempi di queste funzoni in Python sono `print`, `min` e `max`. Ma come possiamo scrivere una funzione di questo tipo ? È sufficiente mettere un asterisco `*` davanti al nome dell'ultimo parametro della funzione. L'asterisco sta ad indicare che li argomenti successivi verrano tutti impacchettati in una tupla che verrà poi copiata in quel parametro."
   ]
  },
  {
   "cell_type": "code",
   "execution_count": 65,
   "metadata": {},
   "outputs": [],
   "source": [
    "def somma_tutto(*args):\n",
    "    # Tutti gli argomenti di somma_tutto verranno inseriti in args sotto forma di tupla.\n",
    "    \"\"\"\n",
    "    Restuisce la somma_tutto di tutti i parametri in input. Ad esempio,\n",
    "    somma(2, 3, 5) restituirà 10.\n",
    "    \"\"\"\n",
    "    # Il codice che segue è identico a quello che abbiamo già scritto che esegue\n",
    "    # la somma degli elementi di una lista, solo che args non è una lista ma una\n",
    "    # tupla.\n",
    "    risultato = 0\n",
    "    for x in args:\n",
    "        risultato += x\n",
    "    return risultato"
   ]
  },
  {
   "cell_type": "markdown",
   "metadata": {},
   "source": [
    "Il parametro `args` viene talvolta chiamato *argomento a lunghezza variable* (*variable-length argument* in inglese, anche noto con l'abbreviazione di *vararg*)."
   ]
  },
  {
   "cell_type": "code",
   "execution_count": 66,
   "metadata": {},
   "outputs": [
    {
     "data": {
      "text/plain": [
       "14"
      ]
     },
     "execution_count": 66,
     "metadata": {},
     "output_type": "execute_result"
    }
   ],
   "source": [
    "somma_tutto(3, 5, 6)"
   ]
  },
  {
   "cell_type": "code",
   "execution_count": 67,
   "metadata": {},
   "outputs": [
    {
     "data": {
      "text/plain": [
       "0"
      ]
     },
     "execution_count": 67,
     "metadata": {},
     "output_type": "execute_result"
    }
   ],
   "source": [
    "somma_tutto()"
   ]
  },
  {
   "cell_type": "markdown",
   "metadata": {},
   "source": [
    "Si nodi che il codice di `somma_tutto` è praticamente identico al codice di `somma_lista` della lezione precedente, che copio qui."
   ]
  },
  {
   "cell_type": "code",
   "execution_count": 68,
   "metadata": {},
   "outputs": [],
   "source": [
    "def somma_lista(l):\n",
    "    \"\"\"Restituisce la somma degli elementi di l.\"\"\"\n",
    "    somma = 0\n",
    "    for e in l:\n",
    "        somma += e\n",
    "    return somma"
   ]
  },
  {
   "cell_type": "markdown",
   "metadata": {},
   "source": [
    "La differenza è essenzialmente nel parametro, che in `somma_lista` appare normale, mentre in `somma_tutto` appare con l'asterisco. Questo vuol dire che l'argomento di `somma_lista` prende un unico parametro, che può essere una lista, o un numero, o un qualunque tipo si possa \"scorrere\" con `for`, mentre `somma_tutto` prende un numero variabile di argomenti che saranno da Python stessi impacchettati in una tupla."
   ]
  },
  {
   "cell_type": "code",
   "execution_count": 69,
   "metadata": {},
   "outputs": [
    {
     "name": "stdout",
     "output_type": "stream",
     "text": [
      "12\n",
      "12\n"
     ]
    }
   ],
   "source": [
    "# In somma_tutto gli elementi da sommare vanno scritti come differenti argomenti della funzione\n",
    "print(somma_tutto(3, 4, 5))\n",
    "# In somma_lista gli elementi da sommare vanno inseriri in una lista, che sarà l'unico argomento della funzione\n",
    "print(somma_lista([3, 4, 5]))\n"
   ]
  },
  {
   "cell_type": "markdown",
   "metadata": {},
   "source": [
    "Si noti che con il comando `help(print)` compare l'help in linea del comand `print`, dove si vede che il primo parametro è `*args`, proprio come nel nostro esempio. Attenzione che:\n",
    "  * può esserci un solo parametro con l'asterisco;\n",
    "  * non è necessario chiamare `args` il nome di questo parametro, anche se è consuetudine.\n"
   ]
  },
  {
   "cell_type": "code",
   "execution_count": 74,
   "metadata": {},
   "outputs": [
    {
     "name": "stdout",
     "output_type": "stream",
     "text": [
      "Help on built-in function print in module builtins:\n",
      "\n",
      "print(*args, sep=' ', end='\\n', file=None, flush=False)\n",
      "    Prints the values to a stream, or to sys.stdout by default.\n",
      "\n",
      "    sep\n",
      "      string inserted between values, default a space.\n",
      "    end\n",
      "      string appended after the last value, default a newline.\n",
      "    file\n",
      "      a file-like object (stream); defaults to the current sys.stdout.\n",
      "    flush\n",
      "      whether to forcibly flush the stream.\n",
      "\n"
     ]
    }
   ],
   "source": [
    "help(print)"
   ]
  },
  {
   "cell_type": "markdown",
   "metadata": {},
   "source": [
    "# Misura del tempo di esecuzione"
   ]
  },
  {
   "cell_type": "markdown",
   "metadata": {},
   "source": [
    "Fin'ora abbiamo ignorato del tutto considerazioni sul tempo di esecuzione dei programmi. Praticamente tutti i programmi che abbiamo provato hanno tempi di esecuzione istantanei (a parte i programmi di elaborazione delle immagini). Tuttavia, i tempi erano istantanei anche perché i dati su cui applicarli erano piccoli. Ma quando la quantità dei dati da elaborare cresce, possono nascere problemi.\n",
    "\n",
    "Vedremo adesso come misurare il tempo di esecuzione dei programmi. In particolare, vogliamo studiare il problema di trovare un elemento in una lista: nella lezione del 16 novembre abbiamo chiamato questa funzione `cerca`, qui ne riscrivo il codice con il nome di `linear_search`."
   ]
  },
  {
   "cell_type": "code",
   "execution_count": 29,
   "metadata": {},
   "outputs": [],
   "source": [
    "def linear_search(l, x):\n",
    "    \"\"\"\n",
    "    Restituisce la posizione di x in l se esiste, altrimenti restituisce -1.\n",
    "    \"\"\"\n",
    "    for i in range(len(l)):\n",
    "        if l[i] == x:\n",
    "            return i\n",
    "    return -1"
   ]
  },
  {
   "cell_type": "markdown",
   "metadata": {},
   "source": [
    "Questo algoritmo è effettivamente con il nome di *riceca lineare* o *ricerca sequenziale*. Si tratta del primo algoritmo a cui diamo un nome, non tanto per merito suo, quanto per distignuerlo dall'algoritmo molto più sofisticato di *ricerca binaria* che vedremo in una prossima lezione."
   ]
  },
  {
   "cell_type": "markdown",
   "metadata": {},
   "source": [
    "Siccome vogliamo provare le prestazioni di questo algoritmo, ha senso utilizzare una lista abbastanza lunga su cui testarlo.  Per far ciò, utilizziamo il file *words.txt* che contiene una serie di parole prese da un dizionario inglese, che carichiamo e inseriamo nella lista words con il codice qui sotto (potete igorare il codice)."
   ]
  },
  {
   "cell_type": "code",
   "execution_count": 31,
   "metadata": {},
   "outputs": [],
   "source": [
    "with open(\"words.txt\", \"r\") as f:\n",
    "    words = f.read().splitlines()\n",
    "words.sort()"
   ]
  },
  {
   "cell_type": "code",
   "execution_count": 32,
   "metadata": {},
   "outputs": [
    {
     "data": {
      "text/plain": [
       "['&c',\n",
       " \"'d\",\n",
       " \"'em\",\n",
       " \"'ll\",\n",
       " \"'m\",\n",
       " \"'mid\",\n",
       " \"'midst\",\n",
       " \"'mongst\",\n",
       " \"'prentice\",\n",
       " \"'re\",\n",
       " \"'s\",\n",
       " \"'sblood\",\n",
       " \"'sbodikins\",\n",
       " \"'sdeath\",\n",
       " \"'sfoot\",\n",
       " \"'sheart\",\n",
       " \"'shun\",\n",
       " \"'slid\",\n",
       " \"'slife\",\n",
       " \"'slight\",\n",
       " \"'snails\",\n",
       " \"'strewth\",\n",
       " \"'t\",\n",
       " \"'til\",\n",
       " \"'tis\",\n",
       " \"'twas\",\n",
       " \"'tween\",\n",
       " \"'tween-decks\",\n",
       " \"'twere\",\n",
       " \"'twill\",\n",
       " \"'twixt\",\n",
       " \"'twould\",\n",
       " \"'un\",\n",
       " \"'ve\",\n",
       " '-i-',\n",
       " \"-n't\",\n",
       " '-o-',\n",
       " \"-s'\",\n",
       " '10-point',\n",
       " '1080',\n",
       " '10th',\n",
       " '11-point',\n",
       " '12-point',\n",
       " '16-point',\n",
       " '18-point',\n",
       " '1st',\n",
       " '2',\n",
       " '2,4,5-t',\n",
       " '2,4-d',\n",
       " '20-point',\n",
       " '2D',\n",
       " '2nd',\n",
       " '3-D',\n",
       " '30-30',\n",
       " '3D',\n",
       " '3M',\n",
       " '3rd',\n",
       " '4-D',\n",
       " '48-point',\n",
       " '4GL',\n",
       " '4H',\n",
       " '4th',\n",
       " '5-T',\n",
       " '5-point',\n",
       " '5th',\n",
       " '6-point',\n",
       " '6th',\n",
       " '7-point',\n",
       " '7th',\n",
       " '8-point',\n",
       " '8th',\n",
       " '9-point',\n",
       " '9th',\n",
       " 'A&M',\n",
       " 'A&P',\n",
       " \"A'asia\",\n",
       " 'A-1',\n",
       " 'A-OK',\n",
       " 'A-and-R',\n",
       " 'A-axes',\n",
       " 'A-axis',\n",
       " 'A-blast',\n",
       " 'A-bomb',\n",
       " 'A-day',\n",
       " 'A-flat',\n",
       " 'A-frame',\n",
       " 'A-line',\n",
       " 'A-one',\n",
       " 'A-pole',\n",
       " 'A-scope',\n",
       " 'A-shaped',\n",
       " 'A-sharp',\n",
       " 'A-tent',\n",
       " 'A-war',\n",
       " 'A-weapons',\n",
       " 'A.',\n",
       " 'A.A.A.',\n",
       " 'A.B.',\n",
       " 'A.B.A.',\n",
       " 'A.C.',\n",
       " 'A.D.',\n",
       " 'A.D.C.',\n",
       " 'A.F.',\n",
       " 'A.F.A.M.',\n",
       " 'A.G.',\n",
       " 'A.H.',\n",
       " 'A.I.',\n",
       " 'A.I.A.',\n",
       " 'A.I.D.',\n",
       " 'A.L.',\n",
       " 'A.L.P.',\n",
       " 'A.M.',\n",
       " 'A.M.A.',\n",
       " 'A.M.D.G.',\n",
       " 'A.N.',\n",
       " 'A.R.C.S.',\n",
       " 'A.U.',\n",
       " 'A.U.C.',\n",
       " 'A.V.',\n",
       " 'A.W.O.L.',\n",
       " 'A/C',\n",
       " 'A/F',\n",
       " 'A/O',\n",
       " 'A/P',\n",
       " 'A/V',\n",
       " 'A1',\n",
       " 'A4',\n",
       " 'A5',\n",
       " 'AA',\n",
       " 'AAA',\n",
       " 'AAAA',\n",
       " 'AAAAAA',\n",
       " 'AAAL',\n",
       " 'AAAS',\n",
       " 'AAE',\n",
       " 'AAEE',\n",
       " 'AAF',\n",
       " 'AAG',\n",
       " 'AAII',\n",
       " 'AAM',\n",
       " 'AAMSI',\n",
       " 'AAO',\n",
       " 'AAP',\n",
       " 'AAPSS',\n",
       " 'AARC',\n",
       " 'AARP',\n",
       " 'AAS',\n",
       " 'AAU',\n",
       " 'AAUP',\n",
       " 'AAUW',\n",
       " 'AAVSO',\n",
       " 'AAX',\n",
       " 'AB',\n",
       " 'ABA',\n",
       " 'ABATS',\n",
       " 'ABBR',\n",
       " 'ABC',\n",
       " 'ABCs',\n",
       " 'ABEL',\n",
       " 'ABEPP',\n",
       " 'ABFM',\n",
       " 'ABHC',\n",
       " 'ABI',\n",
       " 'ABLS',\n",
       " 'ABM',\n",
       " 'ABPC',\n",
       " 'ABS',\n",
       " 'ABSBH',\n",
       " 'AC-DC',\n",
       " 'AC/DC',\n",
       " 'ACAA',\n",
       " 'ACAS',\n",
       " 'ACAWS',\n",
       " 'ACB',\n",
       " 'ACBL',\n",
       " 'ACC',\n",
       " 'ACCRA',\n",
       " 'ACCS',\n",
       " 'ACCT',\n",
       " 'ACD',\n",
       " 'ACDA',\n",
       " 'ACE',\n",
       " 'ACF',\n",
       " 'ACGI',\n",
       " 'ACH',\n",
       " 'ACHEFT',\n",
       " 'ACK',\n",
       " 'ACL',\n",
       " 'ACLS',\n",
       " 'ACLU',\n",
       " 'ACM',\n",
       " 'ACO',\n",
       " 'ACOF',\n",
       " 'ACP',\n",
       " 'ACRNEMA',\n",
       " 'ACRV',\n",
       " 'ACS',\n",
       " 'ACSE',\n",
       " 'ACSNET',\n",
       " 'ACSU',\n",
       " 'ACT',\n",
       " 'ACTH',\n",
       " 'ACTPU',\n",
       " 'ACTS',\n",
       " 'ACTU',\n",
       " 'ACTUP',\n",
       " 'ACU',\n",
       " 'ACV',\n",
       " 'ACW',\n",
       " 'ACWA',\n",
       " 'ACWP',\n",
       " 'ADA',\n",
       " 'ADB',\n",
       " 'ADC',\n",
       " 'ADCCP',\n",
       " 'ADCI',\n",
       " 'ADD',\n",
       " 'ADDCP',\n",
       " 'ADEW',\n",
       " 'ADF',\n",
       " 'ADFRF',\n",
       " 'ADI',\n",
       " 'ADIZ',\n",
       " 'ADM',\n",
       " 'ADMD',\n",
       " 'ADN',\n",
       " 'ADP',\n",
       " 'ADPCM',\n",
       " 'ADS',\n",
       " 'ADSP',\n",
       " 'ADSR',\n",
       " 'ADT',\n",
       " 'AEA',\n",
       " 'AEC',\n",
       " 'AEF',\n",
       " 'AEGIS',\n",
       " 'AES',\n",
       " 'AET',\n",
       " 'AEU',\n",
       " 'AF',\n",
       " 'AFA',\n",
       " 'AFACTS',\n",
       " 'AFADS',\n",
       " 'AFAM',\n",
       " 'AFATDS',\n",
       " 'AFB',\n",
       " 'AFC',\n",
       " 'AFCAC',\n",
       " 'AFCC',\n",
       " 'AFGE',\n",
       " 'AFI',\n",
       " 'AFIPS',\n",
       " 'AFL',\n",
       " 'AFL-CIO',\n",
       " 'AFLCIO',\n",
       " 'AFM',\n",
       " 'AFNOR',\n",
       " 'AFP',\n",
       " 'AFS',\n",
       " 'AFSC',\n",
       " 'AFSCME',\n",
       " 'AFSK',\n",
       " 'AFT',\n",
       " 'AFTRA',\n",
       " 'AFUU',\n",
       " 'AG',\n",
       " 'AGC',\n",
       " 'AGCA',\n",
       " 'AGCT',\n",
       " 'AGD',\n",
       " 'AGL',\n",
       " 'AGM',\n",
       " 'AGMA',\n",
       " 'AGN',\n",
       " 'AGR',\n",
       " 'AGS',\n",
       " 'AGU',\n",
       " 'AH',\n",
       " 'AHA',\n",
       " 'AHE',\n",
       " 'AHL',\n",
       " 'AHQ',\n",
       " 'AHSA',\n",
       " 'AI',\n",
       " 'AIA',\n",
       " 'AIAA',\n",
       " 'AIC',\n",
       " 'AICC',\n",
       " 'AID',\n",
       " 'AIDDE',\n",
       " 'AIDS',\n",
       " 'AIEEE',\n",
       " 'AIF',\n",
       " 'AIH',\n",
       " 'AIM',\n",
       " 'AIME',\n",
       " 'AIMS',\n",
       " 'AIOD',\n",
       " 'AIPS',\n",
       " 'AIR',\n",
       " 'AIS',\n",
       " 'AISI',\n",
       " 'AIX',\n",
       " 'AInd',\n",
       " 'AJ',\n",
       " 'AJA',\n",
       " 'AJC',\n",
       " 'AK',\n",
       " 'AKA',\n",
       " 'AKC',\n",
       " 'ALA',\n",
       " 'ALAP',\n",
       " 'ALBM',\n",
       " 'ALBO',\n",
       " 'ALC',\n",
       " 'ALEXIS',\n",
       " 'ALFA',\n",
       " 'ALFE',\n",
       " 'ALGOL',\n",
       " 'ALI',\n",
       " 'ALIT',\n",
       " 'ALM',\n",
       " 'ALP',\n",
       " 'ALPO',\n",
       " 'ALRU',\n",
       " 'ALS',\n",
       " 'ALU',\n",
       " 'AM',\n",
       " 'AMA',\n",
       " 'AMACS',\n",
       " 'AMARC',\n",
       " 'AMASE',\n",
       " 'AMAT',\n",
       " 'AMATPS',\n",
       " 'AMBA',\n",
       " 'AMC',\n",
       " 'AMD',\n",
       " 'AMDG',\n",
       " 'AME',\n",
       " 'AMEDS',\n",
       " 'AMERITECH',\n",
       " 'AMEX',\n",
       " 'AMI',\n",
       " 'AMICE',\n",
       " 'AMIChemE',\n",
       " 'AMIMechE',\n",
       " 'AMLS',\n",
       " 'AMORC',\n",
       " 'AMP',\n",
       " 'AMPAS',\n",
       " 'AMPS',\n",
       " 'AMRAAM',\n",
       " 'AMROC',\n",
       " 'AMS',\n",
       " 'AMSAT',\n",
       " 'AMSW',\n",
       " 'AMT',\n",
       " 'AMU',\n",
       " 'AMVET',\n",
       " 'ANAC',\n",
       " 'ANC',\n",
       " 'ANDF',\n",
       " 'ANF',\n",
       " 'ANG',\n",
       " 'ANI',\n",
       " 'ANIF',\n",
       " 'ANL',\n",
       " 'ANOVA',\n",
       " 'ANPA',\n",
       " 'ANSI',\n",
       " 'ANTA',\n",
       " 'ANTU',\n",
       " 'ANU',\n",
       " 'ANZUS',\n",
       " 'AO',\n",
       " 'AOA',\n",
       " 'AOCS',\n",
       " 'AOL',\n",
       " 'AOP',\n",
       " 'AOPA',\n",
       " 'AOQ',\n",
       " 'AOS',\n",
       " 'AOSS',\n",
       " 'AOU',\n",
       " 'AOW',\n",
       " 'AP',\n",
       " 'APA',\n",
       " 'APB',\n",
       " 'APC',\n",
       " 'APDA',\n",
       " 'APDU',\n",
       " 'APE',\n",
       " 'APG',\n",
       " 'API',\n",
       " 'APICS',\n",
       " 'APJ',\n",
       " 'APM',\n",
       " 'APO',\n",
       " 'APP',\n",
       " 'APPC',\n",
       " 'APR',\n",
       " 'APRA',\n",
       " 'APS',\n",
       " 'APSA',\n",
       " 'APSE',\n",
       " 'APT',\n",
       " 'APU',\n",
       " 'AQ',\n",
       " 'AQL',\n",
       " 'ARA',\n",
       " 'ARAMIS',\n",
       " 'ARC',\n",
       " 'ARCM',\n",
       " 'ARCNET',\n",
       " 'ARCO',\n",
       " 'ARCS',\n",
       " 'ARE',\n",
       " 'ARENA',\n",
       " 'ARF',\n",
       " 'ARIS',\n",
       " 'ARM',\n",
       " 'ARO',\n",
       " 'ARP',\n",
       " 'ARPA',\n",
       " 'ARPANET',\n",
       " 'ARQ',\n",
       " 'ARRL',\n",
       " 'ARS',\n",
       " 'ARSA',\n",
       " 'ARSB',\n",
       " 'ARSM',\n",
       " 'ARTCC',\n",
       " 'ARTEMIS',\n",
       " 'ARU',\n",
       " 'ARV',\n",
       " 'AS',\n",
       " 'ASA',\n",
       " 'ASA/BS',\n",
       " 'ASAIGAC',\n",
       " 'ASAP',\n",
       " 'ASC',\n",
       " 'ASCAP',\n",
       " 'ASCC',\n",
       " 'ASCII',\n",
       " 'ASCQ',\n",
       " 'ASDIC',\n",
       " 'ASDSP',\n",
       " 'ASEAN',\n",
       " 'ASG',\n",
       " 'ASHRAE',\n",
       " 'ASI',\n",
       " 'ASIC',\n",
       " 'ASIO',\n",
       " 'ASK',\n",
       " 'ASLEF',\n",
       " 'ASM',\n",
       " 'ASME',\n",
       " 'ASN',\n",
       " 'ASN1',\n",
       " 'ASOC',\n",
       " 'ASP',\n",
       " 'ASPAC',\n",
       " 'ASPCA',\n",
       " 'ASPEN',\n",
       " 'ASR',\n",
       " 'ASRM',\n",
       " 'ASRS',\n",
       " 'ASS',\n",
       " 'ASSR',\n",
       " 'ASTM',\n",
       " 'ASTMS',\n",
       " 'ASU',\n",
       " 'ASV',\n",
       " 'ASW',\n",
       " 'AT',\n",
       " 'AT&T',\n",
       " 'ATA',\n",
       " 'ATACC',\n",
       " 'ATB',\n",
       " 'ATC',\n",
       " 'ATDA',\n",
       " 'ATDRS',\n",
       " 'ATF',\n",
       " 'ATH',\n",
       " 'ATI',\n",
       " 'ATIS',\n",
       " 'ATK',\n",
       " 'ATLAS',\n",
       " 'ATM',\n",
       " 'ATMS',\n",
       " 'ATN',\n",
       " 'ATO',\n",
       " 'ATOMS',\n",
       " 'ATP',\n",
       " 'ATP2',\n",
       " 'ATPCO',\n",
       " 'ATR',\n",
       " 'ATRS',\n",
       " 'ATS',\n",
       " 'ATT',\n",
       " 'ATTC',\n",
       " 'ATTCOM',\n",
       " 'ATTIS',\n",
       " 'ATV',\n",
       " 'AU',\n",
       " 'AUA',\n",
       " 'AUC',\n",
       " 'AUDIX',\n",
       " 'AUEW',\n",
       " 'AUI',\n",
       " 'AUM',\n",
       " 'AUP',\n",
       " 'AURA',\n",
       " 'AUS',\n",
       " 'AUTODIN',\n",
       " 'AUTOVON',\n",
       " 'AUX',\n",
       " 'AUXF',\n",
       " 'AV',\n",
       " 'AVC',\n",
       " 'AVD',\n",
       " 'AVLIS',\n",
       " 'AVM',\n",
       " 'AW',\n",
       " 'AWACS',\n",
       " 'AWB',\n",
       " 'AWEA',\n",
       " 'AWG',\n",
       " 'AWK',\n",
       " 'AWL',\n",
       " 'AWOL',\n",
       " 'AWST',\n",
       " 'AWU',\n",
       " 'AXAF',\n",
       " 'AY',\n",
       " 'AYH',\n",
       " 'AZ',\n",
       " 'Aaberg',\n",
       " 'Aachen',\n",
       " 'Aalborg',\n",
       " 'Aalesund',\n",
       " 'Aalst',\n",
       " 'Aalto',\n",
       " 'Aandahl',\n",
       " 'Aani',\n",
       " 'Aaqbiye',\n",
       " 'Aar',\n",
       " 'Aara',\n",
       " 'Aarau',\n",
       " 'Aaren',\n",
       " 'Aargau',\n",
       " 'Aarhus',\n",
       " 'Aarika',\n",
       " 'Aaron',\n",
       " \"Aaron's-beard\",\n",
       " 'Aaronic',\n",
       " 'Aaronical',\n",
       " 'Aaronite',\n",
       " 'Aaronitic',\n",
       " 'Aaronsburg',\n",
       " 'Aaronson',\n",
       " 'Aaru',\n",
       " 'Ababa',\n",
       " 'Ababdeh',\n",
       " 'Ababua',\n",
       " 'Abaco',\n",
       " 'Abad',\n",
       " 'Abadan',\n",
       " 'Abaddon',\n",
       " 'Abadite',\n",
       " 'Abagael',\n",
       " 'Abagail',\n",
       " 'Abagtha',\n",
       " 'Abailard',\n",
       " 'Abakan',\n",
       " 'Abakumov',\n",
       " 'Abama',\n",
       " 'Abana',\n",
       " 'Abanic',\n",
       " 'Abantes',\n",
       " 'Abarambo',\n",
       " 'Abarbarea',\n",
       " 'Abaris',\n",
       " 'Abas',\n",
       " 'Abasgi',\n",
       " 'Abassieh',\n",
       " 'Abassin',\n",
       " 'Abate',\n",
       " 'Abatua',\n",
       " 'Abba',\n",
       " 'Abbadide',\n",
       " 'Abbai',\n",
       " 'Abbasid',\n",
       " 'Abbassid',\n",
       " 'Abbasside',\n",
       " 'Abbate',\n",
       " 'Abbe',\n",
       " 'Abbevilean',\n",
       " 'Abbeville',\n",
       " 'Abbevillian',\n",
       " 'Abbey',\n",
       " 'Abbi',\n",
       " 'Abbie',\n",
       " 'Abbot',\n",
       " 'Abbotsen',\n",
       " 'Abbotsford',\n",
       " 'Abbotson',\n",
       " 'Abbotsun',\n",
       " 'Abbott',\n",
       " 'Abbottson',\n",
       " 'Abbottstown',\n",
       " 'Abboud',\n",
       " 'Abby',\n",
       " 'Abbye',\n",
       " 'Abbyville',\n",
       " 'Abd-el-Kadir',\n",
       " 'Abd-el-Krim',\n",
       " 'Abdel',\n",
       " 'Abdella',\n",
       " 'Abderhalden',\n",
       " 'Abderian',\n",
       " 'Abderite',\n",
       " 'Abderus',\n",
       " 'Abdias',\n",
       " 'Abdiel',\n",
       " 'Abdominales',\n",
       " 'Abdon',\n",
       " 'Abdu',\n",
       " 'Abdul',\n",
       " 'Abdul-Aziz',\n",
       " 'Abdul-baha',\n",
       " 'Abdulla',\n",
       " 'Abe',\n",
       " 'Abebi',\n",
       " 'Abednego',\n",
       " 'Abelard',\n",
       " 'Abelia',\n",
       " 'Abelian',\n",
       " 'Abelicea',\n",
       " 'Abelite',\n",
       " 'Abell',\n",
       " 'Abelmoschus',\n",
       " 'Abelonian',\n",
       " 'Abelson',\n",
       " 'Abencerrages',\n",
       " 'Abenezra',\n",
       " 'Abeokuta',\n",
       " 'Abercrombie',\n",
       " 'Abercromby',\n",
       " 'Aberdare',\n",
       " 'Aberdeen',\n",
       " 'Aberdeenshire',\n",
       " 'Aberdonian',\n",
       " 'Aberfan',\n",
       " 'Aberglaube',\n",
       " 'Aberia',\n",
       " 'Abernant',\n",
       " 'Abernathy',\n",
       " 'Abernon',\n",
       " 'Abert',\n",
       " 'Aberystwyth',\n",
       " 'Abeu',\n",
       " 'Abey',\n",
       " 'Abgatha',\n",
       " 'Abhorson',\n",
       " 'Abia',\n",
       " 'Abiathar',\n",
       " 'Abib',\n",
       " 'Abidjan',\n",
       " 'Abie',\n",
       " 'Abies',\n",
       " 'Abietineae',\n",
       " 'Abiezer',\n",
       " 'Abigael',\n",
       " 'Abigail',\n",
       " 'Abigale',\n",
       " 'Abihu',\n",
       " 'Abijah',\n",
       " 'Abilene',\n",
       " 'Abilyne',\n",
       " 'Abimelech',\n",
       " 'Abineri',\n",
       " 'Abingdon',\n",
       " 'Abinger',\n",
       " 'Abington',\n",
       " 'Abinoam',\n",
       " 'Abinoem',\n",
       " 'Abipon',\n",
       " 'Abiquiu',\n",
       " 'Abisag',\n",
       " 'Abisha',\n",
       " 'Abishag',\n",
       " 'Abisia',\n",
       " 'Abitibi',\n",
       " 'Abiu',\n",
       " 'Abixah',\n",
       " 'Abkhas',\n",
       " 'Abkhasia',\n",
       " 'Abkhasian',\n",
       " 'Abkhaz',\n",
       " 'Abkhazia',\n",
       " 'Abkhazian',\n",
       " 'Ablepharus',\n",
       " 'Abnaki',\n",
       " 'Abnakis',\n",
       " 'Abner',\n",
       " 'Abo',\n",
       " 'Abobra',\n",
       " 'Abongo',\n",
       " 'Abor-miri',\n",
       " 'Aboriginal',\n",
       " 'Aborigine',\n",
       " 'Aborn',\n",
       " 'Abott',\n",
       " 'Aboukir',\n",
       " 'Abourezk',\n",
       " 'Abp',\n",
       " 'Abqaiq',\n",
       " 'Abra',\n",
       " 'Abraham',\n",
       " 'Abraham-man',\n",
       " 'Abrahamic',\n",
       " 'Abrahamidae',\n",
       " 'Abrahamite',\n",
       " 'Abrahamitic',\n",
       " 'Abrahams',\n",
       " 'Abrahamsen',\n",
       " 'Abrahan',\n",
       " 'Abram',\n",
       " 'Abramis',\n",
       " 'Abramo',\n",
       " 'Abrams',\n",
       " 'Abramson',\n",
       " 'Abran',\n",
       " 'Abranchiata',\n",
       " 'Abrocoma',\n",
       " 'Abroma',\n",
       " 'Abroms',\n",
       " 'Abronia',\n",
       " 'Abrus',\n",
       " 'Abruzzi',\n",
       " 'Absa',\n",
       " 'Absalom',\n",
       " 'Absaraka',\n",
       " 'Absaroka',\n",
       " 'Absarokee',\n",
       " 'Absecon',\n",
       " 'Abshier',\n",
       " 'Absi',\n",
       " 'Absolute',\n",
       " 'Absyrtus',\n",
       " 'Abu',\n",
       " 'Abu-Bekr',\n",
       " 'Abucay',\n",
       " 'Abukir',\n",
       " 'Abulfeda',\n",
       " 'Abuna',\n",
       " 'Abundantia',\n",
       " 'Abury',\n",
       " 'Abuta',\n",
       " 'Abutilon',\n",
       " 'Abydos',\n",
       " 'Abyla',\n",
       " 'Abyss',\n",
       " 'Abyssinia',\n",
       " 'Abyssinian',\n",
       " 'Acacallis',\n",
       " 'Acacea',\n",
       " 'Acaceae',\n",
       " 'Acacia',\n",
       " 'Acacian',\n",
       " 'Academic',\n",
       " 'Academus',\n",
       " 'Academy',\n",
       " 'Acadia',\n",
       " 'Acadian',\n",
       " 'Acadie',\n",
       " 'Acaena',\n",
       " 'Acalepha',\n",
       " 'Acalephae',\n",
       " 'Acalia',\n",
       " 'Acalypha',\n",
       " 'Acalypterae',\n",
       " 'Acalyptrata',\n",
       " 'Acalyptratae',\n",
       " 'Acamar',\n",
       " 'Acamas',\n",
       " 'Acampo',\n",
       " 'Acanthaceae',\n",
       " 'Acantharia',\n",
       " 'Acanthia',\n",
       " 'Acanthocephala',\n",
       " 'Acanthocephali',\n",
       " 'Acanthocereus',\n",
       " 'Acanthodea',\n",
       " 'Acanthodei',\n",
       " 'Acanthodes',\n",
       " 'Acanthodidae',\n",
       " 'Acanthodii',\n",
       " 'Acanthodini',\n",
       " 'Acantholimon',\n",
       " 'Acanthomeridae',\n",
       " 'Acanthopanax',\n",
       " 'Acanthophis',\n",
       " 'Acanthopteri',\n",
       " 'Acanthopterygii',\n",
       " 'Acanthuridae',\n",
       " 'Acanthurus',\n",
       " 'Acapulco',\n",
       " 'Acarapis',\n",
       " 'Acarida',\n",
       " 'Acaridea',\n",
       " 'Acarina',\n",
       " 'Acarnan',\n",
       " 'Acarus',\n",
       " 'Acastus',\n",
       " 'Accad',\n",
       " 'Accadian',\n",
       " 'Accalia',\n",
       " 'Accipiter',\n",
       " 'Accipitres',\n",
       " 'Accius',\n",
       " 'Accokeek',\n",
       " 'Accomac',\n",
       " 'Accoville',\n",
       " 'Accrington',\n",
       " 'Accutron',\n",
       " 'Aceldama',\n",
       " 'Acemetae',\n",
       " 'Acemetic',\n",
       " 'Acephala',\n",
       " 'Acephali',\n",
       " 'Acephalina',\n",
       " 'Acephalite',\n",
       " 'Acer',\n",
       " 'Aceraceae',\n",
       " 'Acerae',\n",
       " 'Acerata',\n",
       " 'Acerates',\n",
       " 'Aceratherium',\n",
       " 'Acerbas',\n",
       " 'Acesius',\n",
       " 'Acessamenus',\n",
       " 'Acestes',\n",
       " 'Acetabularia',\n",
       " 'Acetaminophen',\n",
       " 'Acetes',\n",
       " 'Acetobacter',\n",
       " 'Acey',\n",
       " 'Achab',\n",
       " 'Achad',\n",
       " 'Achaea',\n",
       " 'Achaean',\n",
       " 'Achaemenes',\n",
       " 'Achaemenian',\n",
       " 'Achaemenid',\n",
       " 'Achaemenidae',\n",
       " 'Achaemenides',\n",
       " 'Achaemenidian',\n",
       " 'Achaemenids',\n",
       " 'Achaenodon',\n",
       " 'Achaeta',\n",
       " 'Achaeus',\n",
       " 'Achagua',\n",
       " 'Achaia',\n",
       " 'Achaian',\n",
       " 'Achakzai',\n",
       " 'Achamoth',\n",
       " 'Achan',\n",
       " 'Achango',\n",
       " 'Achariaceae',\n",
       " 'Achariaceous',\n",
       " 'Acharnians',\n",
       " 'Achates',\n",
       " 'Achatina',\n",
       " 'Achatinella',\n",
       " 'Achatinidae',\n",
       " 'Achaz',\n",
       " 'Achelous',\n",
       " 'Achen',\n",
       " 'Acherman',\n",
       " 'Achernar',\n",
       " 'Acheron',\n",
       " 'Acheronian',\n",
       " 'Acherontic',\n",
       " 'Acherontical',\n",
       " 'Acheson',\n",
       " 'Achetidae',\n",
       " 'Acheulean',\n",
       " 'Acheulian',\n",
       " 'Achill',\n",
       " 'Achille',\n",
       " 'Achillea',\n",
       " 'Achillean',\n",
       " 'Achilleid',\n",
       " 'Achilles',\n",
       " 'Achillize',\n",
       " 'Achimaas',\n",
       " 'Achimelech',\n",
       " 'Achimenes',\n",
       " 'Achinese',\n",
       " 'Achish',\n",
       " 'Achitophel',\n",
       " 'Achlamydeae',\n",
       " 'Achmed',\n",
       " 'Achmetha',\n",
       " 'Acholoe',\n",
       " 'Achomawi',\n",
       " 'Achordata',\n",
       " 'Achorion',\n",
       " 'Achorn',\n",
       " 'Achras',\n",
       " 'Achroanthes',\n",
       " 'Achromatiaceae',\n",
       " 'Achromatium',\n",
       " 'Achromobacter',\n",
       " 'Achromobacterieae',\n",
       " 'Achromycin',\n",
       " 'Achsah',\n",
       " 'Achuas',\n",
       " 'Achyranthes',\n",
       " 'Achyrodes',\n",
       " 'Acidalium',\n",
       " 'Acidanthera',\n",
       " 'Acidaspis',\n",
       " 'Acie',\n",
       " 'Acieral',\n",
       " 'Acilius',\n",
       " 'Acima',\n",
       " 'Acineta',\n",
       " 'Acinetae',\n",
       " 'Acinetaria',\n",
       " 'Acinetina',\n",
       " 'Acipenser',\n",
       " 'Acipenseres',\n",
       " 'Acipenseridae',\n",
       " 'Acipenseroidei',\n",
       " 'Acis',\n",
       " 'Acker',\n",
       " 'Ackerley',\n",
       " 'Ackerly',\n",
       " 'Ackerman',\n",
       " 'Ackermanville',\n",
       " 'Ackler',\n",
       " 'Ackley',\n",
       " 'Ackworth',\n",
       " 'Aclemon',\n",
       " 'Acmaea',\n",
       " 'Acmaeidae',\n",
       " 'Acmispon',\n",
       " 'Acmon',\n",
       " 'Acnida',\n",
       " 'Acocanthera',\n",
       " 'Acoela',\n",
       " 'Acoelomata',\n",
       " 'Acoelomi',\n",
       " 'Acoemetae',\n",
       " 'Acoemeti',\n",
       " 'Acoemetic',\n",
       " 'Acol',\n",
       " 'Acolapissa',\n",
       " 'Acolhua',\n",
       " 'Acolhuan',\n",
       " 'Acoma',\n",
       " 'Aconcagua',\n",
       " 'Aconitum',\n",
       " 'Acontias',\n",
       " 'Acontius',\n",
       " 'Acorus',\n",
       " 'Acosta',\n",
       " 'Acousticon',\n",
       " 'Acquah',\n",
       " 'Acquaviva',\n",
       " 'Acra',\n",
       " 'Acrab',\n",
       " 'Acraea',\n",
       " 'Acraeinae',\n",
       " 'Acrania',\n",
       " 'Acrasiaceae',\n",
       " 'Acrasiales',\n",
       " 'Acrasida',\n",
       " 'Acrasieae',\n",
       " 'Acraspeda',\n",
       " 'Acre',\n",
       " 'Acredula',\n",
       " 'Acres',\n",
       " 'Acrididae',\n",
       " 'Acridiidae',\n",
       " 'Acridium',\n",
       " 'Acrilan',\n",
       " 'Acrisius',\n",
       " 'Acrita',\n",
       " 'Acroa',\n",
       " 'Acrobates',\n",
       " 'Acrocarpi',\n",
       " 'Acrocera',\n",
       " 'Acroceratidae',\n",
       " 'Acroceraunian',\n",
       " 'Acroceridae',\n",
       " 'Acrochordidae',\n",
       " ...]"
      ]
     },
     "execution_count": 32,
     "metadata": {},
     "output_type": "execute_result"
    }
   ],
   "source": [
    "words"
   ]
  },
  {
   "cell_type": "markdown",
   "metadata": {},
   "source": [
    "La lista è composta da quasi 500.000 elementi."
   ]
  },
  {
   "cell_type": "code",
   "execution_count": 33,
   "metadata": {},
   "outputs": [
    {
     "data": {
      "text/plain": [
       "466550"
      ]
     },
     "execution_count": 33,
     "metadata": {},
     "output_type": "execute_result"
    }
   ],
   "source": [
    "len(words)"
   ]
  },
  {
   "cell_type": "markdown",
   "metadata": {},
   "source": [
    "Se proviamo a cercare una parola, per esempio `dog`, l'esecuzione della funzione linear_search è comunque immediata."
   ]
  },
  {
   "cell_type": "code",
   "execution_count": 34,
   "metadata": {},
   "outputs": [
    {
     "data": {
      "text/plain": [
       "169365"
      ]
     },
     "execution_count": 34,
     "metadata": {},
     "output_type": "execute_result"
    }
   ],
   "source": [
    "linear_search(words, \"dog\")"
   ]
  },
  {
   "cell_type": "markdown",
   "metadata": {},
   "source": [
    "La cosa più lenta che possiamo fare è cercare un parola che non esiste, perché in tal caso l'algoritmo di ricerca sequenziale dovrà scorrere tutta la lista per constatare che la parola non si troval al suo interno. Anche in questo caso, la risposta è praticamente immediata."
   ]
  },
  {
   "cell_type": "code",
   "execution_count": 35,
   "metadata": {},
   "outputs": [
    {
     "data": {
      "text/plain": [
       "-1"
      ]
     },
     "execution_count": 35,
     "metadata": {},
     "output_type": "execute_result"
    }
   ],
   "source": [
    "linear_search(words, \"abcxyz\")"
   ]
  },
  {
   "cell_type": "markdown",
   "metadata": {},
   "source": [
    "Potremmo ovviamente provare con una lista ancora più grande, ma una alternativa è eseguire `linear_search` molte volte, vedere il tempo totale di esecuzione e poi dividere per il numero di volte che l'abbiamo eseguita. Fortunantamente, all'interno dei notebook c'è una funzionalità (che non ha niente a che fare con Python) per misurare il tempo di esecuzione di una cella. Basta inserire `%%timeit` come prima riga di una cella, e VSCode proverà a calcolare il tempo di esecuzione della cella come spiegato sopra, facendo delle esecuzioni ripetute ed estraendo il tempo medio."
   ]
  },
  {
   "cell_type": "code",
   "execution_count": 39,
   "metadata": {},
   "outputs": [
    {
     "name": "stdout",
     "output_type": "stream",
     "text": [
      "14.3 ms ± 647 µs per loop (mean ± std. dev. of 7 runs, 100 loops each)\n"
     ]
    }
   ],
   "source": [
    "%%timeit\n",
    "linear_search(words, \"dog\")"
   ]
  },
  {
   "cell_type": "markdown",
   "metadata": {},
   "source": [
    "Il risultato è che per cercare la stringa `\"dog\"` all'interno della lista, ci mette in media 14.3 millsecondi con una deviazione standard di meno di un millisecondo. Questi risultati ovviamente dipendono in maniera determinante dal computer nel quale viene eseguita la misurazione, e se ci riprovate sul vostro computer otterrete probabilmente valori diversi."
   ]
  },
  {
   "cell_type": "markdown",
   "metadata": {},
   "source": [
    "Se si prova a cercare un stringa che non esiste, ci aspettiamo che il tempo di esecuzione sia superiore."
   ]
  },
  {
   "cell_type": "code",
   "execution_count": 40,
   "metadata": {},
   "outputs": [
    {
     "name": "stdout",
     "output_type": "stream",
     "text": [
      "39.8 ms ± 914 µs per loop (mean ± std. dev. of 7 runs, 10 loops each)\n"
     ]
    }
   ],
   "source": [
    "%%timeit\n",
    "linear_search(words, \"abcxyz\")"
   ]
  },
  {
   "cell_type": "markdown",
   "metadata": {},
   "source": [
    "Il tempo di esecuzione medio è circa 2.5 volte il precedente. D'altronde, la lunghezza della lista wods è 466550 mentre la posizione della stringa `dog` nella lista è 169365. Pertano, quando linear_search viene chiamata con la stringa `dog`, deve controllare solo 169366 posizioni, quando viene chiamata con una stringa inesistente ne deve controllare 466550, e 466550 / 169365 è circa 2.75."
   ]
  },
  {
   "cell_type": "markdown",
   "metadata": {},
   "source": [
    "Ovviamente le prestazioni migliori si avranno se cerco il primo elemento della lista."
   ]
  },
  {
   "cell_type": "code",
   "execution_count": 42,
   "metadata": {},
   "outputs": [
    {
     "data": {
      "text/plain": [
       "'&c'"
      ]
     },
     "execution_count": 42,
     "metadata": {},
     "output_type": "execute_result"
    }
   ],
   "source": [
    "words[0]"
   ]
  },
  {
   "cell_type": "code",
   "execution_count": 44,
   "metadata": {},
   "outputs": [
    {
     "name": "stdout",
     "output_type": "stream",
     "text": [
      "362 ns ± 9.62 ns per loop (mean ± std. dev. of 7 runs, 1,000,000 loops each)\n"
     ]
    }
   ],
   "source": [
    "%%timeit\n",
    "linear_search(words, \"&c\")"
   ]
  },
  {
   "cell_type": "markdown",
   "metadata": {},
   "source": [
    "Vediamo che il tempo di esecuzione è enormemente più piccolo: 362 nanosecondi."
   ]
  },
  {
   "cell_type": "markdown",
   "metadata": {},
   "source": [
    "Vedremo nella prossima lezione che, quando la lista è ordinata, c'è un metodo molto più efficiente per trovare un elemento in un array, noto come *ricerca binaria*."
   ]
  }
 ],
 "metadata": {
  "kernelspec": {
   "display_name": "Python 3",
   "language": "python",
   "name": "python3"
  },
  "language_info": {
   "codemirror_mode": {
    "name": "ipython",
    "version": 3
   },
   "file_extension": ".py",
   "mimetype": "text/x-python",
   "name": "python",
   "nbconvert_exporter": "python",
   "pygments_lexer": "ipython3",
   "version": "3.12.0"
  }
 },
 "nbformat": 4,
 "nbformat_minor": 2
}
