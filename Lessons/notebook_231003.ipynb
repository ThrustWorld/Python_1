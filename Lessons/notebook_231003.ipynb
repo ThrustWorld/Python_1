{
 "cells": [
  {
   "cell_type": "markdown",
   "metadata": {},
   "source": [
    "# Errori standard\n",
    "\n",
    "Vediamo alcuni errori comuni che ho riscontrato durante la lezione di laboratorio."
   ]
  },
  {
   "cell_type": "markdown",
   "metadata": {},
   "source": [
    "Consideriamo il programma che prende in input un numero e ne calcola il doppio.\n",
    "\n",
    "```python\n",
    "a = int(input(\"Immetti il numero a: \"))\n",
    "a2 = (2 * a)\n",
    "print = (\"Il doppio di a è\", a2)  # ERRORE\n",
    "```"
   ]
  },
  {
   "cell_type": "markdown",
   "metadata": {},
   "source": [
    "### Parentesi di troppo\n",
    "Le parentesi nella riga\n",
    "\n",
    "```python\n",
    "a2 = (2 * a)\n",
    "```\n",
    "\n",
    "non sono un errore, ma non sono neanche necessarie. Meglio senza:\n",
    "\n",
    "```python\n",
    "a2 = 2 * a\n",
    "```\n",
    "\n",
    "Notare che invece le parentesi in tutti gli altri posti sono obbligatorie."
   ]
  },
  {
   "cell_type": "markdown",
   "metadata": {},
   "source": [
    "### Un uguale di troppo\n",
    "\n",
    "L'uguale nella riga\n",
    "```python\n",
    "print = (\"Il doppio di a è\", a2)  # ERRORE\n",
    "```\n",
    "è sbagliato. Non genera un messaggio di errore, ma non stampa nulla. Python pensa che voi vogliate definire una variabile che si chiamata `print`, ed esegue l'assegnamento. Da quel momento in poi, la funzione `print` smetterà di funzionare perché è stata ridefinita da questa uguaglianza."
   ]
  },
  {
   "cell_type": "markdown",
   "metadata": {},
   "source": [
    "### Spazi fuori posto\n",
    "\n",
    "In linea di massimo Python è piuttosto liberare nel dove mettere gli spazi. Ad esempio:"
   ]
  },
  {
   "cell_type": "code",
   "execution_count": 2,
   "metadata": {},
   "outputs": [
    {
     "name": "stdout",
     "output_type": "stream",
     "text": [
      "Ciao Mondo\n",
      "Ciao Mondo\n"
     ]
    }
   ],
   "source": [
    "print(\"Ciao\",\"Mondo\")\n",
    "print   (    \"Ciao\"   ,   \"Mondo\"  )  # fa esattamente la stessa cosa dell'istruzione sopra"
   ]
  },
  {
   "cell_type": "markdown",
   "metadata": {},
   "source": [
    "Tuttavia, il Python è estremamente pignolo per ciò che riguarda gli spazi a inizio di una riga: non è possibile aggiungere spazi liberamente, l'istruzione deve partire esattamente dalla prima colonna (almeno per ora, poi vedremo che questi spazi iniziali hanno un significato)"
   ]
  },
  {
   "cell_type": "code",
   "execution_count": 3,
   "metadata": {},
   "outputs": [
    {
     "ename": "IndentationError",
     "evalue": "unexpected indent (1663876427.py, line 2)",
     "output_type": "error",
     "traceback": [
      "\u001b[0;36m  Cell \u001b[0;32mIn[3], line 2\u001b[0;36m\u001b[0m\n\u001b[0;31m    print(\"Mondo\")   # Questa print da errore perché non inizia nella prima colonna\u001b[0m\n\u001b[0m    ^\u001b[0m\n\u001b[0;31mIndentationError\u001b[0m\u001b[0;31m:\u001b[0m unexpected indent\n"
     ]
    }
   ],
   "source": [
    "print(\"Ciao\")\n",
    "  print(\"Mondo\")   # Questa print da errore perché non inizia nella prima colonna"
   ]
  },
  {
   "cell_type": "markdown",
   "metadata": {},
   "source": [
    "# Ancora sui numeri in virgola mobile (tipo `float`)"
   ]
  },
  {
   "cell_type": "markdown",
   "metadata": {},
   "source": [
    "## Notazione scientifica"
   ]
  },
  {
   "cell_type": "markdown",
   "metadata": {},
   "source": [
    "Questo è un numero in virgola mobile nella notazione standard."
   ]
  },
  {
   "cell_type": "code",
   "execution_count": null,
   "metadata": {},
   "outputs": [
    {
     "data": {
      "text/plain": [
       "4.5"
      ]
     },
     "execution_count": 4,
     "metadata": {},
     "output_type": "execute_result"
    }
   ],
   "source": [
    "4.5"
   ]
  },
  {
   "cell_type": "markdown",
   "metadata": {},
   "source": [
    "Per scrivere numeri in virgola mobile, si può usare la notazione scientifica. In questa notazione il carattere `E` (o anche `e`) è una abbreviazione di *per 10 elevato a*. Ricordiamo che moltiplicare un numero per $10^i$ vuol dire spostare la virgola di i posti a destra (se positivo) o a sinistra (se i è negativo)"
   ]
  },
  {
   "cell_type": "code",
   "execution_count": null,
   "metadata": {},
   "outputs": [
    {
     "data": {
      "text/plain": [
       "23000.0"
      ]
     },
     "execution_count": 5,
     "metadata": {},
     "output_type": "execute_result"
    }
   ],
   "source": [
    "2.3E4"
   ]
  },
  {
   "cell_type": "code",
   "execution_count": null,
   "metadata": {},
   "outputs": [
    {
     "data": {
      "text/plain": [
       "-0.012"
      ]
     },
     "execution_count": 6,
     "metadata": {},
     "output_type": "execute_result"
    }
   ],
   "source": [
    "-1.2E-2"
   ]
  },
  {
   "cell_type": "markdown",
   "metadata": {},
   "source": [
    "Se un numero è molto grande, Python usa la notazione scientifica per visualizzarcelo."
   ]
  },
  {
   "cell_type": "code",
   "execution_count": null,
   "metadata": {},
   "outputs": [
    {
     "data": {
      "text/plain": [
       "1.2676506002282294e+30"
      ]
     },
     "execution_count": 7,
     "metadata": {},
     "output_type": "execute_result"
    }
   ],
   "source": [
    "2.0 ** 100"
   ]
  },
  {
   "cell_type": "code",
   "execution_count": null,
   "metadata": {},
   "outputs": [
    {
     "data": {
      "text/plain": [
       "1267650600228229401496703205376"
      ]
     },
     "execution_count": 8,
     "metadata": {},
     "output_type": "execute_result"
    }
   ],
   "source": [
    "# Notare che il risultato di prima è solo una approssimazione. Quello vero si può ottenere usando i numeri interi.\n",
    "2 ** 100"
   ]
  },
  {
   "cell_type": "markdown",
   "metadata": {},
   "source": [
    "## Problemi con l'uso dei numeri `float`"
   ]
  },
  {
   "cell_type": "markdown",
   "metadata": {},
   "source": [
    "Se un numero è troppo grande, non è possibile rappresentarlo con un dato di tipo float, e si genera un errore.\n"
   ]
  },
  {
   "cell_type": "code",
   "execution_count": null,
   "metadata": {},
   "outputs": [
    {
     "ename": "OverflowError",
     "evalue": "(34, 'Numerical result out of range')",
     "output_type": "error",
     "traceback": [
      "\u001b[0;31m---------------------------------------------------------------------------\u001b[0m",
      "\u001b[0;31mOverflowError\u001b[0m                             Traceback (most recent call last)",
      "\u001b[0;32m/tmp/ipykernel_1508067/3207207499.py\u001b[0m in \u001b[0;36m<module>\u001b[0;34m\u001b[0m\n\u001b[0;32m----> 1\u001b[0;31m \u001b[0;36m10.0\u001b[0m \u001b[0;34m**\u001b[0m \u001b[0;36m400\u001b[0m\u001b[0;34m\u001b[0m\u001b[0;34m\u001b[0m\u001b[0m\n\u001b[0m",
      "\u001b[0;31mOverflowError\u001b[0m: (34, 'Numerical result out of range')"
     ]
    }
   ],
   "source": [
    "10.0 ** 400"
   ]
  },
  {
   "cell_type": "markdown",
   "metadata": {},
   "source": [
    "Le operazioni arimetiche danno talvolta un risultato sbagliato. Questo perché il tipo `float` rappresenta i numeri in base 2, e nella base 2 anche numeri che normalmente sono semplici, come 0.1, diventano periodici."
   ]
  },
  {
   "cell_type": "code",
   "execution_count": null,
   "metadata": {},
   "outputs": [
    {
     "data": {
      "text/plain": [
       "0.0"
      ]
     },
     "execution_count": 10,
     "metadata": {},
     "output_type": "execute_result"
    }
   ],
   "source": [
    "# Questo calcolo resistuisce il valore corretto\n",
    "0.2 - 0.1 - 0.1"
   ]
  },
  {
   "cell_type": "code",
   "execution_count": null,
   "metadata": {},
   "outputs": [
    {
     "data": {
      "text/plain": [
       "-2.7755575615628914e-17"
      ]
     },
     "execution_count": 11,
     "metadata": {},
     "output_type": "execute_result"
    }
   ],
   "source": [
    "# Ma questo no!!! Il risultato dovrebbe essere 0, ma non lo è\n",
    "0.3 - 0.1 - 0.1 - 0.1"
   ]
  },
  {
   "cell_type": "markdown",
   "metadata": {},
   "source": [
    "# Funzioni"
   ]
  },
  {
   "cell_type": "markdown",
   "metadata": {},
   "source": [
    "La funzione `abs` restituisce il valore assoluto di un numero."
   ]
  },
  {
   "cell_type": "code",
   "execution_count": null,
   "metadata": {},
   "outputs": [
    {
     "data": {
      "text/plain": [
       "54"
      ]
     },
     "execution_count": 12,
     "metadata": {},
     "output_type": "execute_result"
    }
   ],
   "source": [
    "abs(54)"
   ]
  },
  {
   "cell_type": "code",
   "execution_count": null,
   "metadata": {},
   "outputs": [
    {
     "data": {
      "text/plain": [
       "54"
      ]
     },
     "execution_count": 13,
     "metadata": {},
     "output_type": "execute_result"
    }
   ],
   "source": [
    "abs(-54)"
   ]
  },
  {
   "attachments": {
    "image.png": {
     "image/png": "[encoded data removed]"
    }
   },
   "cell_type": "markdown",
   "metadata": {},
   "source": [
    "![image.png](attachment:image.png)"
   ]
  },
  {
   "cell_type": "markdown",
   "metadata": {},
   "source": [
    "Quando il numero di argomenti forniti ad una funzione non è corretto, si genera un errore"
   ]
  },
  {
   "cell_type": "code",
   "execution_count": null,
   "metadata": {},
   "outputs": [
    {
     "ename": "TypeError",
     "evalue": "abs() takes exactly one argument (2 given)",
     "output_type": "error",
     "traceback": [
      "\u001b[0;31m---------------------------------------------------------------------------\u001b[0m",
      "\u001b[0;31mTypeError\u001b[0m                                 Traceback (most recent call last)",
      "\u001b[0;32m/tmp/ipykernel_1508067/2085501094.py\u001b[0m in \u001b[0;36m<module>\u001b[0;34m\u001b[0m\n\u001b[0;32m----> 1\u001b[0;31m \u001b[0mabs\u001b[0m\u001b[0;34m(\u001b[0m\u001b[0;36m54\u001b[0m\u001b[0;34m,\u001b[0m \u001b[0;36m23\u001b[0m\u001b[0;34m)\u001b[0m\u001b[0;34m\u001b[0m\u001b[0;34m\u001b[0m\u001b[0m\n\u001b[0m",
      "\u001b[0;31mTypeError\u001b[0m: abs() takes exactly one argument (2 given)"
     ]
    }
   ],
   "source": [
    "abs(54, 23)"
   ]
  },
  {
   "cell_type": "code",
   "execution_count": null,
   "metadata": {},
   "outputs": [
    {
     "ename": "TypeError",
     "evalue": "Kernel.raw_input() takes from 1 to 2 positional arguments but 3 were given",
     "output_type": "error",
     "traceback": [
      "\u001b[0;31m---------------------------------------------------------------------------\u001b[0m",
      "\u001b[0;31mTypeError\u001b[0m                                 Traceback (most recent call last)",
      "\u001b[0;32m/tmp/ipykernel_1508067/3040375140.py\u001b[0m in \u001b[0;36m<module>\u001b[0;34m\u001b[0m\n\u001b[0;32m----> 1\u001b[0;31m \u001b[0minput\u001b[0m\u001b[0;34m(\u001b[0m\u001b[0;34m\"Immetti a\"\u001b[0m\u001b[0;34m,\u001b[0m \u001b[0;34m\"ciao\"\u001b[0m\u001b[0;34m)\u001b[0m\u001b[0;34m\u001b[0m\u001b[0;34m\u001b[0m\u001b[0m\n\u001b[0m",
      "\u001b[0;31mTypeError\u001b[0m: Kernel.raw_input() takes from 1 to 2 positional arguments but 3 were given"
     ]
    }
   ],
   "source": [
    "input(\"Immetti a\", \"ciao\")"
   ]
  },
  {
   "cell_type": "markdown",
   "metadata": {},
   "source": [
    "Stessa cosa avviene se il numero di argomenti forniti è corretto, ma non il tipo. Ad esempio, non ha senso calcolare il valore assoluto di una stringa."
   ]
  },
  {
   "cell_type": "code",
   "execution_count": null,
   "metadata": {},
   "outputs": [
    {
     "ename": "TypeError",
     "evalue": "bad operand type for abs(): 'str'",
     "output_type": "error",
     "traceback": [
      "\u001b[0;31m---------------------------------------------------------------------------\u001b[0m",
      "\u001b[0;31mTypeError\u001b[0m                                 Traceback (most recent call last)",
      "\u001b[0;32m/tmp/ipykernel_1508067/2833784633.py\u001b[0m in \u001b[0;36m<module>\u001b[0;34m\u001b[0m\n\u001b[0;32m----> 1\u001b[0;31m \u001b[0mabs\u001b[0m\u001b[0;34m(\u001b[0m\u001b[0;34m\"ciao\"\u001b[0m\u001b[0;34m)\u001b[0m\u001b[0;34m\u001b[0m\u001b[0;34m\u001b[0m\u001b[0m\n\u001b[0m",
      "\u001b[0;31mTypeError\u001b[0m: bad operand type for abs(): 'str'"
     ]
    }
   ],
   "source": [
    "abs(\"ciao\")"
   ]
  },
  {
   "cell_type": "markdown",
   "metadata": {},
   "source": [
    "Alcune funzioni accettano un numero di argomenti variabile. Sappiamo già che `print` prende un numero qualunque di argomenti. Consideriamo adesso la funzione `round`. Se gli viene passato un solo argomento, calcola l'intero più vicino, e il risultato è un `int`."
   ]
  },
  {
   "cell_type": "code",
   "execution_count": null,
   "metadata": {},
   "outputs": [
    {
     "data": {
      "text/plain": [
       "56"
      ]
     },
     "execution_count": 17,
     "metadata": {},
     "output_type": "execute_result"
    }
   ],
   "source": [
    "round(56.13273)"
   ]
  },
  {
   "cell_type": "code",
   "execution_count": null,
   "metadata": {},
   "outputs": [
    {
     "data": {
      "text/plain": [
       "57"
      ]
     },
     "execution_count": 18,
     "metadata": {},
     "output_type": "execute_result"
    }
   ],
   "source": [
    "round(56.7)"
   ]
  },
  {
   "cell_type": "markdown",
   "metadata": {},
   "source": [
    "Se invece forniamo due argomenti, il secondo dice quante cifre dopo la virgola vogliamo conservare, e il risultato è un `float`."
   ]
  },
  {
   "cell_type": "code",
   "execution_count": null,
   "metadata": {},
   "outputs": [
    {
     "data": {
      "text/plain": [
       "56.13"
      ]
     },
     "execution_count": 19,
     "metadata": {},
     "output_type": "execute_result"
    }
   ],
   "source": [
    "round(56.13273, 2)"
   ]
  },
  {
   "cell_type": "code",
   "execution_count": null,
   "metadata": {},
   "outputs": [
    {
     "data": {
      "text/plain": [
       "56.14"
      ]
     },
     "execution_count": 20,
     "metadata": {},
     "output_type": "execute_result"
    }
   ],
   "source": [
    "round(56.139, 2)"
   ]
  },
  {
   "cell_type": "markdown",
   "metadata": {},
   "source": [
    "Per avere spiegazioni sull'usa di una funzione, si può usare l'istruzione `help`. In realtà il termine *istruzione* è improprio: `help`, così come `print` e `input`, sono funzioni, esattamente come `abs` e `round`."
   ]
  },
  {
   "cell_type": "code",
   "execution_count": null,
   "metadata": {},
   "outputs": [
    {
     "name": "stdout",
     "output_type": "stream",
     "text": [
      "Help on built-in function abs in module builtins:\n",
      "\n",
      "abs(x, /)\n",
      "    Return the absolute value of the argument.\n",
      "\n"
     ]
    }
   ],
   "source": [
    "help(abs)"
   ]
  },
  {
   "cell_type": "code",
   "execution_count": null,
   "metadata": {},
   "outputs": [
    {
     "name": "stdout",
     "output_type": "stream",
     "text": [
      "Help on built-in function round in module builtins:\n",
      "\n",
      "round(number, ndigits=None)\n",
      "    Round a number to a given precision in decimal digits.\n",
      "    \n",
      "    The return value is an integer if ndigits is omitted or None.  Otherwise\n",
      "    the return value has the same type as the number.  ndigits may be negative.\n",
      "\n"
     ]
    }
   ],
   "source": [
    "help(round)"
   ]
  },
  {
   "cell_type": "markdown",
   "metadata": {},
   "source": [
    "In alternativa, è possibile consultare il sito on-line della [documentazione Python](https://docs.python.org/3/)."
   ]
  },
  {
   "cell_type": "markdown",
   "metadata": {},
   "source": [
    "Infine, le funzioni `min` e `max` prendono un numero arbitrario di argomenti, e restituiscono il valore minimo o il massimo."
   ]
  },
  {
   "cell_type": "code",
   "execution_count": null,
   "metadata": {},
   "outputs": [
    {
     "data": {
      "text/plain": [
       "-10"
      ]
     },
     "execution_count": 23,
     "metadata": {},
     "output_type": "execute_result"
    }
   ],
   "source": [
    "min(6, 2, -10, 99)"
   ]
  },
  {
   "cell_type": "code",
   "execution_count": null,
   "metadata": {},
   "outputs": [
    {
     "data": {
      "text/plain": [
       "99"
      ]
     },
     "execution_count": 24,
     "metadata": {},
     "output_type": "execute_result"
    }
   ],
   "source": [
    "max(6, 2, -10, 99)"
   ]
  },
  {
   "cell_type": "markdown",
   "metadata": {},
   "source": [
    "# Funzioni, moduli e librerie"
   ]
  },
  {
   "cell_type": "markdown",
   "metadata": {},
   "source": [
    "Le funzioni viste fin'ora in Python sono dette *funzioni built-in*, o anche *funzioni predefinite*. Un elenco di tutte le funzioni built-in si trova qui: https://docs.python.org/3/library/functions.html. Python ha tantissime altre funzioni, che però fanne parte di *moduli*. Potete pensare ad un modulo come una raccolta di funzioni (e di tipi definiti dall'utente, anche se di questo è ancora presto per parlarne). Quando una funzione fa parte di un modulo, non è possibile usarla immediatamente, ma deve essere prima importata. Ad esempio, la funzione `sqrt` che calcola la radice quadrata non funziona direttamente. "
   ]
  },
  {
   "cell_type": "code",
   "execution_count": null,
   "metadata": {},
   "outputs": [
    {
     "ename": "NameError",
     "evalue": "name 'sqrt' is not defined",
     "output_type": "error",
     "traceback": [
      "\u001b[0;31m---------------------------------------------------------------------------\u001b[0m",
      "\u001b[0;31mNameError\u001b[0m                                 Traceback (most recent call last)",
      "\u001b[0;32m/tmp/ipykernel_1508067/1103852951.py\u001b[0m in \u001b[0;36m<module>\u001b[0;34m\u001b[0m\n\u001b[0;32m----> 1\u001b[0;31m \u001b[0msqrt\u001b[0m\u001b[0;34m(\u001b[0m\u001b[0;36m4\u001b[0m\u001b[0;34m)\u001b[0m\u001b[0;34m\u001b[0m\u001b[0;34m\u001b[0m\u001b[0m\n\u001b[0m",
      "\u001b[0;31mNameError\u001b[0m: name 'sqrt' is not defined"
     ]
    }
   ],
   "source": [
    "sqrt(4)"
   ]
  },
  {
   "cell_type": "markdown",
   "metadata": {},
   "source": [
    "La seguente istruzione importa la funzione `sqrt` dal modulo `main`."
   ]
  },
  {
   "cell_type": "code",
   "execution_count": null,
   "metadata": {},
   "outputs": [],
   "source": [
    "from math import sqrt"
   ]
  },
  {
   "cell_type": "markdown",
   "metadata": {},
   "source": [
    "Una volta importata, potete utilizzare la funzione."
   ]
  },
  {
   "cell_type": "code",
   "execution_count": null,
   "metadata": {},
   "outputs": [
    {
     "data": {
      "text/plain": [
       "2.0"
      ]
     },
     "execution_count": 27,
     "metadata": {},
     "output_type": "execute_result"
    }
   ],
   "source": [
    "sqrt(4)"
   ]
  },
  {
   "cell_type": "markdown",
   "metadata": {},
   "source": [
    "La funzione `log`, che fa sempre parte del modulo `math`, siccome non è stata importata non si può utilizzare. Un elenco di tutte le funzioni del modulo `math` lo trovate su https://docs.python.org/3/library/math.html#module-math"
   ]
  },
  {
   "attachments": {
    "image.png": {
     "image/png": "[encoded data removed]"
    }
   },
   "cell_type": "markdown",
   "metadata": {},
   "source": [
    "![image.png](attachment:image.png)"
   ]
  },
  {
   "cell_type": "code",
   "execution_count": null,
   "metadata": {},
   "outputs": [
    {
     "ename": "NameError",
     "evalue": "name 'log' is not defined",
     "output_type": "error",
     "traceback": [
      "\u001b[0;31m---------------------------------------------------------------------------\u001b[0m",
      "\u001b[0;31mNameError\u001b[0m                                 Traceback (most recent call last)",
      "\u001b[0;32m/tmp/ipykernel_1508067/4269932452.py\u001b[0m in \u001b[0;36m<module>\u001b[0;34m\u001b[0m\n\u001b[0;32m----> 1\u001b[0;31m \u001b[0mlog\u001b[0m\u001b[0;34m(\u001b[0m\u001b[0;36m5\u001b[0m\u001b[0;34m)\u001b[0m\u001b[0;34m\u001b[0m\u001b[0;34m\u001b[0m\u001b[0m\n\u001b[0m",
      "\u001b[0;31mNameError\u001b[0m: name 'log' is not defined"
     ]
    }
   ],
   "source": [
    "log(5)"
   ]
  },
  {
   "cell_type": "markdown",
   "metadata": {},
   "source": [
    "Ovviamente mi basta importare anche la funzione `log`, per poterla usare. È possibile anche importare più funzioni contemporaneamente, elencandole."
   ]
  },
  {
   "cell_type": "code",
   "execution_count": null,
   "metadata": {},
   "outputs": [],
   "source": [
    "# Importa le funzioni log (logaritmo naturale) e log2 (logaritmo in base 2)\n",
    "from math import log, log2"
   ]
  },
  {
   "cell_type": "code",
   "execution_count": null,
   "metadata": {},
   "outputs": [
    {
     "data": {
      "text/plain": [
       "2.0794415416798357"
      ]
     },
     "execution_count": 30,
     "metadata": {},
     "output_type": "execute_result"
    }
   ],
   "source": [
    "log(8)"
   ]
  },
  {
   "cell_type": "code",
   "execution_count": null,
   "metadata": {},
   "outputs": [
    {
     "data": {
      "text/plain": [
       "3.0"
      ]
     },
     "execution_count": 31,
     "metadata": {},
     "output_type": "execute_result"
    }
   ],
   "source": [
    "log2(8)"
   ]
  },
  {
   "cell_type": "markdown",
   "metadata": {},
   "source": [
    "È possibile anche importare tutte le funzioni di un modulo, usando l'asterisco come nome di funzione, ad esempio:\n",
    "```python\n",
    "from math import *\n",
    "```\n",
    "Tuttavia, questa cosa è di solito sconsigliata perché si perde il controllo di quale e quante funzioni sono definite."
   ]
  },
  {
   "cell_type": "markdown",
   "metadata": {},
   "source": [
    "In alternativa, invece di importare una funzione, posso importare un modulo. In tal caso, posso usare tutte le funzioni di quel modulo, ma devo par precedere il nome della funzione dal nome del modulo, separati da un punto."
   ]
  },
  {
   "cell_type": "code",
   "execution_count": null,
   "metadata": {},
   "outputs": [],
   "source": [
    "import math # Importa il modulo math"
   ]
  },
  {
   "cell_type": "code",
   "execution_count": null,
   "metadata": {},
   "outputs": [
    {
     "ename": "NameError",
     "evalue": "name 'sin' is not defined",
     "output_type": "error",
     "traceback": [
      "\u001b[0;31m---------------------------------------------------------------------------\u001b[0m",
      "\u001b[0;31mNameError\u001b[0m                                 Traceback (most recent call last)",
      "\u001b[0;32m/tmp/ipykernel_1508067/3469024889.py\u001b[0m in \u001b[0;36m<module>\u001b[0;34m\u001b[0m\n\u001b[1;32m      1\u001b[0m \u001b[0;31m# Non posso usare la funzione sin perché non l'ho importate esplicitamente\u001b[0m\u001b[0;34m\u001b[0m\u001b[0;34m\u001b[0m\u001b[0m\n\u001b[0;32m----> 2\u001b[0;31m \u001b[0msin\u001b[0m\u001b[0;34m(\u001b[0m\u001b[0;36m3\u001b[0m\u001b[0;34m)\u001b[0m\u001b[0;34m\u001b[0m\u001b[0;34m\u001b[0m\u001b[0m\n\u001b[0m",
      "\u001b[0;31mNameError\u001b[0m: name 'sin' is not defined"
     ]
    }
   ],
   "source": [
    "# Non posso usare la funzione sin perché non l'ho importate esplicitamente\n",
    "sin(3)"
   ]
  },
  {
   "cell_type": "code",
   "execution_count": null,
   "metadata": {},
   "outputs": [
    {
     "data": {
      "text/plain": [
       "0.1411200080598672"
      ]
     },
     "execution_count": 34,
     "metadata": {},
     "output_type": "execute_result"
    }
   ],
   "source": [
    "# Ma posso usarla scrivendo math.sin, perché ho importato il modulo math\n",
    "math.sin(3)"
   ]
  },
  {
   "cell_type": "code",
   "execution_count": null,
   "metadata": {},
   "outputs": [
    {
     "name": "stdout",
     "output_type": "stream",
     "text": [
      "2.0\n",
      "2.0\n"
     ]
    }
   ],
   "source": [
    "# Notare che in questo momento posso usare sqrt sia direttamente, che passando per il modulo math.\n",
    "print(sqrt(4))\n",
    "print(math.sqrt(4))"
   ]
  },
  {
   "cell_type": "markdown",
   "metadata": {},
   "source": [
    "Oltre al modulo `math`, Python mette a disposizione tantissimi altri moduli, la cui domentazioni si trova qui: https://docs.python.org/3/library/index.html. Tutti questi moduli costituiscono quella che si chiama la *libreria stadard* di Python. In generale, una libreria è una collezione di moduli collegati tra di loro che implementano assieme una qualche funzionalità (quindi, in sotanza, una libreria è una collezione di moduli, e un modulo a sua volta è una collezione di funzioni e tipi definiti dall'utente). La libreria standard è l'insieme di tutti i moduli a disposizione del programmatore Python una volta installato.\n",
    "\n",
    "È possibile aggiungere a Python altre librerie per utilizzare funzionali non presenti nella libreria standard, ma questo lo vedremo in una lezione successiva."
   ]
  },
  {
   "cell_type": "markdown",
   "metadata": {},
   "source": [
    "***"
   ]
  },
  {
   "cell_type": "markdown",
   "metadata": {},
   "source": [
    "**Esercizio R2.3**\n",
    "\n",
    "Scrivere in Python le seguenti formule matematiche:\n",
    "  - $s=s_0 + v_0 t + \\frac{1}{2}gt^2$\n",
    "  - $c=\\sqrt{a^2 + b^2 -2 ab \\cos \\gamma}$"
   ]
  },
  {
   "cell_type": "markdown",
   "metadata": {},
   "source": [
    "**Soluzioni**\n",
    "\n",
    "Per la prima espressione, le seguenti sono tutte più o meno equivalenti:\n",
    "\n",
    "```python\n",
    "s = s0 + v0*t + 0.5*g*(t**2) \n",
    "s = s0 + v0*t + g*(t**2)/ 2\n",
    "s = s0 + v0*t + 1/2*g*(t**2) \n",
    "```\n",
    "\n",
    "Per la seconda espressione, questa è la versione Python più ovvia. Notare che, in Python, è obbligatorio mettere le parentesi attorno all'argomento della funzione `cos`, mentre in matematichese non è necessario.\n",
    "\n",
    "```python\n",
    "c = sqrt(a**2 + b**2 - 2*a*b*cos(gamma))\n",
    "```"
   ]
  },
  {
   "cell_type": "markdown",
   "metadata": {},
   "source": [
    "Notare che in Python i nomi delle variabili possono contenre anche caratteri di altri alfabeti. Ad esempio, se siete in grado in qualche modo di scrivere il carattere ɣ (gamma), e il come fare dipende dal vostro sistema operativo, potete scrivere:"
   ]
  },
  {
   "cell_type": "code",
   "execution_count": null,
   "metadata": {},
   "outputs": [
    {
     "data": {
      "text/plain": [
       "6"
      ]
     },
     "execution_count": 2,
     "metadata": {},
     "output_type": "execute_result"
    }
   ],
   "source": [
    "ɣ = 2\n",
    "ɣ + 4"
   ]
  },
  {
   "cell_type": "markdown",
   "metadata": {},
   "source": [
    "**Esercizio R2.4**\n",
    "\n",
    "Scrivere in matematichese il seguente assegnamento in Python:\n",
    "\n",
    "```python\n",
    "z = sqrt(x*x + y*y)\n",
    "```"
   ]
  },
  {
   "cell_type": "markdown",
   "metadata": {},
   "source": [
    "**Soluzioni**\n",
    "\n",
    "$z = \\sqrt{x^2 + y^2}$"
   ]
  },
  {
   "cell_type": "markdown",
   "metadata": {},
   "source": [
    "**Esercizio R2.9**\n",
    "\n",
    "Individuare due errori (uno a tempo di esecuzione, uno logico) del seguente programma:\n",
    "```python\n",
    "from math import sqrt\n",
    "x = 2\n",
    "y = 4\n",
    "print(\"Il prodotto di\", x, \"e\", y, \"è\", x + y)\n",
    "print(\"La radice della loro differenza è\", sqrt(x - y))\n",
    "```"
   ]
  },
  {
   "cell_type": "markdown",
   "metadata": {},
   "source": [
    "**Soluzioni**\n",
    "\n",
    "  - La prima istruzione `print` stampa la somma di `x` ed `y`, ma a giudicare da quello che c'è scritto nelle stringhe esplicative, dovrebbe stampare il loro prodotto.\n",
    "  - La seconda istruzione `print` causa un errore a tempo di esecuzione perché `x - y` è uguale a -2, che è negativo, e come sappiamo non si può calcolare la radice quadrata di un numero negativo (almeno se non vogliamo andare a finire nel territorio dei numeri complessi.)"
   ]
  },
  {
   "attachments": {
    "image.png": {
     "image/png": "[encoded data removed]"
    }
   },
   "cell_type": "markdown",
   "metadata": {},
   "source": [
    "**Esercizio**\n",
    "\n",
    "Scrivere un programma che prende in input base e altezza di un rettangolo, e calcola la lunghezza delal diagonale.\n",
    "\n",
    "**Soluzione**\n",
    "\n",
    "Per la soluzione consultare il `programma_231003_1_diagonale_rettangolo.py`. Per calcolare la diagonale data base e altezza si usa il teorema di Pitagora:\n",
    "\n",
    "![image.png](attachment:image.png)"
   ]
  },
  {
   "cell_type": "markdown",
   "metadata": {},
   "source": [
    "***"
   ]
  },
  {
   "cell_type": "markdown",
   "metadata": {},
   "source": [
    "# Convenzioni stilistiche"
   ]
  },
  {
   "cell_type": "markdown",
   "metadata": {},
   "source": [
    "In Python è bene seguire alcune convenzioni che, sebbene non obbligatorie, rendono più leggibili i programmi. Queste convenzioni sono descritte in dettaglio nella [Style Guide for Python Code](https://peps.python.org/pep-0008/). Ne riassumo qui gli aspetti più significativi.\n",
    "\n",
    "Alcune convenzioni riguardano gli spazi:\n",
    "\n",
    "  1. Mettere sempre uno spazio prima e dopo l'istruzione di assegnamento `=`. \n",
    "     - ~~`x=1`~~\n",
    "     - `x = 1`\n",
    "  2. È possibile mettere spazi prima e dopo gli operatori binari (`+`, `-`, `*`, etc...) per rendere una espressione più leggibile.\n",
    "  3. Non mettere mai spazi tra il nome di una funzione e la parentesi aperta.\n",
    "     - ~~`abs (34)`~~\n",
    "     - `abs(34)`\n",
    "  4. Non mettere mai spazi prima o dopo il punto che separa il nome del modulo dal nome di una funzione.\n",
    "     - ~~`math . sin(3)`~~\n",
    "     - `math.sin(3)`\n",
    "  \n",
    "Altre riguardano il nome delle variabili:\n",
    "\n",
    "  1. I nomi delle variabili sono tutte in lettere maiuscole.\n",
    "     - ~~`Pippo`~~\n",
    "     - ~~`PiPPo`~~\n",
    "     - `pippo`\n",
    "  2. Se il nome è formato da più parole, separare le parole dal carattere sottolineatura `_`.\n",
    "     - ~~`baseminore`~~\n",
    "     - ~~`base minore`~~ (questa è proprio sbagliata, uno spazio non può far parte del nome di una variabile)\n",
    "     - `base_minore`\n",
    "\n",
    "Questa convenzione per i nomi delle variabili prende il nome di *snake case*. Una alternativa spesso usata in altri linguaggi, ad esempio Java, è il *camel case*, che differisce per il punto 2:\n",
    "  \n",
    "  2. Se il nome è formato da più parole, scrivere le parole attaccate ma iniziare tutte tranne la prima con una lettera maiuscola\n",
    "     - ~~`baseminore`~~\n",
    "     - ~~`base minore`~~\n",
    "     - `baseMinore`\n",
    "\n",
    "Il vostro libro vi consiglia impropriamente di usare il camel case anche per Python: non fatelo.\n",
    "\n",
    "Infine, un caso particolari sono le variabili che contengono i cosidetti *numeri magici* o altre costanti significative per il programma. In questo caso, per rendere evidente che si tratta di valori costanti, si utilizza sempre la convenzione dello snake case, ma la variabile si scrive tutta in maiuscolo.\n",
    "  - ~~`pi_greco`~~\n",
    "  - ~~`piGreco`~~\n",
    "  - `PI_GRECO`"
   ]
  },
  {
   "cell_type": "markdown",
   "metadata": {},
   "source": [
    "# Stringhe"
   ]
  },
  {
   "cell_type": "markdown",
   "metadata": {},
   "source": [
    "Le stringhe sono sequenze di caratteri. È possibile scrivere un valore di tipo stringa racchiundendo i caratteri che compongono la sequenza tra virgolette doppie o singole (apici)."
   ]
  },
  {
   "cell_type": "code",
   "execution_count": null,
   "metadata": {},
   "outputs": [
    {
     "data": {
      "text/plain": [
       "'ciao sono io'"
      ]
     },
     "execution_count": 36,
     "metadata": {},
     "output_type": "execute_result"
    }
   ],
   "source": [
    "\"ciao sono io\""
   ]
  },
  {
   "cell_type": "code",
   "execution_count": null,
   "metadata": {},
   "outputs": [
    {
     "data": {
      "text/plain": [
       "'ciao sono io'"
      ]
     },
     "execution_count": 37,
     "metadata": {},
     "output_type": "execute_result"
    }
   ],
   "source": [
    "'ciao sono io'"
   ]
  },
  {
   "cell_type": "markdown",
   "metadata": {},
   "source": [
    "Un caso particolare è la *stringa vuota*, ovvero quella che non contiene nessun carattere, che si scrive come una coppia di virgolette o apici consecutive."
   ]
  },
  {
   "cell_type": "code",
   "execution_count": null,
   "metadata": {},
   "outputs": [
    {
     "data": {
      "text/plain": [
       "''"
      ]
     },
     "execution_count": 38,
     "metadata": {},
     "output_type": "execute_result"
    }
   ],
   "source": [
    "\"\""
   ]
  },
  {
   "cell_type": "markdown",
   "metadata": {},
   "source": [
    "Attenzione, la stringa qua sotto non é la stringa vuota: è invece una stringa che contiene uno spazio."
   ]
  },
  {
   "cell_type": "code",
   "execution_count": null,
   "metadata": {},
   "outputs": [
    {
     "data": {
      "text/plain": [
       "' '"
      ]
     },
     "execution_count": 39,
     "metadata": {},
     "output_type": "execute_result"
    }
   ],
   "source": [
    "\" \""
   ]
  },
  {
   "cell_type": "markdown",
   "metadata": {},
   "source": [
    "Le stringhe possono essere assegnate a variabili, esattamente come i valori numerici."
   ]
  },
  {
   "cell_type": "code",
   "execution_count": null,
   "metadata": {},
   "outputs": [
    {
     "data": {
      "text/plain": [
       "'ciao'"
      ]
     },
     "execution_count": 40,
     "metadata": {},
     "output_type": "execute_result"
    }
   ],
   "source": [
    "s = \"ciao\"\n",
    "r = \"Gianluca\"\n",
    "s"
   ]
  },
  {
   "cell_type": "markdown",
   "metadata": {},
   "source": [
    "## Operazioni su stringhe"
   ]
  },
  {
   "cell_type": "markdown",
   "metadata": {},
   "source": [
    "### Concatenazione"
   ]
  },
  {
   "cell_type": "markdown",
   "metadata": {},
   "source": [
    "Due stringhe si possono concatenare tramite l'operazione `+`."
   ]
  },
  {
   "cell_type": "code",
   "execution_count": null,
   "metadata": {},
   "outputs": [
    {
     "data": {
      "text/plain": [
       "'ciaogianluca'"
      ]
     },
     "execution_count": 41,
     "metadata": {},
     "output_type": "execute_result"
    }
   ],
   "source": [
    "\"ciao\" + \"gianluca\""
   ]
  },
  {
   "cell_type": "code",
   "execution_count": null,
   "metadata": {},
   "outputs": [
    {
     "data": {
      "text/plain": [
       "'ciaoGianluca'"
      ]
     },
     "execution_count": 42,
     "metadata": {},
     "output_type": "execute_result"
    }
   ],
   "source": [
    "s + r"
   ]
  },
  {
   "cell_type": "markdown",
   "metadata": {},
   "source": [
    "Se si vogliono inserire spazi, vanno indicati esplicitamente."
   ]
  },
  {
   "cell_type": "code",
   "execution_count": null,
   "metadata": {},
   "outputs": [
    {
     "data": {
      "text/plain": [
       "'ciao Gianluca'"
      ]
     },
     "execution_count": 43,
     "metadata": {},
     "output_type": "execute_result"
    }
   ],
   "source": [
    "s + \" \" + r"
   ]
  },
  {
   "cell_type": "markdown",
   "metadata": {},
   "source": [
    "### Ripetizione"
   ]
  },
  {
   "cell_type": "markdown",
   "metadata": {},
   "source": [
    "È possibile concatenare copie ripetute della stessa stringa moltiplicandola per una costante."
   ]
  },
  {
   "cell_type": "code",
   "execution_count": null,
   "metadata": {},
   "outputs": [
    {
     "data": {
      "text/plain": [
       "'ciaociaociao'"
      ]
     },
     "execution_count": 44,
     "metadata": {},
     "output_type": "execute_result"
    }
   ],
   "source": [
    "\"ciao\" * 3  # copia 3 volte la stringa \"ciao\""
   ]
  },
  {
   "cell_type": "code",
   "execution_count": null,
   "metadata": {},
   "outputs": [
    {
     "data": {
      "text/plain": [
       "'--------------------------------------------------'"
      ]
     },
     "execution_count": 45,
     "metadata": {},
     "output_type": "execute_result"
    }
   ],
   "source": [
    "\"-\" * 50"
   ]
  },
  {
   "cell_type": "markdown",
   "metadata": {},
   "source": [
    "Funziona anche se il numero sta a sinistra."
   ]
  },
  {
   "cell_type": "code",
   "execution_count": null,
   "metadata": {},
   "outputs": [
    {
     "data": {
      "text/plain": [
       "'--------------------------------------------------'"
      ]
     },
     "execution_count": 46,
     "metadata": {},
     "output_type": "execute_result"
    }
   ],
   "source": [
    "50 * \"-\""
   ]
  },
  {
   "cell_type": "markdown",
   "metadata": {},
   "source": [
    "Ovviamente non posso moltiplicare due stringhe tra di loro, non ha senso."
   ]
  },
  {
   "cell_type": "code",
   "execution_count": null,
   "metadata": {},
   "outputs": [
    {
     "ename": "TypeError",
     "evalue": "can't multiply sequence by non-int of type 'str'",
     "output_type": "error",
     "traceback": [
      "\u001b[0;31m---------------------------------------------------------------------------\u001b[0m",
      "\u001b[0;31mTypeError\u001b[0m                                 Traceback (most recent call last)",
      "\u001b[0;32m/tmp/ipykernel_1508067/622280143.py\u001b[0m in \u001b[0;36m<module>\u001b[0;34m\u001b[0m\n\u001b[0;32m----> 1\u001b[0;31m \u001b[0;34m\"ciao\"\u001b[0m \u001b[0;34m*\u001b[0m \u001b[0;34m\"gianluca\"\u001b[0m\u001b[0;34m\u001b[0m\u001b[0;34m\u001b[0m\u001b[0m\n\u001b[0m",
      "\u001b[0;31mTypeError\u001b[0m: can't multiply sequence by non-int of type 'str'"
     ]
    }
   ],
   "source": [
    "\"ciao\" * \"gianluca\""
   ]
  },
  {
   "cell_type": "markdown",
   "metadata": {},
   "source": [
    "### Estrazione di caratteri"
   ]
  },
  {
   "cell_type": "markdown",
   "metadata": {},
   "source": [
    "Data una stringa, è possibile estrarre un singolo carattere. Ogni carattere infatti ha una posizione, che parte da 0. Ricordiamo che la stringa `r`, definita sopra, ha valore `Gianluca`. Quindi il primo carattere, la `G`, è in posizione 0, mentre la `n` è in posizione 3. Per estrarre da una stringa `r` il carattere in posizione `i`, la notazione è `r[i]`."
   ]
  },
  {
   "cell_type": "code",
   "execution_count": null,
   "metadata": {},
   "outputs": [
    {
     "data": {
      "text/plain": [
       "'G'"
      ]
     },
     "execution_count": 48,
     "metadata": {},
     "output_type": "execute_result"
    }
   ],
   "source": [
    "r[0]"
   ]
  },
  {
   "cell_type": "code",
   "execution_count": null,
   "metadata": {},
   "outputs": [
    {
     "data": {
      "text/plain": [
       "'n'"
      ]
     },
     "execution_count": 49,
     "metadata": {},
     "output_type": "execute_result"
    }
   ],
   "source": [
    "r[3]"
   ]
  },
  {
   "cell_type": "markdown",
   "metadata": {},
   "source": [
    "Si possono mettere anche posizioni negative. In tal caso, `-1` è l'ultima posizione della stringa, `-2` la penultima e così via."
   ]
  },
  {
   "cell_type": "code",
   "execution_count": null,
   "metadata": {},
   "outputs": [
    {
     "data": {
      "text/plain": [
       "'a'"
      ]
     },
     "execution_count": 50,
     "metadata": {},
     "output_type": "execute_result"
    }
   ],
   "source": [
    "r[-1]"
   ]
  },
  {
   "cell_type": "code",
   "execution_count": null,
   "metadata": {},
   "outputs": [
    {
     "data": {
      "text/plain": [
       "'c'"
      ]
     },
     "execution_count": 51,
     "metadata": {},
     "output_type": "execute_result"
    }
   ],
   "source": [
    "r[-2]"
   ]
  },
  {
   "cell_type": "markdown",
   "metadata": {},
   "source": [
    "Si noti che, a differenza di altri linguaggi come Java o C, il Python non ha un tipo specifico per il singolo carattere."
   ]
  },
  {
   "cell_type": "markdown",
   "metadata": {},
   "source": [
    "Se tento di estrarre un carattere da una posizione inesistente, ottengo un errore."
   ]
  },
  {
   "cell_type": "code",
   "execution_count": null,
   "metadata": {},
   "outputs": [
    {
     "ename": "IndexError",
     "evalue": "string index out of range",
     "output_type": "error",
     "traceback": [
      "\u001b[0;31m---------------------------------------------------------------------------\u001b[0m",
      "\u001b[0;31mIndexError\u001b[0m                                Traceback (most recent call last)",
      "\u001b[0;32m/tmp/ipykernel_1508067/439612334.py\u001b[0m in \u001b[0;36m<module>\u001b[0;34m\u001b[0m\n\u001b[0;32m----> 1\u001b[0;31m \u001b[0mr\u001b[0m\u001b[0;34m[\u001b[0m\u001b[0;36m10\u001b[0m\u001b[0;34m]\u001b[0m\u001b[0;34m\u001b[0m\u001b[0;34m\u001b[0m\u001b[0m\n\u001b[0m",
      "\u001b[0;31mIndexError\u001b[0m: string index out of range"
     ]
    }
   ],
   "source": [
    "r[10]"
   ]
  },
  {
   "cell_type": "markdown",
   "metadata": {},
   "source": [
    "Infine, la stringa a sinistra delle parentesi quadre potrebbe anche non essere una variabile, ma ottenuta in qualunque modo, attraverso operazioni anche complsse."
   ]
  },
  {
   "cell_type": "code",
   "execution_count": null,
   "metadata": {},
   "outputs": [
    {
     "data": {
      "text/plain": [
       "'G'"
      ]
     },
     "execution_count": 53,
     "metadata": {},
     "output_type": "execute_result"
    }
   ],
   "source": [
    "# Prima si somma \"Ciao\" e \"Gianluca\", ottenendo \"CiaoGianluca\", poi si estrae il carattere in posizione 4 (ovvero il quinto) ovvero \"i\"\n",
    "(\"Ciao\" + \"Gianluca\")[4]"
   ]
  },
  {
   "cell_type": "markdown",
   "metadata": {},
   "source": [
    "Vale in generale il principio che **ovunque può andare un valore (numero, intero, stringa, o quant'altro) può andare anche una espressione complicata a piacere**."
   ]
  },
  {
   "cell_type": "markdown",
   "metadata": {},
   "source": [
    "### Lunghezza di una stringa"
   ]
  },
  {
   "cell_type": "markdown",
   "metadata": {},
   "source": [
    "Per *lughezza* di una stringa si intende il numero di caratteri che la compongono. Per calcolare la lunghezza di una stringa si usa la funzione `len`."
   ]
  },
  {
   "cell_type": "code",
   "execution_count": null,
   "metadata": {},
   "outputs": [
    {
     "data": {
      "text/plain": [
       "8"
      ]
     },
     "execution_count": 54,
     "metadata": {},
     "output_type": "execute_result"
    }
   ],
   "source": [
    "len(\"Gianluca\")"
   ]
  },
  {
   "cell_type": "code",
   "execution_count": null,
   "metadata": {},
   "outputs": [
    {
     "data": {
      "text/plain": [
       "4"
      ]
     },
     "execution_count": 55,
     "metadata": {},
     "output_type": "execute_result"
    }
   ],
   "source": [
    "len(s)   # ricordiamo che s è la stringa 'ciao'"
   ]
  },
  {
   "cell_type": "markdown",
   "metadata": {},
   "source": [
    "Notare che l'ultima carattere di una stringa `r` ha  posizione `len(r)-1`. Il `-1` è dovuto al fatto che le posizioni delle stringhe partono da zero."
   ]
  },
  {
   "cell_type": "code",
   "execution_count": null,
   "metadata": {},
   "outputs": [
    {
     "data": {
      "text/plain": [
       "'o'"
      ]
     },
     "execution_count": 56,
     "metadata": {},
     "output_type": "execute_result"
    }
   ],
   "source": [
    "s[len(s)-1] # alternatina ad s[-1]"
   ]
  },
  {
   "cell_type": "markdown",
   "metadata": {},
   "source": [
    "### Estrazione di sottostringhe"
   ]
  },
  {
   "cell_type": "markdown",
   "metadata": {},
   "source": [
    "Invece di estrarre un singolo carattere da una stringa, se ne può estrarre un intero pezzo, chiamato *sottostringa*. Per estrarre una sottostringa dalla string `s`, la notazione è `s[i:j]`. Il risultato è la sottostringa formata prelevando da `s` i caratteri dalla posizione i (inclusa) alla posizione j (**esclusa**).\n",
    "\n",
    "È molto importante ricordare che la posizione dell'ultimo elemento dell'estrazione è esclusa!!"
   ]
  },
  {
   "cell_type": "code",
   "execution_count": null,
   "metadata": {},
   "outputs": [
    {
     "data": {
      "text/plain": [
       "'ianl'"
      ]
     },
     "execution_count": 57,
     "metadata": {},
     "output_type": "execute_result"
    }
   ],
   "source": [
    "r[1:5]"
   ]
  },
  {
   "cell_type": "markdown",
   "metadata": {},
   "source": [
    "Se vogliamo estrarre tutti i caratteri di `r` dala seconda posizione (posizione 1) in poi, possiamo scrivere r[1:8], dove 8 è la lunghezza di `r`. Sebbene la posizione 8 non esista, l'estrazione va a buon fine perché l'estremo destro è escluso dall'estrazione."
   ]
  },
  {
   "cell_type": "code",
   "execution_count": null,
   "metadata": {},
   "outputs": [
    {
     "data": {
      "text/plain": [
       "'ianluca'"
      ]
     },
     "execution_count": 58,
     "metadata": {},
     "output_type": "execute_result"
    }
   ],
   "source": [
    "r[1:8]"
   ]
  },
  {
   "cell_type": "markdown",
   "metadata": {},
   "source": [
    "Un realtà, c'è una sintassi speciale per prendere tutti i caratteri da un certa posizione in poi: basta non scrivere niente dopo i due punti."
   ]
  },
  {
   "cell_type": "code",
   "execution_count": null,
   "metadata": {},
   "outputs": [
    {
     "data": {
      "text/plain": [
       "'anluca'"
      ]
     },
     "execution_count": 59,
     "metadata": {},
     "output_type": "execute_result"
    }
   ],
   "source": [
    "r[2:]  # Estrae dalla 2° posizione in poi della stringa r"
   ]
  },
  {
   "cell_type": "markdown",
   "metadata": {},
   "source": [
    "Analogamente, se vogliamo estrarre dalla prima posizione della stringa `r` fino alla posizione `i` (esclusa), invece di scrivere `r[0:i]` possiamo solo scrivere `r[:i]`."
   ]
  },
  {
   "cell_type": "code",
   "execution_count": null,
   "metadata": {},
   "outputs": [
    {
     "data": {
      "text/plain": [
       "'Gi'"
      ]
     },
     "execution_count": 60,
     "metadata": {},
     "output_type": "execute_result"
    }
   ],
   "source": [
    "r[:2]"
   ]
  },
  {
   "cell_type": "markdown",
   "metadata": {},
   "source": [
    "***"
   ]
  },
  {
   "attachments": {
    "image.png": {
     "image/png": "[encoded data removed]"
    }
   },
   "cell_type": "markdown",
   "metadata": {},
   "source": [
    "**Esercizio R2.13 (variante)**\n",
    "\n",
    "Scrivete un programma Python che legge una parola e ne visualizza il primo carattere, l'ultimo e il carattere centrale. Se, ad esempio, il dato in ingresso è `Harry`, il programma deve visualizzare `H r y`. Se la lunghezza della parola è pari, il programma deve visualizzare il primo dei due caratteri centrali.\n",
    "\n",
    "**Soluzione**\n",
    "\n",
    "Per la soluzione vedere `programma_231003_2_estrazione_caratteri.py`. L'unica cosa che può risultare difficile è capire in che posizione si trova il carattere centrale, e trovare fuori con una formula che funzioni sia nel caso la stringa in ingresso abbia lunghezza pari, sia nel caso abbia lunghezza dispari. Con un po' di esperimenti, si può capire che la formula corretta è la parte intera di $\\frac{\\text{lunghezza stringa} - 1}{2}$.\n",
    "\n",
    "![image.png](attachment:image.png)"
   ]
  },
  {
   "cell_type": "markdown",
   "metadata": {},
   "source": [
    "***"
   ]
  }
 ],
 "metadata": {
  "kernelspec": {
   "display_name": "Python 3",
   "language": "python",
   "name": "python3"
  },
  "language_info": {
   "codemirror_mode": {
    "name": "ipython",
    "version": 3
   },
   "file_extension": ".py",
   "mimetype": "text/x-python",
   "name": "python",
   "nbconvert_exporter": "python",
   "pygments_lexer": "ipython3",
   "version": "3.11.5"
  },
  "orig_nbformat": 4
 },
 "nbformat": 4,
 "nbformat_minor": 2
}
