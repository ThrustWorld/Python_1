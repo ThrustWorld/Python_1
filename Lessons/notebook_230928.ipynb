{
 "cells": [
  {
   "cell_type": "markdown",
   "metadata": {},
   "source": [
    "# Variabili e tipi di dato numerici"
   ]
  },
  {
   "cell_type": "markdown",
   "metadata": {},
   "source": [
    "## Variabili"
   ]
  },
  {
   "cell_type": "markdown",
   "metadata": {},
   "source": [
    "Possiamo creare una variabile e assegnargli un valore con la **istruzione di assegnamento**. La sintassi è `nome_variabile = valore`. "
   ]
  },
  {
   "cell_type": "code",
   "execution_count": null,
   "metadata": {},
   "outputs": [],
   "source": [
    "prova = 4"
   ]
  },
  {
   "cell_type": "markdown",
   "metadata": {},
   "source": [
    "Una volta creata una variabile, possiamo usarla nelle espressioni. L'istruzione qua sotto stampa 9, che è la somma di 4 (il valore della variabile `prova`) e di 5."
   ]
  },
  {
   "cell_type": "code",
   "execution_count": null,
   "metadata": {},
   "outputs": [],
   "source": [
    "print(prova + 5)"
   ]
  },
  {
   "cell_type": "markdown",
   "metadata": {},
   "source": [
    "Se si prova ad utilizzare una variabile che non esiste, si genera un errore a tempo di esecuzione (`NameError`)"
   ]
  },
  {
   "cell_type": "code",
   "execution_count": null,
   "metadata": {},
   "outputs": [],
   "source": [
    "print(pippo + 5)"
   ]
  },
  {
   "cell_type": "markdown",
   "metadata": {},
   "source": [
    "Una volta creata la variabile incriminata..."
   ]
  },
  {
   "cell_type": "code",
   "execution_count": null,
   "metadata": {},
   "outputs": [],
   "source": [
    "pippo = 2"
   ]
  },
  {
   "cell_type": "markdown",
   "metadata": {},
   "source": [
    "...è possibile utilizzarla."
   ]
  },
  {
   "cell_type": "code",
   "execution_count": null,
   "metadata": {},
   "outputs": [],
   "source": [
    "print(pippo + 5)"
   ]
  },
  {
   "cell_type": "markdown",
   "metadata": {},
   "source": [
    "Esattamente allo stesso modo di come si crea una variabile, è possibile cambiarne il valore."
   ]
  },
  {
   "cell_type": "code",
   "execution_count": null,
   "metadata": {},
   "outputs": [],
   "source": [
    "pippo = 65\n",
    "print(pippo)"
   ]
  },
  {
   "cell_type": "markdown",
   "metadata": {},
   "source": [
    "A destra del simbolo di uguaglianza, è possibile mettere una espressione, che eventualmente utilizzi le altre variabili."
   ]
  },
  {
   "cell_type": "code",
   "execution_count": null,
   "metadata": {},
   "outputs": [],
   "source": [
    "# pippo al momento vale 4\n",
    "pippo = 2 * prova + 1\n",
    "print(pippo)"
   ]
  },
  {
   "cell_type": "markdown",
   "metadata": {},
   "source": [
    "È forse il momento di dire che, nel notebook, l'istruzione `print` è spesso ridondante: viene infatti automaticamente stampato il valore dell'ultima espressione presente in ogni cella."
   ]
  },
  {
   "cell_type": "code",
   "execution_count": null,
   "metadata": {},
   "outputs": [],
   "source": [
    "pippo = 2 * prova + 1\n",
    "pippo  # il valore di questa espressione verrà stampato automaticamente"
   ]
  },
  {
   "cell_type": "markdown",
   "metadata": {},
   "source": [
    "Infine, nel lato destro di una uguaglianza può comparire la variabile che stiamo assegnando: prima viene valutata l'espressione sulla destra, risultato viene assegnato alla variabile sulla sinistra."
   ]
  },
  {
   "cell_type": "code",
   "execution_count": null,
   "metadata": {},
   "outputs": [],
   "source": [
    "pippo = 2                # pippo = 2\n",
    "pippo = 3 * pippo + 1    # pippo = 3 * 2 + 1 = 7\n",
    "pippo"
   ]
  },
  {
   "cell_type": "markdown",
   "metadata": {},
   "source": [
    "È importante sottolineare qindi che l'istruzione di assegnamento non va interpretata come una uguaglianza in matematica. È invece una operazione di trasferimento dati: il valore calcolato della espressione del lato destro viene trasferita nella variabile a sinistra."
   ]
  },
  {
   "cell_type": "markdown",
   "metadata": {},
   "source": [
    "***"
   ]
  },
  {
   "cell_type": "markdown",
   "metadata": {},
   "source": [
    "**Esercizio R2.1**: quanto vale `mystery` alla fine di queste istruzioni ?\n",
    "```python\n",
    "mystery = 1\n",
    "mystery = 1 - 2*mystery\n",
    "mystery = mystery + 1\n",
    "# ```"
   ]
  },
  {
   "cell_type": "markdown",
   "metadata": {},
   "source": [
    "**Soluzioni**"
   ]
  },
  {
   "cell_type": "code",
   "execution_count": null,
   "metadata": {},
   "outputs": [],
   "source": [
    "mystery = 1               # mystery = 1\n",
    "mystery = 1 - 2*mystery   # mystery diventa 1 - 2*1 = 1-2 = -1\n",
    "mystery = mystery + 1     # mysery diventa  -1 + 1 = 0\n",
    "mystery"
   ]
  },
  {
   "cell_type": "markdown",
   "metadata": {},
   "source": [
    "**Esercizio R2.1**: quanto vale `mystery` alla fine di queste istruzioni ?\n",
    "```python\n",
    "mystery = 1\n",
    "mystery = mystery + 1\n",
    "mystery = 1 - 2*mystery\n",
    "# ```"
   ]
  },
  {
   "cell_type": "code",
   "execution_count": null,
   "metadata": {},
   "outputs": [],
   "source": [
    "mystery = 1              # mystery = 1\n",
    "mystery = mystery + 1    # mystery = 1 + 1 = 2\n",
    "mystery = 1 - 2*mystery  # mystery = 1-2*2 = 1- 4 = -3\n",
    "mystery"
   ]
  },
  {
   "cell_type": "markdown",
   "metadata": {},
   "source": [
    "***"
   ]
  },
  {
   "cell_type": "markdown",
   "metadata": {},
   "source": [
    "## Input dall'utente"
   ]
  },
  {
   "cell_type": "markdown",
   "metadata": {},
   "source": [
    "Il programma che segue calcola l'area è il perimetro di un cerchio dato il raggio. È solo un esempio per mostrare l'effetto della funzione `input` all'interno di un notebook."
   ]
  },
  {
   "cell_type": "code",
   "execution_count": null,
   "metadata": {},
   "outputs": [],
   "source": [
    "raggio = int(input(\"Immetti il raggio del cerchio: \"))\n",
    "PIGRECO = 3.1415\n",
    "area = PIGRECO * raggio * raggio\n",
    "perimetro = 2 * PIGRECO * raggio\n",
    "print(\"L'area del cerchio è\", area)\n",
    "print(\"Il perimetro del cerchio è\", perimetro)"
   ]
  },
  {
   "cell_type": "markdown",
   "metadata": {},
   "source": [
    "## Tipi di dato"
   ]
  },
  {
   "cell_type": "markdown",
   "metadata": {},
   "source": [
    "Tipi dato: i tipi di informazioni che Python può gestire e si dividono in due gruppi:\n",
    "* tipi primitivi\n",
    "* tipi definiti dall'utente\n",
    "\n",
    "Tipi primitivi:\n",
    "* numeri interi\n",
    "* numeri \"con la virgola\" (a virgola mobile)\n",
    "* stringhe\n",
    "* ..."
   ]
  },
  {
   "cell_type": "markdown",
   "metadata": {},
   "source": [
    "Una variabile non è legata ad un tipo specifico, come avviene in altri linguaggi di programmazione come Java. Ad un variabile posso assegnare un valore di un tipo e, successivamente, un valore di un altro tipo."
   ]
  },
  {
   "cell_type": "code",
   "execution_count": null,
   "metadata": {},
   "outputs": [],
   "source": [
    "# assegno a prova un valore intero\n",
    "prova = 4\n",
    "prova"
   ]
  },
  {
   "cell_type": "code",
   "execution_count": null,
   "metadata": {},
   "outputs": [],
   "source": [
    "# assegno a prova un valore in virgola mobile\n",
    "prova = 4.5\n",
    "prova"
   ]
  },
  {
   "cell_type": "code",
   "execution_count": null,
   "metadata": {},
   "outputs": [],
   "source": [
    "# assegno a prova un valore di tipo stringa\n",
    "prova = \"Ciao\"\n",
    "prova"
   ]
  },
  {
   "cell_type": "markdown",
   "metadata": {},
   "source": [
    "Posso sapere il tipo di un valore, di una espressione o di una variabile usando la funzione `type`."
   ]
  },
  {
   "cell_type": "code",
   "execution_count": null,
   "metadata": {},
   "outputs": [],
   "source": [
    "type(5)  # numero intero"
   ]
  },
  {
   "cell_type": "code",
   "execution_count": null,
   "metadata": {},
   "outputs": [],
   "source": [
    "type(2.4)  # numero in virgola mobile"
   ]
  },
  {
   "cell_type": "code",
   "execution_count": null,
   "metadata": {},
   "outputs": [],
   "source": [
    "type(\"Ciao\")  # stringa"
   ]
  },
  {
   "cell_type": "code",
   "execution_count": null,
   "metadata": {},
   "outputs": [],
   "source": [
    "a = 4.2\n",
    "type(a)"
   ]
  },
  {
   "cell_type": "markdown",
   "metadata": {},
   "source": [
    "Le operazioni che è possibile fare sui dati dipendono ovviamente dal tipo. È possibile moltiplicare due numeri..."
   ]
  },
  {
   "cell_type": "code",
   "execution_count": null,
   "metadata": {},
   "outputs": [],
   "source": [
    "3 * 4"
   ]
  },
  {
   "cell_type": "markdown",
   "metadata": {},
   "source": [
    "...ma non due stringhe."
   ]
  },
  {
   "cell_type": "code",
   "execution_count": null,
   "metadata": {},
   "outputs": [],
   "source": [
    "\"Ciao\" * \"Gianluca\""
   ]
  },
  {
   "cell_type": "markdown",
   "metadata": {},
   "source": [
    "### Tipo `int` (interi)"
   ]
  },
  {
   "cell_type": "code",
   "execution_count": null,
   "metadata": {},
   "outputs": [],
   "source": [
    "print(2 + 5)  # somma\n",
    "print(2 * 5)  # prodotto\n",
    "print(2 - 5)  # differenza\n",
    "print(5 / 2)  # divisione\n",
    "print(2 ** 5) # elevamento a potenza"
   ]
  },
  {
   "cell_type": "markdown",
   "metadata": {},
   "source": [
    "Notare che il risultato della divisione non è un numero intero, ma un numero in virgola mobile. Ma Python dispone anche di operazioni di divisione per numeri interi:\n",
    "  * `//`: restituisce il quoziente della divisione intera\n",
    "  * `%`: restituisce il resto della divisione intera (questa operazione è anche chiamata **modulo**)\n",
    "\n",
    "Ad esempio, la divisione intera di 5 e 2 ha come risultato 2 col resto di 1 (è il tipo di divisione che impariamo a fare nei primi anni di scuola primaria)"
   ]
  },
  {
   "cell_type": "code",
   "execution_count": null,
   "metadata": {},
   "outputs": [],
   "source": [
    "print(5 // 2)  # quoziente di 5 diviso 2\n",
    "print(5 % 2)   # resto di 5 diviso 2"
   ]
  },
  {
   "cell_type": "code",
   "execution_count": null,
   "metadata": {},
   "outputs": [],
   "source": [
    "# 13 diviso 3 è uguale a 4 col resto di 1\n",
    "print(13 // 3)\n",
    "print(13 % 3)\n",
    "\n",
    "# la divisione con virgola mi da 4.3333333.....\n",
    "print(13 / 3)"
   ]
  },
  {
   "cell_type": "markdown",
   "metadata": {},
   "source": [
    "A differenza di altri linguaggi di programmazione, i numeri interi in Python non hanno limitazione, se non la dimensione massima di memoria del computer. Non c'è, nessun problema, ad esempio, a calcolare il numero 2 elevato a 4000 (che è un numero con più di 1000 cifre!)"
   ]
  },
  {
   "cell_type": "code",
   "execution_count": null,
   "metadata": {},
   "outputs": [],
   "source": [
    "print(2 ** 4000)"
   ]
  },
  {
   "cell_type": "markdown",
   "metadata": {},
   "source": [
    "***"
   ]
  },
  {
   "cell_type": "markdown",
   "metadata": {},
   "source": [
    "**Esercizio R2.6**\n",
    "\n",
    "Che valori hanno le seguenti espressioni, nell'ipotesi che `n` valga 17 e `m` valga 18?\n",
    "```python\n",
    "n // 10 + n % 10\n",
    "n % 2 + m % 2\n",
    "(m + n) // 2\n",
    "(m + n) / 2\n",
    "```"
   ]
  },
  {
   "cell_type": "code",
   "execution_count": null,
   "metadata": {},
   "outputs": [],
   "source": [
    "n = 17\n",
    "m = 18\n",
    "print(n // 10 + n % 10)\n",
    "print(n % 2 + m % 2)\n",
    "print((m + n) // 2)\n",
    "print((m + n) / 2)"
   ]
  },
  {
   "cell_type": "markdown",
   "metadata": {},
   "source": [
    "***"
   ]
  },
  {
   "cell_type": "markdown",
   "metadata": {},
   "source": [
    "### Tipo `float` (virgola mobile)"
   ]
  },
  {
   "cell_type": "markdown",
   "metadata": {},
   "source": [
    "I numeri in virgola mobile (`float`) sono i numeri con la virgola! Attenzione che in Python (e in tutti gli altri linguaggi di programmazione) il tipo `int` non è un sottoinsieme del `float`: un numero con la virgola è un float anche se il valore dopo la virgola è 0."
   ]
  },
  {
   "cell_type": "code",
   "execution_count": null,
   "metadata": {},
   "outputs": [],
   "source": [
    "type(2)"
   ]
  },
  {
   "cell_type": "code",
   "execution_count": null,
   "metadata": {},
   "outputs": [],
   "source": [
    "type(2.0)  # in matematica 2.0 è un numero intero, ma non in Python"
   ]
  },
  {
   "cell_type": "markdown",
   "metadata": {},
   "source": [
    "La divisione `/` da come risultato un `float`, anche se matematicamente il risultato è intero."
   ]
  },
  {
   "cell_type": "code",
   "execution_count": null,
   "metadata": {},
   "outputs": [],
   "source": [
    "4 / 2  # Il risultato non è 2, ma 2.0"
   ]
  },
  {
   "cell_type": "markdown",
   "metadata": {},
   "source": [
    "Le operazioni sui `float` sono le stesse di quelle per gli interi: +, -, *, /, ** (e anche //  e %, ma non si usano quasi mai). Appena uno dei due operandi è un `float`, il risultato dell'operazione sarà un `float` (abbiamo già visto che il risultato di `/` è un sempre un `float`)"
   ]
  },
  {
   "cell_type": "code",
   "execution_count": null,
   "metadata": {},
   "outputs": [],
   "source": [
    "print(2 + 1)    # risultato intero 3\n",
    "print(2.5 + 1)  # risultato float 3.5\n",
    "print(2.0 + 1)  # risoltato float 2.0"
   ]
  },
  {
   "cell_type": "markdown",
   "metadata": {},
   "source": [
    "A differenza degli `int`, i `float` hanno numerose restrizioni in termini di precisione (quante cifre dopo la virgola) e valore massimo. Ad esempio, 2.0 elevato a 4000 non è rappresentabile in un `float` e il tentivo di calcolarlo genera un errore."
   ]
  },
  {
   "cell_type": "code",
   "execution_count": null,
   "metadata": {},
   "outputs": [],
   "source": [
    "2.0 ** 4000"
   ]
  }
 ],
 "metadata": {
  "kernelspec": {
   "display_name": "Python 3",
   "language": "python",
   "name": "python3"
  },
  "language_info": {
   "codemirror_mode": {
    "name": "ipython",
    "version": 3
   },
   "file_extension": ".py",
   "mimetype": "text/x-python",
   "name": "python",
   "nbconvert_exporter": "python",
   "pygments_lexer": "ipython3",
   "version": "3.11.5"
  },
  "orig_nbformat": 4
 },
 "nbformat": 4,
 "nbformat_minor": 2
}
