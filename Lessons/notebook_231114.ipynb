{
 "cells": [
  {
   "cell_type": "markdown",
   "metadata": {},
   "source": [
    "# Ancora sulle funzioni"
   ]
  },
  {
   "cell_type": "markdown",
   "metadata": {},
   "source": [
    "## L'istruzione `return`\n",
    "\n",
    "È importante precisare che l'istruzione `return` quando viene eseguita termina immediatamente l'esecuzione della funzione corrente e ritorna al chiamante."
   ]
  },
  {
   "cell_type": "code",
   "execution_count": 1,
   "metadata": {},
   "outputs": [],
   "source": [
    "def funzione_prova(a):\n",
    "    if a == 0:\n",
    "        return True\n",
    "    print(\"Ciao\")\n",
    "    return False"
   ]
  },
  {
   "cell_type": "code",
   "execution_count": 2,
   "metadata": {},
   "outputs": [
    {
     "name": "stdout",
     "output_type": "stream",
     "text": [
      "Ciao\n"
     ]
    },
    {
     "data": {
      "text/plain": [
       "False"
      ]
     },
     "execution_count": 2,
     "metadata": {},
     "output_type": "execute_result"
    }
   ],
   "source": [
    "funzione_prova(2)"
   ]
  },
  {
   "cell_type": "code",
   "execution_count": 3,
   "metadata": {},
   "outputs": [
    {
     "data": {
      "text/plain": [
       "True"
      ]
     },
     "execution_count": 3,
     "metadata": {},
     "output_type": "execute_result"
    }
   ],
   "source": [
    "# Non stampa Ciao perché appena viene eseguita la return si esce dal programma\n",
    "\n",
    "funzione_prova(0)"
   ]
  },
  {
   "cell_type": "markdown",
   "metadata": {},
   "source": [
    "## Visibilità delle variabili\n",
    "\n",
    "Abbiamo detto che le variabili usate in una funzione solo *variabili locali*. Esistono solo durante l'esecuzione della funzione e non al di fuori di essa. "
   ]
  },
  {
   "cell_type": "code",
   "execution_count": 1,
   "metadata": {},
   "outputs": [],
   "source": [
    "def f1 ():\n",
    "    n = 10\n",
    "    print(\"Ciao\")"
   ]
  },
  {
   "cell_type": "code",
   "execution_count": 2,
   "metadata": {},
   "outputs": [
    {
     "name": "stdout",
     "output_type": "stream",
     "text": [
      "Ciao\n"
     ]
    }
   ],
   "source": [
    "f1()"
   ]
  },
  {
   "cell_type": "code",
   "execution_count": 4,
   "metadata": {},
   "outputs": [
    {
     "ename": "NameError",
     "evalue": "name 'n' is not defined",
     "output_type": "error",
     "traceback": [
      "\u001b[0;31m---------------------------------------------------------------------------\u001b[0m",
      "\u001b[0;31mNameError\u001b[0m                                 Traceback (most recent call last)",
      "\u001b[1;32m/home/amato/Nextcloud/Didattica/programmazione-python/notebooks/programmazione/notebook_231114.ipynb Cell 9\u001b[0m line \u001b[0;36m2\n\u001b[1;32m      <a href='vscode-notebook-cell:/home/amato/Nextcloud/Didattica/programmazione-python/notebooks/programmazione/notebook_231114.ipynb#W5sZmlsZQ%3D%3D?line=0'>1</a>\u001b[0m \u001b[39m# Qui la variabile n non esiste\u001b[39;00m\n\u001b[0;32m----> <a href='vscode-notebook-cell:/home/amato/Nextcloud/Didattica/programmazione-python/notebooks/programmazione/notebook_231114.ipynb#W5sZmlsZQ%3D%3D?line=1'>2</a>\u001b[0m n\n",
      "\u001b[0;31mNameError\u001b[0m: name 'n' is not defined"
     ]
    }
   ],
   "source": [
    "# Qui la variabile n non esiste\n",
    "n"
   ]
  },
  {
   "cell_type": "markdown",
   "metadata": {},
   "source": [
    "Tuttavia, ciò non è del tutto corretto. In realtà:\n",
    "* Nel programma principale posso usare solo le variabili globali\n",
    "* Nelle funzioni posso usare le variabili locali e leggere le variabili globali\n",
    "\n",
    "Consideriamo la seguente funzione `f2()` che accede alla variabile `x` senza mai scriverla."
   ]
  },
  {
   "cell_type": "code",
   "execution_count": 5,
   "metadata": {},
   "outputs": [],
   "source": [
    "def f2():\n",
    "    print(\"Il valore di x è \", x)"
   ]
  },
  {
   "cell_type": "markdown",
   "metadata": {},
   "source": [
    "Siccome la variabile `x` non è mai stata assegnata, se provo ad eseguire la funzione si verifica un errore."
   ]
  },
  {
   "cell_type": "code",
   "execution_count": 6,
   "metadata": {},
   "outputs": [
    {
     "ename": "NameError",
     "evalue": "name 'x' is not defined",
     "output_type": "error",
     "traceback": [
      "\u001b[0;31m---------------------------------------------------------------------------\u001b[0m",
      "\u001b[0;31mNameError\u001b[0m                                 Traceback (most recent call last)",
      "\u001b[1;32m/home/amato/Nextcloud/Didattica/programmazione-python/notebooks/programmazione/notebook_231114.ipynb Cell 13\u001b[0m line \u001b[0;36m1\n\u001b[0;32m----> <a href='vscode-notebook-cell:/home/amato/Nextcloud/Didattica/programmazione-python/notebooks/programmazione/notebook_231114.ipynb#X10sZmlsZQ%3D%3D?line=0'>1</a>\u001b[0m f2()\n",
      "\u001b[1;32m/home/amato/Nextcloud/Didattica/programmazione-python/notebooks/programmazione/notebook_231114.ipynb Cell 13\u001b[0m line \u001b[0;36m2\n\u001b[1;32m      <a href='vscode-notebook-cell:/home/amato/Nextcloud/Didattica/programmazione-python/notebooks/programmazione/notebook_231114.ipynb#X10sZmlsZQ%3D%3D?line=0'>1</a>\u001b[0m \u001b[39mdef\u001b[39;00m \u001b[39mf2\u001b[39m():\n\u001b[0;32m----> <a href='vscode-notebook-cell:/home/amato/Nextcloud/Didattica/programmazione-python/notebooks/programmazione/notebook_231114.ipynb#X10sZmlsZQ%3D%3D?line=1'>2</a>\u001b[0m     \u001b[39mprint\u001b[39m(\u001b[39m\"\u001b[39m\u001b[39mIl valore di x è \u001b[39m\u001b[39m\"\u001b[39m, x)\n",
      "\u001b[0;31mNameError\u001b[0m: name 'x' is not defined"
     ]
    }
   ],
   "source": [
    "f2()"
   ]
  },
  {
   "cell_type": "markdown",
   "metadata": {},
   "source": [
    "Se però creo una variabile globale `x`, ecco che la chiamata ad `f2()` ha successo, perché la variabile `x` in `f2()` viene cercata tra quelle locali."
   ]
  },
  {
   "cell_type": "code",
   "execution_count": 7,
   "metadata": {},
   "outputs": [
    {
     "name": "stdout",
     "output_type": "stream",
     "text": [
      "Il valore di x è  99\n"
     ]
    }
   ],
   "source": [
    "x = 99\n",
    "f2()"
   ]
  },
  {
   "cell_type": "markdown",
   "metadata": {},
   "source": [
    "Se cambio il valore della variabile globale x, la funzione f2() stampa il nuovo valore\n"
   ]
  },
  {
   "cell_type": "code",
   "execution_count": 9,
   "metadata": {},
   "outputs": [
    {
     "name": "stdout",
     "output_type": "stream",
     "text": [
      "Il valore di x è  10\n"
     ]
    }
   ],
   "source": [
    "x = 10\n",
    "f2()"
   ]
  },
  {
   "cell_type": "markdown",
   "metadata": {},
   "source": [
    "* Se in una funzione uso la variabile `x` senza mai assegnarle un valore, allora `x` è una variabile globale.\n",
    "* Se invece alla variabile `x` assegno un valore, allora dentro la funzione `x` è una variabile locale (anche prima che l'assegnamento avvenga)."
   ]
  },
  {
   "cell_type": "markdown",
   "metadata": {},
   "source": [
    "Consideriamo infatti la seguente funzione. È simile ad `f2()`, ma contiene un assegnamento alla variabile `x`. Il risultato è che dentro questa funzione la variabile `x` è locale (anche la `x` nella print)."
   ]
  },
  {
   "cell_type": "code",
   "execution_count": 11,
   "metadata": {},
   "outputs": [],
   "source": [
    "def f3():\n",
    "    print(\"Il valore di x è \", x)\n",
    "    x = 99"
   ]
  },
  {
   "cell_type": "markdown",
   "metadata": {},
   "source": [
    "Pertanto, eseguire chiamare questa `x` genera un errore, perché `x` viene usata prima di essere inizializzata."
   ]
  },
  {
   "cell_type": "code",
   "execution_count": 12,
   "metadata": {},
   "outputs": [
    {
     "ename": "UnboundLocalError",
     "evalue": "cannot access local variable 'x' where it is not associated with a value",
     "output_type": "error",
     "traceback": [
      "\u001b[0;31m---------------------------------------------------------------------------\u001b[0m",
      "\u001b[0;31mUnboundLocalError\u001b[0m                         Traceback (most recent call last)",
      "\u001b[1;32m/home/amato/Nextcloud/Didattica/programmazione-python/notebooks/programmazione/notebook_231114.ipynb Cell 22\u001b[0m line \u001b[0;36m1\n\u001b[0;32m----> <a href='vscode-notebook-cell:/home/amato/Nextcloud/Didattica/programmazione-python/notebooks/programmazione/notebook_231114.ipynb#X21sZmlsZQ%3D%3D?line=0'>1</a>\u001b[0m f3()\n",
      "\u001b[1;32m/home/amato/Nextcloud/Didattica/programmazione-python/notebooks/programmazione/notebook_231114.ipynb Cell 22\u001b[0m line \u001b[0;36m2\n\u001b[1;32m      <a href='vscode-notebook-cell:/home/amato/Nextcloud/Didattica/programmazione-python/notebooks/programmazione/notebook_231114.ipynb#X21sZmlsZQ%3D%3D?line=0'>1</a>\u001b[0m \u001b[39mdef\u001b[39;00m \u001b[39mf3\u001b[39m():\n\u001b[0;32m----> <a href='vscode-notebook-cell:/home/amato/Nextcloud/Didattica/programmazione-python/notebooks/programmazione/notebook_231114.ipynb#X21sZmlsZQ%3D%3D?line=1'>2</a>\u001b[0m     \u001b[39mprint\u001b[39m(\u001b[39m\"\u001b[39m\u001b[39mIl valore di x è \u001b[39m\u001b[39m\"\u001b[39m, x)\n\u001b[1;32m      <a href='vscode-notebook-cell:/home/amato/Nextcloud/Didattica/programmazione-python/notebooks/programmazione/notebook_231114.ipynb#X21sZmlsZQ%3D%3D?line=2'>3</a>\u001b[0m     x \u001b[39m=\u001b[39m \u001b[39m99\u001b[39m\n",
      "\u001b[0;31mUnboundLocalError\u001b[0m: cannot access local variable 'x' where it is not associated with a value"
     ]
    }
   ],
   "source": [
    "f3()"
   ]
  },
  {
   "cell_type": "markdown",
   "metadata": {},
   "source": [
    "## Uso dei moduli"
   ]
  },
  {
   "cell_type": "markdown",
   "metadata": {},
   "source": [
    "È possibile creare dei file Python che contengono un insieme di funzioni di uso comune, ed utilizzare queste funzioni in un altro file Python. Si veda il file `programma_231114_1_mymodule.py` che definisce un modulo con la funzione `somma_numeri`, e i file `programma_231114_1_usomoduli1.py` e `programma_231114_1_usomoduli2.py` che mostrano due metodi per utilizzare la funzione all'interno di un altro file. È importante che i tre file siano nella stessa cartella."
   ]
  },
  {
   "cell_type": "markdown",
   "metadata": {},
   "source": [
    "## Uso della funzione main\n",
    "\n",
    "Vedere programma `programma_231114_2_funzione_main.py`."
   ]
  },
  {
   "cell_type": "markdown",
   "metadata": {},
   "source": [
    "# Le liste\n",
    "\n",
    "**Esercizio motivazionale**: scrivere un programma che prende in input una sequenza di numeri interi positivi e si ferma quando l'utente immette un numero negativo. A questo punto il programma visualizza di nuovo l'elenco dei numeri immessi, con il valore massimo evidenziato. Ad esempio, se l'utente immette\n",
    "\n",
    "```\n",
    "10\n",
    "20\n",
    "1\n",
    "7\n",
    "-3\n",
    "```\n",
    "\n",
    "il programma stampa\n",
    "\n",
    "```\n",
    "10\n",
    "20 <=== MASSIMO\n",
    "1\n",
    "7\n",
    "```\n"
   ]
  },
  {
   "cell_type": "markdown",
   "metadata": {},
   "source": [
    "Più o meno siamo in grado di fare tutto quello che ci viene chiesto, tranne stampare l'elenco dei numeri immessi dall'utente. Non sappiamo infatti dove memorizzare i numeri mano a mano che vengono immessi. Ci vengono in aiuto le *liste*."
   ]
  },
  {
   "cell_type": "markdown",
   "metadata": {},
   "source": [
    "Le liste sono un tipo di dato di Python. Una lista è una sequenza di valori, che si scrivono uno dopo l'altro separati da virgole, tutto racchiuso da parentesi quadre."
   ]
  },
  {
   "cell_type": "code",
   "execution_count": 37,
   "metadata": {},
   "outputs": [
    {
     "data": {
      "text/plain": [
       "[56, 23, -4, 99]"
      ]
     },
     "execution_count": 37,
     "metadata": {},
     "output_type": "execute_result"
    }
   ],
   "source": [
    "[ 56, 23, -4, 99 ]"
   ]
  },
  {
   "cell_type": "markdown",
   "metadata": {},
   "source": [
    "Un tipo particolare di lista è quella che non contiene nessun elemento, che si scrive `[]`."
   ]
  },
  {
   "cell_type": "code",
   "execution_count": 107,
   "metadata": {},
   "outputs": [
    {
     "data": {
      "text/plain": [
       "[]"
      ]
     },
     "execution_count": 107,
     "metadata": {},
     "output_type": "execute_result"
    }
   ],
   "source": [
    "[]"
   ]
  },
  {
   "cell_type": "markdown",
   "metadata": {},
   "source": [
    "Una lista è un valore come tutti gli altri, e si può assegnare ad una variabile."
   ]
  },
  {
   "cell_type": "code",
   "execution_count": 38,
   "metadata": {},
   "outputs": [],
   "source": [
    "l = [56, 23, 1, 2, 0, -3]"
   ]
  },
  {
   "cell_type": "code",
   "execution_count": 39,
   "metadata": {},
   "outputs": [
    {
     "data": {
      "text/plain": [
       "[56, 23, 1, 2, 0, -3]"
      ]
     },
     "execution_count": 39,
     "metadata": {},
     "output_type": "execute_result"
    }
   ],
   "source": [
    "l"
   ]
  },
  {
   "cell_type": "markdown",
   "metadata": {},
   "source": [
    "Il tipo di una lista è `list`."
   ]
  },
  {
   "cell_type": "code",
   "execution_count": 40,
   "metadata": {},
   "outputs": [
    {
     "data": {
      "text/plain": [
       "list"
      ]
     },
     "execution_count": 40,
     "metadata": {},
     "output_type": "execute_result"
    }
   ],
   "source": [
    "type(l)"
   ]
  },
  {
   "cell_type": "markdown",
   "metadata": {},
   "source": [
    "Le liste possono anche contenere elementi di tipo diverso, anche se di solito la cosa è sconsigliata."
   ]
  },
  {
   "cell_type": "code",
   "execution_count": 41,
   "metadata": {},
   "outputs": [],
   "source": [
    "l = [56, \"Ciao\", True, 23.45, 23 ]"
   ]
  },
  {
   "cell_type": "code",
   "execution_count": 42,
   "metadata": {},
   "outputs": [
    {
     "data": {
      "text/plain": [
       "[56, 'Ciao', True, 23.45, 23]"
      ]
     },
     "execution_count": 42,
     "metadata": {},
     "output_type": "execute_result"
    }
   ],
   "source": [
    "l"
   ]
  },
  {
   "cell_type": "markdown",
   "metadata": {},
   "source": [
    "È possibile accedere agli elementi di una lista con lo stesso metodo con cui si accede ai singoli caratteri di una stringa, mettendo dopo la lista, tra parentesi quadre, la posizione che interessa. Come per le stringhe, le posizioni partono da 0."
   ]
  },
  {
   "cell_type": "code",
   "execution_count": 43,
   "metadata": {},
   "outputs": [
    {
     "data": {
      "text/plain": [
       "'Ciao'"
      ]
     },
     "execution_count": 43,
     "metadata": {},
     "output_type": "execute_result"
    }
   ],
   "source": [
    "# L'elemento l in posizione 1 (cioè la seconda posizione) contiene la stringa \"Ciao\".\n",
    "l[1]"
   ]
  },
  {
   "cell_type": "code",
   "execution_count": 44,
   "metadata": {},
   "outputs": [
    {
     "data": {
      "text/plain": [
       "56"
      ]
     },
     "execution_count": 44,
     "metadata": {},
     "output_type": "execute_result"
    }
   ],
   "source": [
    "l[0]"
   ]
  },
  {
   "cell_type": "markdown",
   "metadata": {},
   "source": [
    "Se si tenta di accedere ad un elemento che non esiste, si genera un errore."
   ]
  },
  {
   "cell_type": "code",
   "execution_count": 45,
   "metadata": {},
   "outputs": [
    {
     "ename": "IndexError",
     "evalue": "list index out of range",
     "output_type": "error",
     "traceback": [
      "\u001b[0;31m---------------------------------------------------------------------------\u001b[0m",
      "\u001b[0;31mIndexError\u001b[0m                                Traceback (most recent call last)",
      "\u001b[1;32m/home/amato/Nextcloud/Didattica/programmazione-python/notebooks/programmazione/notebook_231114.ipynb Cell 42\u001b[0m line \u001b[0;36m1\n\u001b[0;32m----> <a href='vscode-notebook-cell:/home/amato/Nextcloud/Didattica/programmazione-python/notebooks/programmazione/notebook_231114.ipynb#Y165sZmlsZQ%3D%3D?line=0'>1</a>\u001b[0m l[\u001b[39m10\u001b[39;49m]\n",
      "\u001b[0;31mIndexError\u001b[0m: list index out of range"
     ]
    }
   ],
   "source": [
    "l[10]"
   ]
  },
  {
   "cell_type": "markdown",
   "metadata": {},
   "source": [
    "È possibile estrarre una sotto-sequenza da una lista allo stesso modo con cui si estrae una sotto-stringa."
   ]
  },
  {
   "cell_type": "code",
   "execution_count": 9,
   "metadata": {},
   "outputs": [
    {
     "data": {
      "text/plain": [
       "['Ciao', True, 23.45]"
      ]
     },
     "execution_count": 9,
     "metadata": {},
     "output_type": "execute_result"
    }
   ],
   "source": [
    "# Estrae da l la sottosequenza degli elementi in posizione 1, 2 e 3 (la posizione 4 è esclusa)\n",
    "l[1:4]"
   ]
  },
  {
   "cell_type": "markdown",
   "metadata": {},
   "source": [
    "Notare che c'è una differenza sostanziale tra l'accesso ad un singolo elemento di una lista e l'accesso ad una sottosequenza (operazione chiamata tecnicamente *slice*). L'accesso ad un singolo elemento restituisce quell'elemento, lo slicing restituisce invece una lista. La cosa potrebbe sembrare ovvia, ma ci sono delle situazioni in cui si potrebbe fare confusione."
   ]
  },
  {
   "cell_type": "code",
   "execution_count": 46,
   "metadata": {},
   "outputs": [
    {
     "data": {
      "text/plain": [
       "56"
      ]
     },
     "execution_count": 46,
     "metadata": {},
     "output_type": "execute_result"
    }
   ],
   "source": [
    "# Questo restitusice l'elemento in posizione 0 della lista\n",
    "l[0]"
   ]
  },
  {
   "cell_type": "code",
   "execution_count": 47,
   "metadata": {},
   "outputs": [
    {
     "data": {
      "text/plain": [
       "[56]"
      ]
     },
     "execution_count": 47,
     "metadata": {},
     "output_type": "execute_result"
    }
   ],
   "source": [
    "# Questo restituisce la sotto-lista formata dal solo elemento in posizione 0. Notare\n",
    "# che il risultato è diverso dal precedente: [56] (la lista contenente il solo valore 56)\n",
    "# invece di 56.\n",
    "l[0:1]"
   ]
  },
  {
   "cell_type": "markdown",
   "metadata": {},
   "source": [
    "Tutte le operazioni che conosciamo per le stringhe funzionano anche per le liste."
   ]
  },
  {
   "cell_type": "code",
   "execution_count": 48,
   "metadata": {},
   "outputs": [
    {
     "data": {
      "text/plain": [
       "5"
      ]
     },
     "execution_count": 48,
     "metadata": {},
     "output_type": "execute_result"
    }
   ],
   "source": [
    "# Lunghezza di una lista\n",
    "len(l)"
   ]
  },
  {
   "cell_type": "code",
   "execution_count": 49,
   "metadata": {},
   "outputs": [
    {
     "data": {
      "text/plain": [
       "[56, 'Ciao', True, 23.45, 23, 'Pluto', 2]"
      ]
     },
     "execution_count": 49,
     "metadata": {},
     "output_type": "execute_result"
    }
   ],
   "source": [
    "# Concatenazione di liste\n",
    "l + [\"Pluto\", 2]"
   ]
  },
  {
   "cell_type": "code",
   "execution_count": 50,
   "metadata": {},
   "outputs": [
    {
     "data": {
      "text/plain": [
       "[1, 2, 1, 2, 1, 2]"
      ]
     },
     "execution_count": 50,
     "metadata": {},
     "output_type": "execute_result"
    }
   ],
   "source": [
    "# Ripetizione di liste\n",
    "[1, 2] * 3"
   ]
  },
  {
   "cell_type": "code",
   "execution_count": 51,
   "metadata": {},
   "outputs": [
    {
     "data": {
      "text/plain": [
       "False"
      ]
     },
     "execution_count": 51,
     "metadata": {},
     "output_type": "execute_result"
    }
   ],
   "source": [
    "# Ordine lessicografico di liste.\n",
    "[1, 5, 3]  < [1, 4, 99]"
   ]
  },
  {
   "cell_type": "code",
   "execution_count": 52,
   "metadata": {},
   "outputs": [
    {
     "data": {
      "text/plain": [
       "True"
      ]
     },
     "execution_count": 52,
     "metadata": {},
     "output_type": "execute_result"
    }
   ],
   "source": [
    "[1] <=  [2, 45, 6]"
   ]
  },
  {
   "cell_type": "code",
   "execution_count": 53,
   "metadata": {},
   "outputs": [
    {
     "data": {
      "text/plain": [
       "True"
      ]
     },
     "execution_count": 53,
     "metadata": {},
     "output_type": "execute_result"
    }
   ],
   "source": [
    "# Controllo di appartenenza di une lemento ad una lista\n",
    "45 in [ 2, \"Pippo\", 45, 9 ]"
   ]
  },
  {
   "cell_type": "code",
   "execution_count": 54,
   "metadata": {},
   "outputs": [
    {
     "data": {
      "text/plain": [
       "False"
      ]
     },
     "execution_count": 54,
     "metadata": {},
     "output_type": "execute_result"
    }
   ],
   "source": [
    "0 in [ 2, \"Pippo\", 45, 9 ]"
   ]
  },
  {
   "cell_type": "code",
   "execution_count": 55,
   "metadata": {},
   "outputs": [
    {
     "name": "stdout",
     "output_type": "stream",
     "text": [
      "56\n",
      "Ciao\n",
      "True\n",
      "23.45\n",
      "23\n"
     ]
    }
   ],
   "source": [
    "# Ciclo diretto sugli elementi di una lista\n",
    "for elemento in l:\n",
    "    print(elemento)"
   ]
  },
  {
   "cell_type": "code",
   "execution_count": 56,
   "metadata": {},
   "outputs": [
    {
     "name": "stdout",
     "output_type": "stream",
     "text": [
      "56\n",
      "Ciao\n",
      "True\n",
      "23.45\n",
      "23\n"
     ]
    }
   ],
   "source": [
    "# Ciclo sulle posizioni di una lista\n",
    "for i in range(len(l)):\n",
    "    print(l[i])"
   ]
  },
  {
   "cell_type": "markdown",
   "metadata": {},
   "source": [
    "Quello che differenzia le liste dalle stringhe e che è possibile alterare il valore di un singolo elemento di una lista con la stessa notazione con cui possiamo estrarre un elemento."
   ]
  },
  {
   "cell_type": "code",
   "execution_count": 57,
   "metadata": {},
   "outputs": [
    {
     "data": {
      "text/plain": [
       "[56, 'Ciao', True, 23.45, 23]"
      ]
     },
     "execution_count": 57,
     "metadata": {},
     "output_type": "execute_result"
    }
   ],
   "source": [
    "l"
   ]
  },
  {
   "cell_type": "code",
   "execution_count": 58,
   "metadata": {},
   "outputs": [],
   "source": [
    "# Questa istruzione cambia l'elemento in posizione 2 di l rimpiazzandolo con 12\n",
    "l[2] = 12"
   ]
  },
  {
   "cell_type": "code",
   "execution_count": 59,
   "metadata": {},
   "outputs": [
    {
     "data": {
      "text/plain": [
       "[56, 'Ciao', 12, 23.45, 23]"
      ]
     },
     "execution_count": 59,
     "metadata": {},
     "output_type": "execute_result"
    }
   ],
   "source": [
    "l"
   ]
  },
  {
   "cell_type": "markdown",
   "metadata": {},
   "source": [
    "La stessa cosa sulle stringhe non funziona!"
   ]
  },
  {
   "cell_type": "code",
   "execution_count": 60,
   "metadata": {},
   "outputs": [],
   "source": [
    "s = \"Pippo\""
   ]
  },
  {
   "cell_type": "code",
   "execution_count": 62,
   "metadata": {},
   "outputs": [
    {
     "ename": "TypeError",
     "evalue": "'str' object does not support item assignment",
     "output_type": "error",
     "traceback": [
      "\u001b[0;31m---------------------------------------------------------------------------\u001b[0m",
      "\u001b[0;31mTypeError\u001b[0m                                 Traceback (most recent call last)",
      "\u001b[1;32m/home/amato/Nextcloud/Didattica/programmazione-python/notebooks/programmazione/notebook_231114.ipynb Cell 64\u001b[0m line \u001b[0;36m3\n\u001b[1;32m      <a href='vscode-notebook-cell:/home/amato/Nextcloud/Didattica/programmazione-python/notebooks/programmazione/notebook_231114.ipynb#Y121sZmlsZQ%3D%3D?line=0'>1</a>\u001b[0m \u001b[39m# La seguente istruziona causa un errore\u001b[39;00m\n\u001b[0;32m----> <a href='vscode-notebook-cell:/home/amato/Nextcloud/Didattica/programmazione-python/notebooks/programmazione/notebook_231114.ipynb#Y121sZmlsZQ%3D%3D?line=2'>3</a>\u001b[0m s[\u001b[39m2\u001b[39;49m] \u001b[39m=\u001b[39m \u001b[39m\"\u001b[39m\u001b[39mi\u001b[39m\u001b[39m\"\u001b[39m\n",
      "\u001b[0;31mTypeError\u001b[0m: 'str' object does not support item assignment"
     ]
    }
   ],
   "source": [
    "# La seguente istruziona causa un errore\n",
    "\n",
    "s[2] = \"i\""
   ]
  },
  {
   "cell_type": "markdown",
   "metadata": {},
   "source": [
    "In gergo, la differenza di comportamente tra stringhe e liste si esprime dicend che le stringhe sono un tipo **immutabile**, mentre le liste sono un tipo **mutabile**. Su questo diremo molto di più la prossima lezione."
   ]
  },
  {
   "cell_type": "markdown",
   "metadata": {},
   "source": [
    "Notare che non si può modificare un elemento che non esiste."
   ]
  },
  {
   "cell_type": "code",
   "execution_count": 63,
   "metadata": {},
   "outputs": [
    {
     "ename": "IndexError",
     "evalue": "list assignment index out of range",
     "output_type": "error",
     "traceback": [
      "\u001b[0;31m---------------------------------------------------------------------------\u001b[0m",
      "\u001b[0;31mIndexError\u001b[0m                                Traceback (most recent call last)",
      "\u001b[1;32m/home/amato/Nextcloud/Didattica/programmazione-python/notebooks/programmazione/notebook_231114.ipynb Cell 67\u001b[0m line \u001b[0;36m2\n\u001b[1;32m      <a href='vscode-notebook-cell:/home/amato/Nextcloud/Didattica/programmazione-python/notebooks/programmazione/notebook_231114.ipynb#Y200sZmlsZQ%3D%3D?line=0'>1</a>\u001b[0m \u001b[39m# Questa istruzione da errore perché l contiene solo 5 elementi, quindi l'ultimo indice valido è 4.\u001b[39;00m\n\u001b[0;32m----> <a href='vscode-notebook-cell:/home/amato/Nextcloud/Didattica/programmazione-python/notebooks/programmazione/notebook_231114.ipynb#Y200sZmlsZQ%3D%3D?line=1'>2</a>\u001b[0m l[\u001b[39m10\u001b[39;49m]\u001b[39m=\u001b[39m\u001b[39m3\u001b[39m\n",
      "\u001b[0;31mIndexError\u001b[0m: list assignment index out of range"
     ]
    }
   ],
   "source": [
    "# Questa istruzione da errore perché l contiene solo 5 elementi, quindi l'ultimo indice valido è 4.\n",
    "l[10]=3"
   ]
  },
  {
   "cell_type": "markdown",
   "metadata": {},
   "source": [
    "Le liste mettono anche a disposizione molti metodi. Vediamone alcuni:"
   ]
  },
  {
   "cell_type": "code",
   "execution_count": 90,
   "metadata": {},
   "outputs": [],
   "source": [
    "l2 = [\"a\", \"b\", \"c\", \"d\"]"
   ]
  },
  {
   "cell_type": "code",
   "execution_count": 91,
   "metadata": {},
   "outputs": [],
   "source": [
    "# Il metodo append aggiunge un valore alla fine della lista\n",
    "l2.append(\"z\")"
   ]
  },
  {
   "cell_type": "code",
   "execution_count": 92,
   "metadata": {},
   "outputs": [
    {
     "data": {
      "text/plain": [
       "['a', 'b', 'c', 'd', 'z']"
      ]
     },
     "execution_count": 92,
     "metadata": {},
     "output_type": "execute_result"
    }
   ],
   "source": [
    "l2"
   ]
  },
  {
   "cell_type": "markdown",
   "metadata": {},
   "source": [
    "Il metodo `pop` restituisce un elemento della lista (come le parentesi quadre) ma nel frattempo elimina quel valore dalla lista."
   ]
  },
  {
   "cell_type": "code",
   "execution_count": 93,
   "metadata": {},
   "outputs": [
    {
     "data": {
      "text/plain": [
       "'c'"
      ]
     },
     "execution_count": 93,
     "metadata": {},
     "output_type": "execute_result"
    }
   ],
   "source": [
    "# Restituisce l'elemento in posizione 2 e lo elimina dalla lista\n",
    "l2.pop(2)"
   ]
  },
  {
   "cell_type": "code",
   "execution_count": 94,
   "metadata": {},
   "outputs": [
    {
     "data": {
      "text/plain": [
       "['a', 'b', 'd', 'z']"
      ]
     },
     "execution_count": 94,
     "metadata": {},
     "output_type": "execute_result"
    }
   ],
   "source": [
    "l2"
   ]
  },
  {
   "cell_type": "markdown",
   "metadata": {},
   "source": [
    "Il metodo `pop` si può chiamare anche senza argomenti. In tal caso, elimina l'ultimo elemento della lista."
   ]
  },
  {
   "cell_type": "code",
   "execution_count": 95,
   "metadata": {},
   "outputs": [
    {
     "data": {
      "text/plain": [
       "'z'"
      ]
     },
     "execution_count": 95,
     "metadata": {},
     "output_type": "execute_result"
    }
   ],
   "source": [
    "l2.pop()"
   ]
  },
  {
   "cell_type": "code",
   "execution_count": 96,
   "metadata": {},
   "outputs": [
    {
     "data": {
      "text/plain": [
       "['a', 'b', 'd']"
      ]
     },
     "execution_count": 96,
     "metadata": {},
     "output_type": "execute_result"
    }
   ],
   "source": [
    "l2"
   ]
  },
  {
   "cell_type": "markdown",
   "metadata": {},
   "source": [
    "Il metodo `insert` aggiunge un elemento alla lista nella posizione specifica."
   ]
  },
  {
   "cell_type": "code",
   "execution_count": 97,
   "metadata": {},
   "outputs": [],
   "source": [
    "# Mette la stringa \"k\" in posizione 1 (seconda posizione)\n",
    "l2.insert(1, \"k\")"
   ]
  },
  {
   "cell_type": "code",
   "execution_count": 98,
   "metadata": {},
   "outputs": [
    {
     "data": {
      "text/plain": [
       "['a', 'k', 'b', 'd']"
      ]
     },
     "execution_count": 98,
     "metadata": {},
     "output_type": "execute_result"
    }
   ],
   "source": [
    "l2"
   ]
  },
  {
   "cell_type": "markdown",
   "metadata": {},
   "source": [
    "Il metodo `reverse` inverte l'ordine degli elementi, dall'ultimo al primo."
   ]
  },
  {
   "cell_type": "code",
   "execution_count": 99,
   "metadata": {},
   "outputs": [],
   "source": [
    "l2.reverse()"
   ]
  },
  {
   "cell_type": "code",
   "execution_count": 100,
   "metadata": {},
   "outputs": [
    {
     "data": {
      "text/plain": [
       "['d', 'b', 'k', 'a']"
      ]
     },
     "execution_count": 100,
     "metadata": {},
     "output_type": "execute_result"
    }
   ],
   "source": [
    "l2"
   ]
  },
  {
   "cell_type": "markdown",
   "metadata": {},
   "source": [
    "Il metodo `index` restituisce la posizione di un elemento in una lista (o genera un errore se l'elemento non è presente)."
   ]
  },
  {
   "cell_type": "code",
   "execution_count": 102,
   "metadata": {},
   "outputs": [
    {
     "data": {
      "text/plain": [
       "2"
      ]
     },
     "execution_count": 102,
     "metadata": {},
     "output_type": "execute_result"
    }
   ],
   "source": [
    "# k è in terza posizione di l2 (posizione n. 2)\n",
    "l2.index(\"k\")"
   ]
  },
  {
   "cell_type": "code",
   "execution_count": 103,
   "metadata": {},
   "outputs": [
    {
     "ename": "ValueError",
     "evalue": "'pippo' is not in list",
     "output_type": "error",
     "traceback": [
      "\u001b[0;31m---------------------------------------------------------------------------\u001b[0m",
      "\u001b[0;31mValueError\u001b[0m                                Traceback (most recent call last)",
      "\u001b[1;32m/home/amato/Nextcloud/Didattica/programmazione-python/notebooks/programmazione/notebook_231114.ipynb Cell 86\u001b[0m line \u001b[0;36m2\n\u001b[1;32m      <a href='vscode-notebook-cell:/home/amato/Nextcloud/Didattica/programmazione-python/notebooks/programmazione/notebook_231114.ipynb#Y232sZmlsZQ%3D%3D?line=0'>1</a>\u001b[0m \u001b[39m# \"pippo\" non compare in l2, quindi genera un errore\u001b[39;00m\n\u001b[0;32m----> <a href='vscode-notebook-cell:/home/amato/Nextcloud/Didattica/programmazione-python/notebooks/programmazione/notebook_231114.ipynb#Y232sZmlsZQ%3D%3D?line=1'>2</a>\u001b[0m l2\u001b[39m.\u001b[39;49mindex(\u001b[39m\"\u001b[39;49m\u001b[39mpippo\u001b[39;49m\u001b[39m\"\u001b[39;49m)\n",
      "\u001b[0;31mValueError\u001b[0m: 'pippo' is not in list"
     ]
    }
   ],
   "source": [
    "# \"pippo\" non compare in l2, quindi genera un errore\n",
    "l2.index(\"pippo\")"
   ]
  },
  {
   "cell_type": "markdown",
   "metadata": {},
   "source": [
    "Infine, il metodo `remove` rimuove un elemento specificato. Mentre `pop` prende come argomento la posizione dell'elemento da cancellare, `remove` prende proprio il valore da rimuovere."
   ]
  },
  {
   "cell_type": "code",
   "execution_count": 104,
   "metadata": {},
   "outputs": [
    {
     "data": {
      "text/plain": [
       "['d', 'b', 'k', 'a']"
      ]
     },
     "execution_count": 104,
     "metadata": {},
     "output_type": "execute_result"
    }
   ],
   "source": [
    "# ricordiamo il valore di l2\n",
    "l2"
   ]
  },
  {
   "cell_type": "code",
   "execution_count": 105,
   "metadata": {},
   "outputs": [],
   "source": [
    "# se voglio eliminare la k dalla lista, posso usare l2.pop(2), oppure l2.remove(\"k\")\n",
    "l2.remove(\"k\")"
   ]
  },
  {
   "cell_type": "code",
   "execution_count": 106,
   "metadata": {},
   "outputs": [
    {
     "data": {
      "text/plain": [
       "['d', 'b', 'a']"
      ]
     },
     "execution_count": 106,
     "metadata": {},
     "output_type": "execute_result"
    }
   ],
   "source": [
    "l2"
   ]
  },
  {
   "cell_type": "markdown",
   "metadata": {},
   "source": [
    "Notare che tutti questi metodi modificano la lista a cui sono applicati: `l.append(45)` modifica la lista `l` aggiungendo un 45 alla fine. Notare che invece i metodi che abbiamo visto per le stringhe (ad esempio il metodo `upper()`) non modificavano la stringa originaria, ma generavano una nuova stringa lasciando inalterata l'originale. È un'altra differenza dovuta al fatto che le stringhe in Python sono immutabili mentre le liste sono mutabili."
   ]
  }
 ],
 "metadata": {
  "kernelspec": {
   "display_name": "Python 3",
   "language": "python",
   "name": "python3"
  },
  "language_info": {
   "codemirror_mode": {
    "name": "ipython",
    "version": 3
   },
   "file_extension": ".py",
   "mimetype": "text/x-python",
   "name": "python",
   "nbconvert_exporter": "python",
   "pygments_lexer": "ipython3",
   "version": "3.12.0"
  }
 },
 "nbformat": 4,
 "nbformat_minor": 2
}
