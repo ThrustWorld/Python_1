{
 "cells": [
  {
   "cell_type": "markdown",
   "metadata": {},
   "source": [
    "# Il tipo bool\n",
    "\n",
    "`bool` è l'abbreviazione di booleano, in riferimento a George Boole (1815-1864) che fu un pioniere nello studio della logica. Il tipo `bool` ha solo due valori: `True` (vero) e `False` (falso)"
   ]
  },
  {
   "cell_type": "code",
   "execution_count": 1,
   "metadata": {},
   "outputs": [
    {
     "data": {
      "text/plain": [
       "True"
      ]
     },
     "execution_count": 1,
     "metadata": {},
     "output_type": "execute_result"
    }
   ],
   "source": [
    "True"
   ]
  },
  {
   "cell_type": "code",
   "execution_count": 2,
   "metadata": {},
   "outputs": [
    {
     "data": {
      "text/plain": [
       "False"
      ]
     },
     "execution_count": 2,
     "metadata": {},
     "output_type": "execute_result"
    }
   ],
   "source": [
    "False"
   ]
  },
  {
   "cell_type": "markdown",
   "metadata": {},
   "source": [
    "Il tipo di `True` è effetivamente `bool`."
   ]
  },
  {
   "cell_type": "code",
   "execution_count": 3,
   "metadata": {},
   "outputs": [
    {
     "data": {
      "text/plain": [
       "bool"
      ]
     },
     "execution_count": 3,
     "metadata": {},
     "output_type": "execute_result"
    }
   ],
   "source": [
    "type(True)"
   ]
  },
  {
   "cell_type": "markdown",
   "metadata": {},
   "source": [
    "Attenzione che `True` e `False` vanno scritte con l'ìniziale maiuscola."
   ]
  },
  {
   "cell_type": "code",
   "execution_count": 4,
   "metadata": {},
   "outputs": [
    {
     "ename": "NameError",
     "evalue": "name 'true' is not defined",
     "output_type": "error",
     "traceback": [
      "\u001b[0;31m---------------------------------------------------------------------------\u001b[0m",
      "\u001b[0;31mNameError\u001b[0m                                 Traceback (most recent call last)",
      "\u001b[1;32m/home/amato/Nextcloud/Didattica/programmazione-python/notebooks/lezione_20231017.ipynb Cell 6\u001b[0m line \u001b[0;36m1\n\u001b[0;32m----> <a href='vscode-notebook-cell:/home/amato/Nextcloud/Didattica/programmazione-python/notebooks/lezione_20231017.ipynb#X52sZmlsZQ%3D%3D?line=0'>1</a>\u001b[0m true\n",
      "\u001b[0;31mNameError\u001b[0m: name 'true' is not defined"
     ]
    }
   ],
   "source": [
    "true"
   ]
  },
  {
   "cell_type": "markdown",
   "metadata": {},
   "source": [
    "Il risultato degli operatori relazionali `==`, `!=`, `>`, etc... è un valore di tipo bool.."
   ]
  },
  {
   "cell_type": "code",
   "execution_count": 5,
   "metadata": {},
   "outputs": [
    {
     "data": {
      "text/plain": [
       "True"
      ]
     },
     "execution_count": 5,
     "metadata": {},
     "output_type": "execute_result"
    }
   ],
   "source": [
    "8 >= 2"
   ]
  },
  {
   "cell_type": "markdown",
   "metadata": {},
   "source": [
    "La condizione da mettere dopo l'istruzione `if` è una qualunque espressione il cui risultato è booleano. Possiamo anche mettere `True` o `False`, anche se ovviamente non ha molto senso."
   ]
  },
  {
   "cell_type": "code",
   "execution_count": 6,
   "metadata": {},
   "outputs": [
    {
     "name": "stdout",
     "output_type": "stream",
     "text": [
      "Sì\n"
     ]
    }
   ],
   "source": [
    "if True:\n",
    "    print(\"Sì\")\n",
    "else:\n",
    "    print(\"No\")"
   ]
  },
  {
   "cell_type": "markdown",
   "metadata": {},
   "source": [
    "I valori booleani, come i valori di qualunque altro tipo, possono essere assegnati a variabili."
   ]
  },
  {
   "cell_type": "code",
   "execution_count": 7,
   "metadata": {},
   "outputs": [],
   "source": [
    "a1 = True\n",
    "a2 = False"
   ]
  },
  {
   "cell_type": "code",
   "execution_count": 8,
   "metadata": {},
   "outputs": [
    {
     "data": {
      "text/plain": [
       "True"
      ]
     },
     "execution_count": 8,
     "metadata": {},
     "output_type": "execute_result"
    }
   ],
   "source": [
    "a1"
   ]
  },
  {
   "cell_type": "markdown",
   "metadata": {},
   "source": [
    "## Operatori logici"
   ]
  },
  {
   "cell_type": "markdown",
   "metadata": {},
   "source": [
    "Sui valori booleani è possibile operare tramite gli *operatori logici* che conosciamo dal corso di logica: `and`, `or`, `not`."
   ]
  },
  {
   "cell_type": "code",
   "execution_count": 11,
   "metadata": {},
   "outputs": [
    {
     "data": {
      "text/plain": [
       "False"
      ]
     },
     "execution_count": 11,
     "metadata": {},
     "output_type": "execute_result"
    }
   ],
   "source": [
    "not True"
   ]
  },
  {
   "cell_type": "code",
   "execution_count": 9,
   "metadata": {},
   "outputs": [
    {
     "data": {
      "text/plain": [
       "False"
      ]
     },
     "execution_count": 9,
     "metadata": {},
     "output_type": "execute_result"
    }
   ],
   "source": [
    "not a1"
   ]
  },
  {
   "cell_type": "code",
   "execution_count": 13,
   "metadata": {},
   "outputs": [
    {
     "data": {
      "text/plain": [
       "False"
      ]
     },
     "execution_count": 13,
     "metadata": {},
     "output_type": "execute_result"
    }
   ],
   "source": [
    "True and False"
   ]
  },
  {
   "cell_type": "code",
   "execution_count": 14,
   "metadata": {},
   "outputs": [
    {
     "data": {
      "text/plain": [
       "True"
      ]
     },
     "execution_count": 14,
     "metadata": {},
     "output_type": "execute_result"
    }
   ],
   "source": [
    "True and True"
   ]
  },
  {
   "cell_type": "code",
   "execution_count": 19,
   "metadata": {},
   "outputs": [
    {
     "data": {
      "text/plain": [
       "True"
      ]
     },
     "execution_count": 19,
     "metadata": {},
     "output_type": "execute_result"
    }
   ],
   "source": [
    "True or False"
   ]
  },
  {
   "cell_type": "code",
   "execution_count": 16,
   "metadata": {},
   "outputs": [
    {
     "data": {
      "text/plain": [
       "True"
      ]
     },
     "execution_count": 16,
     "metadata": {},
     "output_type": "execute_result"
    }
   ],
   "source": [
    "True or True"
   ]
  },
  {
   "cell_type": "markdown",
   "metadata": {},
   "source": [
    "In teoria l'operazione di or esclsuivo non esiste..."
   ]
  },
  {
   "cell_type": "code",
   "execution_count": 20,
   "metadata": {},
   "outputs": [
    {
     "ename": "SyntaxError",
     "evalue": "invalid syntax (3223436553.py, line 1)",
     "output_type": "error",
     "traceback": [
      "\u001b[0;36m  Cell \u001b[0;32mIn[20], line 1\u001b[0;36m\u001b[0m\n\u001b[0;31m    True xor True\u001b[0m\n\u001b[0m         ^\u001b[0m\n\u001b[0;31mSyntaxError\u001b[0m\u001b[0;31m:\u001b[0m invalid syntax\n"
     ]
    }
   ],
   "source": [
    "True xor True"
   ]
  },
  {
   "cell_type": "markdown",
   "metadata": {},
   "source": [
    "Ma nella pratica questa è la sua tabella di verità:\n",
    "\n",
    "| A | B | A xor B|\n",
    "|:-:|:-:|:------:|\n",
    "| F | F |   F    |\n",
    "| F | V |   V    |\n",
    "| V | F |   V    |\n",
    "| V | V |   F    |\n",
    "\n",
    "Lo xor è vero se A e B hanno valori di verità differenti. Quindi, possiamo usare `!=` come operazione di or esclusivo."
   ]
  },
  {
   "cell_type": "code",
   "execution_count": 10,
   "metadata": {},
   "outputs": [
    {
     "data": {
      "text/plain": [
       "True"
      ]
     },
     "execution_count": 10,
     "metadata": {},
     "output_type": "execute_result"
    }
   ],
   "source": [
    "True != False"
   ]
  },
  {
   "cell_type": "markdown",
   "metadata": {},
   "source": [
    "Analogamente, in teoria la doppia implicazione non è prevista, ma in pratica la sua tabella di verità coincide con l'uguaglianza.\n",
    "\n",
    "\n",
    "| A | B | A  ↔  B|\n",
    "|:-:|:-:|:------:|\n",
    "| F | F | V      |\n",
    "| F | V | F      |\n",
    "| V | F | F      |\n",
    "| V | V | V      |"
   ]
  },
  {
   "cell_type": "code",
   "execution_count": 11,
   "metadata": {},
   "outputs": [
    {
     "data": {
      "text/plain": [
       "False"
      ]
     },
     "execution_count": 11,
     "metadata": {},
     "output_type": "execute_result"
    }
   ],
   "source": [
    "True == False"
   ]
  },
  {
   "cell_type": "markdown",
   "metadata": {},
   "source": [
    "Ovviamente le espressioni booleane possono essere complicate a piacere. Consideriamo l'espressione\n",
    "```python\n",
    "3 <= 2 or (5 >= 5 and \"ciao\" < \"amico\" )\n",
    "```\n",
    "Questa ci restituisce `False`. Infatti:\n",
    "```\n",
    "3 <= 2 or (5 >= 5 and \"ciao\" < \"amico\" )  =\n",
    "False or (True and False) =\n",
    "False or False =\n",
    "False\n",
    "```"
   ]
  },
  {
   "cell_type": "code",
   "execution_count": 25,
   "metadata": {},
   "outputs": [
    {
     "data": {
      "text/plain": [
       "False"
      ]
     },
     "execution_count": 25,
     "metadata": {},
     "output_type": "execute_result"
    }
   ],
   "source": [
    "3 <= 2 or (5 >= 5 and \"ciao\" < \"amico\" )"
   ]
  },
  {
   "cell_type": "markdown",
   "metadata": {},
   "source": [
    "Attezione che se volete controllare se una variabile (diciamo sia la variabile `x`) assume il valore 0 oppure 1, non potete scrivere\n",
    "```python\n",
    "x == 0 or 1\n",
    "```\n",
    "ma dovete scrivere invece\n",
    "```python\n",
    "x == 0 or x == 1\n",
    "```\n",
    "Tutti gli operandi delle operazioni `and`, `or` e `not` devono essere booleani."
   ]
  },
  {
   "cell_type": "markdown",
   "metadata": {},
   "source": []
  },
  {
   "cell_type": "markdown",
   "metadata": {},
   "source": [
    "Una cosa peculiare di Python, che non si riscontra nella maggior parte dei linguaggi di programmazione, è che gli operatori relazionali (`<`, `<=`, etc...) possono essere concatenati. Ad esempio, per dire che `x` e compresa tra 3 e 10 possiamo scrivere:\n",
    "```python\n",
    "3 <= x <= 10\n",
    "```"
   ]
  },
  {
   "cell_type": "code",
   "execution_count": 12,
   "metadata": {},
   "outputs": [
    {
     "data": {
      "text/plain": [
       "True"
      ]
     },
     "execution_count": 12,
     "metadata": {},
     "output_type": "execute_result"
    }
   ],
   "source": [
    "x = 5\n",
    "3 <= x <= 10"
   ]
  },
  {
   "cell_type": "markdown",
   "metadata": {},
   "source": [
    "Tra gli operatori relazioni concatenati viene automaticamente aggiunto un `and`. Quindi\n",
    "```python\n",
    "2 <= 3 > 0 < 10\n",
    "```\n",
    "equivale a\n",
    "```python\n",
    "2 <= 3 and 3 > 0 and 0 < 10\n",
    "```\n",
    "che è vero\n"
   ]
  },
  {
   "cell_type": "code",
   "execution_count": 14,
   "metadata": {},
   "outputs": [
    {
     "data": {
      "text/plain": [
       "True"
      ]
     },
     "execution_count": 14,
     "metadata": {},
     "output_type": "execute_result"
    }
   ],
   "source": [
    "2 <= 3 > 0 < 10"
   ]
  },
  {
   "cell_type": "markdown",
   "metadata": {},
   "source": [
    "## Operazioni su stringhe che resituiscono booleani"
   ]
  },
  {
   "cell_type": "markdown",
   "metadata": {},
   "source": [
    "L'operatore `in` si usa nella forma `s1 in s2` e restituisce  `True` se `s1` è una sotto-stringa di `s2`, ovvero `s2` contiene un pezzo uguale ad `s1`"
   ]
  },
  {
   "cell_type": "code",
   "execution_count": 15,
   "metadata": {},
   "outputs": [
    {
     "data": {
      "text/plain": [
       "True"
      ]
     },
     "execution_count": 15,
     "metadata": {},
     "output_type": "execute_result"
    }
   ],
   "source": [
    "s = \"ciao sono gianluca\"\n",
    "\"ciao\" in s  # vera perché ciao compare in s"
   ]
  },
  {
   "cell_type": "code",
   "execution_count": 16,
   "metadata": {},
   "outputs": [
    {
     "data": {
      "text/plain": [
       "False"
      ]
     },
     "execution_count": 16,
     "metadata": {},
     "output_type": "execute_result"
    }
   ],
   "source": [
    "\"buongiono\" in s"
   ]
  },
  {
   "cell_type": "markdown",
   "metadata": {},
   "source": [
    "Non è necessario che la stringa a sinistra di `in` sia un parola."
   ]
  },
  {
   "cell_type": "code",
   "execution_count": 17,
   "metadata": {},
   "outputs": [
    {
     "data": {
      "text/plain": [
       "True"
      ]
     },
     "execution_count": 17,
     "metadata": {},
     "output_type": "execute_result"
    }
   ],
   "source": [
    "s = \"ciao sono gianluca\"\n",
    "\"so\" in s"
   ]
  },
  {
   "cell_type": "markdown",
   "metadata": {},
   "source": [
    "L'operatore `not in` è esattamente il cotrario di `in`: `s1 not in s2` è vero se `s1` non compare in `s2`, ed equivale a `not (s1 in s2)`."
   ]
  },
  {
   "cell_type": "code",
   "execution_count": 18,
   "metadata": {},
   "outputs": [
    {
     "data": {
      "text/plain": [
       "False"
      ]
     },
     "execution_count": 18,
     "metadata": {},
     "output_type": "execute_result"
    }
   ],
   "source": [
    "s = \"ciao sono gianluca\"\n",
    "\"so\" not in s"
   ]
  },
  {
   "cell_type": "code",
   "execution_count": 19,
   "metadata": {},
   "outputs": [
    {
     "data": {
      "text/plain": [
       "True"
      ]
     },
     "execution_count": 19,
     "metadata": {},
     "output_type": "execute_result"
    }
   ],
   "source": [
    "\"Chiara\" not in s"
   ]
  },
  {
   "cell_type": "markdown",
   "metadata": {},
   "source": [
    "Il metodo `startswith` del tipo stringa serve a controllare se una stringa *inizia* con una particolare sottostringhe. In particolare `s1.startswith(s2)` è vero se `s1` inizia con `s2`. Analogamente `s1.endswith(s2)` è true se `s1` termina con `s2`."
   ]
  },
  {
   "cell_type": "code",
   "execution_count": 44,
   "metadata": {},
   "outputs": [
    {
     "data": {
      "text/plain": [
       "True"
      ]
     },
     "execution_count": 44,
     "metadata": {},
     "output_type": "execute_result"
    }
   ],
   "source": [
    "s.startswith(\"ciao\")"
   ]
  },
  {
   "cell_type": "code",
   "execution_count": 21,
   "metadata": {},
   "outputs": [
    {
     "data": {
      "text/plain": [
       "False"
      ]
     },
     "execution_count": 21,
     "metadata": {},
     "output_type": "execute_result"
    }
   ],
   "source": [
    "s.startswith(\"sono\")"
   ]
  },
  {
   "cell_type": "code",
   "execution_count": 45,
   "metadata": {},
   "outputs": [
    {
     "data": {
      "text/plain": [
       "False"
      ]
     },
     "execution_count": 45,
     "metadata": {},
     "output_type": "execute_result"
    }
   ],
   "source": [
    "s.endswith(\"ciao\")"
   ]
  },
  {
   "cell_type": "code",
   "execution_count": 22,
   "metadata": {},
   "outputs": [
    {
     "data": {
      "text/plain": [
       "True"
      ]
     },
     "execution_count": 22,
     "metadata": {},
     "output_type": "execute_result"
    }
   ],
   "source": [
    "s.endswith(\"ca\")"
   ]
  },
  {
   "cell_type": "markdown",
   "metadata": {},
   "source": [
    "Attenzione che gli operartori `in`, `not in` e i metodi `startswith` ed `endswith` sono tutti case-sensitive."
   ]
  },
  {
   "cell_type": "code",
   "execution_count": 23,
   "metadata": {},
   "outputs": [
    {
     "data": {
      "text/plain": [
       "False"
      ]
     },
     "execution_count": 23,
     "metadata": {},
     "output_type": "execute_result"
    }
   ],
   "source": [
    "# s inizia con \"ciao\", quindi se cerchio \"Ciao\" la rispsosta è False.\n",
    "s.startswith(\"Ciao\")"
   ]
  },
  {
   "cell_type": "markdown",
   "metadata": {},
   "source": [
    "Ci sono tanti altri metodi che effettuano controlli sulle stringhe, per i quali vi rimando alla sezione 3.8 del libro di testo."
   ]
  },
  {
   "cell_type": "markdown",
   "metadata": {},
   "source": [
    "# Testing"
   ]
  },
  {
   "cell_type": "markdown",
   "metadata": {},
   "source": [
    "Una volta che il programma è scritto, andrebbe anche collaudo (testing in inglese), ovvero andrebbe verificato che faccia quello per cui è stato scritto. Effettuare il collaudo vuol dire fondamentalmente eseguire il programma per vari input, e verificare che l'output è sempre corretto. Vedremo in futuro che ci sono dei metodi per automatizzare in parte il collatudo, per ora è una operazione completamente manuale.\n",
    "\n",
    "Ma quali input provare ? Non è ovviamente possibile inserire tutti i valori possibili, che sono infiniti. Bisognerebbe scegliere un certo insieme finiro di casi di prova. Nello scegliere questi casi di prova, è bene cercare di:\n",
    "  * coprire tutte le possibile alternative degli `if` presenti nel programma, in modo che tutte le istruzioni vengano eseguite in almeno un volta in un caso di prova;\n",
    "  * provare alcuni *casi limite*, cioè casi al confine tra un risultato e l'altro.\n",
    "\n",
    "Il libro fa un esperimento su un programma per il calcolo delle tasse, qui presento un esperimento diverso."
   ]
  },
  {
   "cell_type": "markdown",
   "metadata": {},
   "source": [
    "Consideriamo seguente programma che calcola il minimo di tre numeri:"
   ]
  },
  {
   "cell_type": "code",
   "execution_count": 25,
   "metadata": {},
   "outputs": [
    {
     "name": "stdout",
     "output_type": "stream",
     "text": [
      "2\n"
     ]
    }
   ],
   "source": [
    "n1 = int(input(\"Immetti primo numero:\"))\n",
    "n2 = int(input(\"Immetti secondo numero:\"))\n",
    "n3 = int(input(\"Immetti terzo numero:\"))\n",
    "\n",
    "if n1 < n2 and n1 < n3:\n",
    "    print(n1)\n",
    "elif n2 < n1 and n2 < n3:\n",
    "    print(n2)\n",
    "else:\n",
    "    print(n3)"
   ]
  },
  {
   "cell_type": "markdown",
   "metadata": {},
   "source": [
    "Per soddisfare il requisito di copertura, dovremmo fare almeno un caso di test in cui n1 è più piccolo, uno in cui n2 è più piccolo, ed uno in cui n3 è più piccolo. Ad esempio:\n",
    "\n",
    "n1 | n2 | n3 | valore atteso\n",
    ":-:|:--:|:--:|:-------------:\n",
    "1  | 5  | 7  | 1\n",
    "5  | 2  | 7  | 2\n",
    "5  | 6  | 3  | 3\n",
    "\n",
    "Per quanto riguarda i casi limite, in questo problema si verificano quando due o più numeri sono uguali. Aggiungiamo quindi anche i seguenti:\n",
    "\n",
    "n1 | n2 | n3 | valore atteso\n",
    ":-:|:--:|:--:|:-------------:\n",
    "1  | 1  | 3  | 1\n",
    "3  | 1  | 1  | 1\n",
    "1  | 3  | 1  | 1\n",
    "5  | 5  | 5  | 5\n"
   ]
  },
  {
   "cell_type": "markdown",
   "metadata": {},
   "source": [
    "Se andiamo a provare il programma con questi input, vedremo che tutti i casi hanno successo tranne il primo della seconda tabella: n1 = 1, n2 =1, n3 = 3. In questo caso, la prima e la seconda condizione dell `if` falliscono entrambe, perché sia `n1 < n2` che `n2 < n1` sono condizioni false, e il controllo arriva al `print(n3)` dell'else, che è sbaglato. Il punto è che, hai finiti di deerminare il valore minimo, l'uguaglianza andrebbe trattata come il `<`. La soluzione è rimpiazzare tutti i `<` nel programma con `<=`. La fase di collaudo ci ha consentito di individuare un errore e correggere un errore nel programma."
   ]
  },
  {
   "cell_type": "markdown",
   "metadata": {},
   "source": [
    "P.S. Come ci siamo accorti a lezione, in realtà è sufficiente cmabiare in `<=` solo la condizione `n1 < n2` del primo if, e poi magicamente tutto funziona. Il motivo per cui però è sufficiente cambiare quella condizione è un po' cervellotico, per cui la cosa sensata in questo caso è cambiare tutti i `<` in `<=`."
   ]
  }
 ],
 "metadata": {
  "kernelspec": {
   "display_name": "Python 3",
   "language": "python",
   "name": "python3"
  },
  "language_info": {
   "codemirror_mode": {
    "name": "ipython",
    "version": 3
   },
   "file_extension": ".py",
   "mimetype": "text/x-python",
   "name": "python",
   "nbconvert_exporter": "python",
   "pygments_lexer": "ipython3",
   "version": "3.11.6"
  }
 },
 "nbformat": 4,
 "nbformat_minor": 2
}
