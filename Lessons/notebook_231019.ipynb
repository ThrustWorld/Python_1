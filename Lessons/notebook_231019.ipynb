{
 "cells": [
  {
   "cell_type": "markdown",
   "metadata": {},
   "source": [
    "# Conversioni tra bool e altri tipi"
   ]
  },
  {
   "cell_type": "markdown",
   "metadata": {},
   "source": [
    "Il tipo bool viene automaticamente convertito in intero, quando serve:  `False` è equivalente a `0` e `True` è equivalente a 1."
   ]
  },
  {
   "cell_type": "code",
   "execution_count": null,
   "metadata": {},
   "outputs": [],
   "source": [
    "False + 45"
   ]
  },
  {
   "cell_type": "code",
   "execution_count": null,
   "metadata": {},
   "outputs": [],
   "source": [
    "True + 45"
   ]
  },
  {
   "cell_type": "markdown",
   "metadata": {},
   "source": [
    "Di converso, quasi tutti i tipi vengono convertiti in `bool` quando necessario, secondo queste regole:\n",
    "  * tipo `int`:  il numero `0` diventa `False`, qualunque altro numero diventa `True`\n",
    "  * tipo `float`: come `int`\n",
    "  * tipo `str`: la stringa vuota `\"\"` diventa `False`, tutto il resto diventa `True`\n",
    "  \n",
    "Conversioni simili valgono anche per altri tipi che vedremo in futuro."
   ]
  },
  {
   "cell_type": "code",
   "execution_count": 1,
   "metadata": {},
   "outputs": [
    {
     "name": "stdout",
     "output_type": "stream",
     "text": [
      "a\n"
     ]
    }
   ],
   "source": [
    "if \"ciao\":\n",
    "  print(\"a\")\n",
    "else:\n",
    "  print(\"b\")"
   ]
  },
  {
   "cell_type": "markdown",
   "metadata": {},
   "source": [
    "# Valutazione degli operatori booleani\n",
    "*(parzialmente trattato nella sezione Argomenti Avanzati 3.4 del libro di testo)*"
   ]
  },
  {
   "cell_type": "markdown",
   "metadata": {},
   "source": [
    "Quando una espressione contiene `and` e `or` non è necessario calcolare tutte le sotto-espressioni. Ad esempio, se `x = True`, il risultato di `x or y` sarà sicuramente `True`, non è necessario calcolare `y`. Analogamente, se `x = False`, il risultato di `x and y` sarà sicuramente `False`.\n",
    "\n",
    "In questi casi, Python evita di calcolare la sotto-espressione che non è necessaria. Si parla di **valutazione a corto-circuito**."
   ]
  },
  {
   "cell_type": "code",
   "execution_count": 3,
   "metadata": {},
   "outputs": [
    {
     "data": {
      "text/plain": [
       "True"
      ]
     },
     "execution_count": 3,
     "metadata": {},
     "output_type": "execute_result"
    }
   ],
   "source": [
    "x = 0\n",
    "x == 0 or 1/x == 1"
   ]
  },
  {
   "cell_type": "markdown",
   "metadata": {},
   "source": [
    "Il risultato è `True` perchè `x` è uguale a 0. Notare che `1/x == 1` non viene calcolato. Se lo fosse, si genererebbe un errore di divisione per 0, come qui sotto:"
   ]
  },
  {
   "cell_type": "code",
   "execution_count": 5,
   "metadata": {},
   "outputs": [
    {
     "ename": "ZeroDivisionError",
     "evalue": "division by zero",
     "output_type": "error",
     "traceback": [
      "\u001b[0;31m---------------------------------------------------------------------------\u001b[0m",
      "\u001b[0;31mZeroDivisionError\u001b[0m                         Traceback (most recent call last)",
      "\u001b[0;32m/tmp/ipykernel_762042/2308263197.py\u001b[0m in \u001b[0;36m<module>\u001b[0;34m\u001b[0m\n\u001b[0;32m----> 1\u001b[0;31m \u001b[0;36m1\u001b[0m\u001b[0;34m/\u001b[0m\u001b[0mx\u001b[0m \u001b[0;34m==\u001b[0m \u001b[0;36m1\u001b[0m\u001b[0;34m\u001b[0m\u001b[0;34m\u001b[0m\u001b[0m\n\u001b[0m",
      "\u001b[0;31mZeroDivisionError\u001b[0m: division by zero"
     ]
    }
   ],
   "source": [
    "1/x == 1"
   ]
  },
  {
   "cell_type": "markdown",
   "metadata": {},
   "source": [
    "In realtà, il comportamento degli operatori booleani è ancora più strano. Ad esempio."
   ]
  },
  {
   "cell_type": "code",
   "execution_count": 1,
   "metadata": {},
   "outputs": [
    {
     "data": {
      "text/plain": [
       "'a'"
      ]
     },
     "execution_count": 1,
     "metadata": {},
     "output_type": "execute_result"
    }
   ],
   "source": [
    "\"c\" and \"a\""
   ]
  },
  {
   "cell_type": "markdown",
   "metadata": {},
   "source": [
    "Perché `\"c\" and \"a\"` restituisce `\"a\"` come risultato ? Per capire questa cosa e altre stranezze simili, bisogna esamonare la vera definizione degli operatori `and` e `or`.\n",
    "  * `x and y`: se `x` si converte in `False`, il risultato è `x` altrimenti è `y`\n",
    "  * `x or y`: se `x` si converte in `True`, il risultato è `x`, altrimenti è `y`\n",
    "\n",
    "Se `x` ad `y` sono booleani, questo corrisponde alla definizione standard dei connettivi `and` e `or` in logica, ma se non sono booleani, si ottengono risultati strani.\n",
    "\n",
    "Esaminiamo ad esempio l'espressione `\"c\" and a\"`. Viene prima controllato il risultato della conversione di `\"c\"` in booleano. Siccome `\"c\"` non è la stringa nulla, esso corrisponde a `True`, quindi, in accordo alla definizione sopra il risultato è `\"a\"`."
   ]
  },
  {
   "cell_type": "code",
   "execution_count": 2,
   "metadata": {},
   "outputs": [
    {
     "data": {
      "text/plain": [
       "2"
      ]
     },
     "execution_count": 2,
     "metadata": {},
     "output_type": "execute_result"
    }
   ],
   "source": [
    "1+1 or 1/0"
   ]
  },
  {
   "cell_type": "markdown",
   "metadata": {},
   "source": [
    "Per quanto riguarda l'espressione `1+1 or \"ciao\"` qui sopra: `1+1` viene calcolato e convertito in booleano. Poiché 1+1=2 non è nullo, in booleano corrisponde a `True`. Per la definizione di sopra, il risultato è `2` e `1/0` non viene neanche calcolato."
   ]
  },
  {
   "cell_type": "markdown",
   "metadata": {},
   "source": [
    "Il motivo di questo strano comportamento di `and` e `or` è che, in certe sistuazioni, può tornare comodo."
   ]
  },
  {
   "cell_type": "markdown",
   "metadata": {},
   "source": [
    "# L'espressione condizionale\n",
    "*(sezione Argomenti Avanzati 3.1 del libro di testo)*"
   ]
  },
  {
   "cell_type": "markdown",
   "metadata": {},
   "source": [
    "Spesso capita di avere codice di queso tipo:\n",
    "```python\n",
    "if condizione: \n",
    "    x = v1\n",
    "else:\n",
    "    x = v2\n",
    "```\n",
    "in cui si assegna il valore `v1` o `v2` alla variabile `x` a seconda del risultato di `condizione`."
   ]
  },
  {
   "cell_type": "markdown",
   "metadata": {},
   "source": [
    "Un modo alternativo di scrivere questo pezzo di codice è usare l'*espressione condizionale* (che appunto come dice il nome, è una espressione e non una istruzione). Ha la forma:\n",
    "```python\n",
    "v1 if condizione else v2\n",
    "```\n",
    "I risultato di questa espressione è `v1` se condizione è `True` e `v2` se condizione è `False`."
   ]
  },
  {
   "cell_type": "code",
   "execution_count": 3,
   "metadata": {},
   "outputs": [
    {
     "data": {
      "text/plain": [
       "42"
      ]
     },
     "execution_count": 3,
     "metadata": {},
     "output_type": "execute_result"
    }
   ],
   "source": [
    "42 if 2 == 2 else 33"
   ]
  },
  {
   "cell_type": "code",
   "execution_count": 4,
   "metadata": {},
   "outputs": [
    {
     "data": {
      "text/plain": [
       "33"
      ]
     },
     "execution_count": 4,
     "metadata": {},
     "output_type": "execute_result"
    }
   ],
   "source": [
    "42 if 2 == 3 else 33"
   ]
  },
  {
   "cell_type": "markdown",
   "metadata": {},
   "source": [
    "È possibile anche mettere in cascata varie espressione condizionali, come nell'esempio che segue."
   ]
  },
  {
   "cell_type": "code",
   "execution_count": 6,
   "metadata": {},
   "outputs": [
    {
     "data": {
      "text/plain": [
       "'febbraio'"
      ]
     },
     "execution_count": 6,
     "metadata": {},
     "output_type": "execute_result"
    }
   ],
   "source": [
    "mese = 2\n",
    "\"gennaio\" if mese == 1 else \"febbraio\" if mese ==2 else \"marzo\" if mese == 3 else \"altro mese\""
   ]
  },
  {
   "cell_type": "markdown",
   "metadata": {},
   "source": [
    "Una espressione condizionale restituisce un risultato, esattamente come l'operazione + esegue la somma di due numeri e restituice un risultato. Col risultato possiamo farci quello che vogliamo: assegnarlo ad una variabile, stamparlo, darlo come argomento ad un metodo. Ad esempio, il seguente frammento di codice assengna all variabile `nome` il valore `Dumbo` se la variabile `numero_zampe` è 4, altrimenti assegna il valore `nemo`."
   ]
  },
  {
   "cell_type": "code",
   "execution_count": 1,
   "metadata": {},
   "outputs": [
    {
     "name": "stdout",
     "output_type": "stream",
     "text": [
      "Dumbo\n"
     ]
    }
   ],
   "source": [
    "numero_zampe = 4\n",
    "nome = \"Dumbo\" if numero_zampe == 4 else \"Nemo\"\n",
    "print(nome)"
   ]
  },
  {
   "cell_type": "markdown",
   "metadata": {},
   "source": [
    "**ATTENZIONE**\n",
    "\n",
    "Scrivere \n",
    "```python\n",
    "nome = \"Dumbo\" if numero_zampe == 4 else nome = \"Nemo\"\n",
    "```\n",
    "è sbagliato è genera un errore a tempo di compilazione. Questo perché l'espressione condizionale non sceglie tra eseguire una istruzione o eseguirne un'altra (quello lo fa l'*istruzione condizionale*) ma tra restituire un valore  restituirne un altro. Le due alternative, quella prima di `if` e quella dopo di `else`, non possono essere istruzioni, ma solo valori (o altre espressoni).\n",
    "\n",
    "In particolare potete pensare che nella istruzione\n",
    "```python\n",
    "nome = \"Dumbo\" if numero_zampe == 4 else \"Nemo\"\n",
    "```\n",
    "ci siano delle parentesi implicite e che quindi l'istruzione si legga come:\n",
    "```python\n",
    "nome = (\"Dumbo\" if numero_zampe == 4 else \"Nemo\")\n",
    "```"
   ]
  },
  {
   "cell_type": "markdown",
   "metadata": {},
   "source": [
    "---"
   ]
  },
  {
   "cell_type": "markdown",
   "metadata": {},
   "source": [
    "**Esercizio**\n",
    "\n",
    "Modificare il programma per determinare il colore di una casella della scacchiera visto nella lezione scorsa, in moda da utilizzare l'*espressione condizionale* invece dell'*istruzione condizionale*\n",
    "\n",
    "*Soluzione*\n",
    "\n",
    "Vedi `programma_231019_1_scacchiera.py`."
   ]
  },
  {
   "cell_type": "markdown",
   "metadata": {},
   "source": [
    "---"
   ]
  },
  {
   "cell_type": "markdown",
   "metadata": {},
   "source": [
    "# Le f-stringhe\n",
    "\n",
    "L'istruzione `print` standard non consente di formattare l'output in maniera molto raffinata. Ad esempio, se la variabile `x` contiene un prezzo in euro, vorremmo stamparlo usando sempre due cifre dopo la virgola."
   ]
  },
  {
   "cell_type": "code",
   "execution_count": 7,
   "metadata": {},
   "outputs": [
    {
     "name": "stdout",
     "output_type": "stream",
     "text": [
      "2.1\n"
     ]
    }
   ],
   "source": [
    "x = 2.10\n",
    "print(x)  # vorremmo stampre 2.10, ma in realtà stampa 2.1"
   ]
  },
  {
   "cell_type": "markdown",
   "metadata": {},
   "source": [
    "Se abbiamo molti numeri da stampare uno dopo l'altro, vorremmo essere in grado di allinearli tutti verso destra. Ad esempio:\n",
    "```python\n",
    "print(355)\n",
    "print(1)\n",
    "print(-45)\n",
    "```\n",
    "vorremmo che stampasse\n",
    "```\n",
    "355\n",
    "  1\n",
    " -4\n",
    "```\n",
    "e invece stampa\n",
    "```\n",
    "355\n",
    "1\n",
    "-4\n",
    "```\n",
    "perché allinea tutto a sinistra."
   ]
  },
  {
   "cell_type": "code",
   "execution_count": 8,
   "metadata": {},
   "outputs": [
    {
     "name": "stdout",
     "output_type": "stream",
     "text": [
      "355\n",
      "1\n",
      "-4\n"
     ]
    }
   ],
   "source": [
    "print(355)\n",
    "print(1)\n",
    "print(-4)"
   ]
  },
  {
   "cell_type": "markdown",
   "metadata": {},
   "source": [
    "Esiste vari modi in Python per formattare l'output in maniera corretta. Il vostro libro vi spiega un metodo un po' obsoleto basato nella Sezione 2.5.3. Qui vi spiego invece l'uso delle f-stringhe."
   ]
  },
  {
   "cell_type": "markdown",
   "metadata": {},
   "source": [
    "Una *f-stringa* è una stringa che inizia con una lettera `f` fuori dalle virgolette (`f` sta per formatted)"
   ]
  },
  {
   "cell_type": "code",
   "execution_count": 9,
   "metadata": {},
   "outputs": [
    {
     "data": {
      "text/plain": [
       "'Ciao sono una f-stringa'"
      ]
     },
     "execution_count": 9,
     "metadata": {},
     "output_type": "execute_result"
    }
   ],
   "source": [
    "f\"Ciao sono una f-stringa\""
   ]
  },
  {
   "cell_type": "markdown",
   "metadata": {},
   "source": [
    "All'apparenza la `f` davanti sembra inutile, ma se le f-stringhe contengono una espressione tra parentesi graffa, questa espressione viene calcolata e il risultato sostituito nella stringa risultante."
   ]
  },
  {
   "cell_type": "code",
   "execution_count": 10,
   "metadata": {},
   "outputs": [],
   "source": [
    "x = 2\n",
    "y = 4.5"
   ]
  },
  {
   "cell_type": "code",
   "execution_count": 11,
   "metadata": {},
   "outputs": [
    {
     "data": {
      "text/plain": [
       "'Ecco il numero 4 e 0.5'"
      ]
     },
     "execution_count": 11,
     "metadata": {},
     "output_type": "execute_result"
    }
   ],
   "source": [
    "f\"Ecco il numero {x+2} e {y-4}\""
   ]
  },
  {
   "cell_type": "markdown",
   "metadata": {},
   "source": [
    "Notare che nelle stringhe normali tutto ciò non succede."
   ]
  },
  {
   "cell_type": "code",
   "execution_count": 12,
   "metadata": {},
   "outputs": [
    {
     "data": {
      "text/plain": [
       "'Ecco il numero {x+2} e {y-4}'"
      ]
     },
     "execution_count": 12,
     "metadata": {},
     "output_type": "execute_result"
    }
   ],
   "source": [
    "\"Ecco il numero {x+2} e {y-4}\""
   ]
  },
  {
   "cell_type": "markdown",
   "metadata": {},
   "source": [
    "Ecco altri esempi:"
   ]
  },
  {
   "cell_type": "code",
   "execution_count": 16,
   "metadata": {},
   "outputs": [
    {
     "data": {
      "text/plain": [
       "'Ciao 1'"
      ]
     },
     "execution_count": 16,
     "metadata": {},
     "output_type": "execute_result"
    }
   ],
   "source": [
    "f\"Ciao {abs(5-6)}\""
   ]
  },
  {
   "cell_type": "code",
   "execution_count": 17,
   "metadata": {},
   "outputs": [
    {
     "data": {
      "text/plain": [
       "'Ciao Michele'"
      ]
     },
     "execution_count": 17,
     "metadata": {},
     "output_type": "execute_result"
    }
   ],
   "source": [
    "nome=\"Michele\"\n",
    "f\"Ciao {nome}\""
   ]
  },
  {
   "attachments": {
    "image.png": {
     "image/png": "[encoded data removed]"
    }
   },
   "cell_type": "markdown",
   "metadata": {},
   "source": [
    "Quindi le f-stringhe sono un metodo per inserire espressioni (tipicamente nomi di variabili) all'interno di una stringa. La cosa interessante per i nostri scopi è che, sempre dentro le graffe, è possibile specificare come formattare il risultato dell'espressione prima di inserirla nella stringa. Per far ciò, dopo l'espressione, si inserisce il carattere di due punti `:` e poi si specifica il formato con [apposito mini-linguaggio](https://docs.python.org/3/library/string.html#formatspec).\n",
    "\n",
    "La cosa più semplice che si può fare è, dopo i due punti, inserire un numero intero. Questo è il numero di caratteri che l'espressione occuperà nella stringa. Nell'esempio che segue, la variabile `x` viene rimpiazzata col suo valore che è 2, ma a questo 2 vengono aggiunti altri 9 spazi in modo da occupare comunque il numero di caratteri specificato, che è 10.\n",
    "\n",
    "Ad esempio:\n",
    "\n",
    "![image.png](attachment:image.png)"
   ]
  },
  {
   "cell_type": "code",
   "execution_count": 13,
   "metadata": {},
   "outputs": [
    {
     "data": {
      "text/plain": [
       "'Ecco il numero          2 che occupa 10 spazi ed è allineato a destra'"
      ]
     },
     "execution_count": 13,
     "metadata": {},
     "output_type": "execute_result"
    }
   ],
   "source": [
    "f\"Ecco il numero {x:10} che occupa 10 spazi ed è allineato a destra\""
   ]
  },
  {
   "cell_type": "markdown",
   "metadata": {},
   "source": [
    "Si noti che il numero, all'interno dello spazio di 10 caratteri che gli è stato dedicato, è stato allineato a destra. Le stringhe, invece, vengono allineate a sinistra."
   ]
  },
  {
   "cell_type": "code",
   "execution_count": 18,
   "metadata": {},
   "outputs": [
    {
     "data": {
      "text/plain": [
       "'Mi chiamo Michele             , ciao'"
      ]
     },
     "execution_count": 18,
     "metadata": {},
     "output_type": "execute_result"
    }
   ],
   "source": [
    "f\"Mi chiamo {nome:20}, ciao\""
   ]
  },
  {
   "cell_type": "markdown",
   "metadata": {},
   "source": [
    "Per i `float`,è possibile anche specificare il numero di caratteri che vogliamo dopo la virgola, come nel seguente esempio."
   ]
  },
  {
   "cell_type": "code",
   "execution_count": 19,
   "metadata": {},
   "outputs": [
    {
     "data": {
      "text/plain": [
       "'Ecco il numero       4.50 che occupa 10 spazi, di cui 2 per le cifre decimali'"
      ]
     },
     "execution_count": 19,
     "metadata": {},
     "output_type": "execute_result"
    }
   ],
   "source": [
    "f\"Ecco il numero {y:10.2f} che occupa 10 spazi, di cui 2 per le cifre decimali\""
   ]
  },
  {
   "cell_type": "markdown",
   "metadata": {},
   "source": [
    "Si può anche specificare solo la precisione senza lo spazio che il numero deve occupare."
   ]
  },
  {
   "cell_type": "code",
   "execution_count": 21,
   "metadata": {},
   "outputs": [
    {
     "data": {
      "text/plain": [
       "'Ecco il numero 4.50 con 2 cifre decimali'"
      ]
     },
     "execution_count": 21,
     "metadata": {},
     "output_type": "execute_result"
    }
   ],
   "source": [
    "f\"Ecco il numero {y:.2f} con 2 cifre decimali\""
   ]
  },
  {
   "cell_type": "markdown",
   "metadata": {},
   "source": [
    "Infine, si possono allineare a sinistra anche i numeri mettendo il simbolo `<` prima della lunghezza del campo."
   ]
  },
  {
   "cell_type": "code",
   "execution_count": 22,
   "metadata": {},
   "outputs": [
    {
     "data": {
      "text/plain": [
       "'Ecco il numero 4.50       come sopra ma allineato a sinistra'"
      ]
     },
     "execution_count": 22,
     "metadata": {},
     "output_type": "execute_result"
    }
   ],
   "source": [
    "f\"Ecco il numero {y:<10.2f} come sopra ma allineato a sinistra\""
   ]
  },
  {
   "cell_type": "markdown",
   "metadata": {},
   "source": [
    "L'elenco di tutto ciò che è possibile specificare dopo i due punti è molto lungo, e vi rimando alla documentazione sul [mini-linguaggio per la specifica della formattazione](https://docs.python.org/3/library/string.html#formatspec)."
   ]
  },
  {
   "cell_type": "markdown",
   "metadata": {},
   "source": [
    "---"
   ]
  },
  {
   "attachments": {
    "image.png": {
     "image/png": "[encoded data removed]"
    }
   },
   "cell_type": "markdown",
   "metadata": {},
   "source": [
    "**Esercizio P2.5**\n",
    "\n",
    "Scrivere un programma che chiede all'utente due numeri interi e visualizza:\n",
    "\n",
    "   * la somma\n",
    "   * la differenza\n",
    "   * il prodotto\n",
    "   * il valore medio\n",
    "   * la distanza (cioè il valore assoluto della differenze)\n",
    "   *  il valore massimo\n",
    "   * il valore minimo\n",
    "\n",
    "Far sì che l'output sia allinato come segue:\n",
    "\n",
    "![image.png](attachment:image.png)\n",
    "\n",
    "*Soluzione*\n",
    "\n",
    "Vedere `programma_231019_2_allineamento.py` e `programma_231019_2_allineamento_bis.py`"
   ]
  },
  {
   "cell_type": "markdown",
   "metadata": {},
   "source": [
    "---"
   ]
  },
  {
   "cell_type": "markdown",
   "metadata": {},
   "source": [
    "## Domanda dagli studenti\n",
    "\n",
    "**Mi è stato chiesto durante la lezione se, invece di usare le f-stringhe, è possibile utilizzare il carattere tabulazione.**"
   ]
  },
  {
   "cell_type": "markdown",
   "metadata": {},
   "source": [
    "La risposta secca a questa domanda è no, ma ne approfitto per spiegare cosa è il carattere tabulazione e perché non è adatto a risolvere i problemi di formattazione del testo.\n",
    "\n",
    "Il carattere di tabulazione (da ora in poi chiamato semplicemente HT per *horizontal tabulation*) ha codice ASCII 9, e può essere inserito in una stringa Python con il codice di escape `\\t`. Quando il carattere HT viene inviato in stampa, il suo effetto è spostare il cursore avanti fino al *tab stop* successivo. La posizione di questi tab stop dipendono dal sistema operativo, ma in generale si trovano in tutte le colonne multiple di 8. Pertanto, il comando\n",
    "```python\n",
    "print(\"aa\\tbb\")\n",
    "```\n",
    "stamparà due `a`, poi 6 spazi in modo da raggiungere la colonna numero 8, quindi due `b`.\n",
    "\n",
    "Invece \n",
    "```python\n",
    "print(\"aaaa\\tbb\")\n",
    "```\n",
    "Invece stamparà quattro `a`, poi 4 spazi in modo da raggiungere la colonna numero 8, quindi due `b`.\n",
    "\n",
    "Vediamo un esempio un po' più complesso:"
   ]
  },
  {
   "cell_type": "code",
   "execution_count": 34,
   "metadata": {},
   "outputs": [
    {
     "name": "stdout",
     "output_type": "stream",
     "text": [
      "\t 1 \tb\n",
      "a\t 10 \tb\n",
      "aa\t 20 \tb\n",
      "aa       300 \tb\n"
     ]
    }
   ],
   "source": [
    "print(\"\\t\",1,\"\\tb\")\n",
    "print(\"a\\t\",10,\"\\tb\")\n",
    "print(\"aa\\t\",20,\"\\tb\")\n",
    "print(\"aa      \",300,\"\\tb\")"
   ]
  },
  {
   "cell_type": "markdown",
   "metadata": {},
   "source": [
    "Come si vede nell'esempio di sopra, abbiamo usato la tabulazione per allineare tutti i numeri e le lettere `b`. Tuttavia, l'uso delle tabulazioni ha enormi limitazioni:\n",
    "  * non consente di specificare quanto spazio riservare per le varie informazioni, i tab stop sono in posizione fissa;\n",
    "  * non consente di allineare i valori a destra: i numeri 1, 10, 20, etc.. sono tutti stati allineati a sinistra;\n",
    "  * si richia l'incompatibilità tra sistemi che usano posizioni differenti per i tab stop.\n",
    "\n",
    "Per questi motivi, è meglio non usare il carattere tabulazione. Si tratta più che altro di un retaggio delle vecchie macchine da scrivere.\n",
    "\n",
    "Diverso è il discorso per le tabulazioni nei word-processor, come LibreOffice Writer o Microsoft Word. Qui le tabulazioni sono molto più sofisticate: è possibile configurare la posizione dei tab stop, decidere che tipo di allineamento usare per ognuno di essi, etc... Ma nessuna di queste funzionalità è presente quando si usa il carattere di tabulazione in Python."
   ]
  },
  {
   "cell_type": "markdown",
   "metadata": {},
   "source": [
    "# Assegnazione aumentata\n",
    "*(sezione Argomenti Avanzati 2.2 del libro di testo)*"
   ]
  },
  {
   "cell_type": "markdown",
   "metadata": {},
   "source": [
    "Le istruzioni di assegnazione aumentata sono la combinazione, in una unica istruzione, di una istruzione di assegnamento e un operatore binario.\n",
    "\n",
    "Ad esempio `v += espressione` calcola la somma della variabile `v` con il valore di `espressione`, e assegna il risultato a `v`. In altre parole, equivale a `v = v + espressione`. Analogamente esistono `-=`, `*=`, etc..."
   ]
  },
  {
   "cell_type": "code",
   "execution_count": null,
   "metadata": {},
   "outputs": [],
   "source": [
    "x = 5\n",
    "x += 3\n",
    "x"
   ]
  },
  {
   "cell_type": "markdown",
   "metadata": {},
   "source": [
    "Per chi ha precedenti esperienze di progammazione con C, Java o simili, si noti che Python non supporta invece le operazioni di autoincrement `++` e autodecremento `--`. Ad esempio l'istruzione:\n",
    "```java\n",
    "x++\n",
    "```\n",
    "non è valida, ma può essere rimpiazzata da\n",
    "```python\n",
    "x += 1\n",
    "```"
   ]
  }
 ],
 "metadata": {
  "kernelspec": {
   "display_name": "Python 3",
   "language": "python",
   "name": "python3"
  },
  "language_info": {
   "codemirror_mode": {
    "name": "ipython",
    "version": 3
   },
   "file_extension": ".py",
   "mimetype": "text/x-python",
   "name": "python",
   "nbconvert_exporter": "python",
   "pygments_lexer": "ipython3",
   "version": "3.11.6"
  }
 },
 "nbformat": 4,
 "nbformat_minor": 2
}
