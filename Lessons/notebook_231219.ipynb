{
 "cells": [
  {
   "cell_type": "markdown",
   "metadata": {},
   "source": [
    "# Fibonacci ricorsivo ed iterativo"
   ]
  },
  {
   "cell_type": "markdown",
   "metadata": {},
   "source": [
    "Questa è la versione ricorsiva della funzione che calcola i numeri di Fibonacci, come da esercizio in laboratorio del 18 dicembre."
   ]
  },
  {
   "cell_type": "code",
   "execution_count": 1,
   "metadata": {},
   "outputs": [],
   "source": [
    "def fib_rec(n):\n",
    "    if n == 0: return 0\n",
    "    elif n == 1: return 1\n",
    "    else: return fib_rec(n-1) + fib_rec(n-2)"
   ]
  },
  {
   "cell_type": "code",
   "execution_count": 2,
   "metadata": {},
   "outputs": [
    {
     "data": {
      "text/plain": [
       "8"
      ]
     },
     "execution_count": 2,
     "metadata": {},
     "output_type": "execute_result"
    }
   ],
   "source": [
    "fib_rec(6)"
   ]
  },
  {
   "cell_type": "markdown",
   "metadata": {},
   "source": [
    "Questa invece è la versione iterativa, come da esercizio del 6 novembre 2023."
   ]
  },
  {
   "cell_type": "code",
   "execution_count": 4,
   "metadata": {},
   "outputs": [],
   "source": [
    "def fib_iter(n):\n",
    "    fib_prev = 0\n",
    "    fib_curr = 1\n",
    "    for i in range(2, n+1):\n",
    "        fib_new = fib_curr + fib_prev\n",
    "        fib_prev = fib_curr\n",
    "        fib_curr = fib_new\n",
    "    return fib_curr"
   ]
  },
  {
   "cell_type": "code",
   "execution_count": 5,
   "metadata": {},
   "outputs": [
    {
     "data": {
      "text/plain": [
       "8"
      ]
     },
     "execution_count": 5,
     "metadata": {},
     "output_type": "execute_result"
    }
   ],
   "source": [
    "fib_iter(6)"
   ]
  },
  {
   "cell_type": "markdown",
   "metadata": {},
   "source": [
    "Misuriamo quanto vi mette `fib_iter` a calcolare il decimo numero di Fibonacci."
   ]
  },
  {
   "cell_type": "code",
   "execution_count": 7,
   "metadata": {},
   "outputs": [
    {
     "name": "stdout",
     "output_type": "stream",
     "text": [
      "213 ns ± 11.2 ns per loop (mean ± std. dev. of 7 runs, 1,000,000 loops each)\n"
     ]
    }
   ],
   "source": [
    "%%timeit\n",
    "fib_iter(10)"
   ]
  },
  {
   "cell_type": "markdown",
   "metadata": {},
   "source": [
    "Se aumentiamo di uno il parametro in input, il tempo di esecuzione cambia di poco. Questo perché, nel ciclo che implementa la funzione `fib_iter`, faremo una sola iterazione in più rispetto al caso precedente."
   ]
  },
  {
   "cell_type": "code",
   "execution_count": 9,
   "metadata": {},
   "outputs": [
    {
     "name": "stdout",
     "output_type": "stream",
     "text": [
      "227 ns ± 9.04 ns per loop (mean ± std. dev. of 7 runs, 1,000,000 loops each)\n"
     ]
    }
   ],
   "source": [
    "%%timeit\n",
    "fib_iter(11)"
   ]
  },
  {
   "cell_type": "markdown",
   "metadata": {},
   "source": [
    "Se raddoppiamo il numero il parametro da `10` a `20`, il tempo di esecuzione circa raddoppia."
   ]
  },
  {
   "cell_type": "code",
   "execution_count": 10,
   "metadata": {},
   "outputs": [
    {
     "name": "stdout",
     "output_type": "stream",
     "text": [
      "489 ns ± 1.78 ns per loop (mean ± std. dev. of 7 runs, 1,000,000 loops each)\n"
     ]
    }
   ],
   "source": [
    "%%timeit\n",
    "fib_iter(20)"
   ]
  },
  {
   "cell_type": "markdown",
   "metadata": {},
   "source": [
    "Questo perché la complessità della funzione `fib_iter` è dell'ordine di O(n): il numero di operazioni che compie (ad esepio, il numero di moltiplicazioni) è proporzionale ad `n`."
   ]
  },
  {
   "cell_type": "markdown",
   "metadata": {},
   "source": [
    "Con la versione ricorsiva, invece, accade qualcosa di molto più drastico. Cominciamo col caso in cui l'input è 10. Ovviamente la versione ricoriva è più lenta di quella iterativa, ma questo non ci stupisce."
   ]
  },
  {
   "cell_type": "code",
   "execution_count": 11,
   "metadata": {},
   "outputs": [
    {
     "name": "stdout",
     "output_type": "stream",
     "text": [
      "5.42 µs ± 56.8 ns per loop (mean ± std. dev. of 7 runs, 100,000 loops each)\n"
     ]
    }
   ],
   "source": [
    "%%timeit\n",
    "fib_rec(10)"
   ]
  },
  {
   "cell_type": "markdown",
   "metadata": {},
   "source": [
    "Ma se aumentiamo di uno il parametro in input, da 10 a 11, il tempo di esecuzione non aumenta di poco, bensì quasi raddoppia."
   ]
  },
  {
   "cell_type": "code",
   "execution_count": 13,
   "metadata": {},
   "outputs": [
    {
     "name": "stdout",
     "output_type": "stream",
     "text": [
      "8.74 µs ± 221 ns per loop (mean ± std. dev. of 7 runs, 100,000 loops each)\n"
     ]
    }
   ],
   "source": [
    "%%timeit\n",
    "fib_rec(11)"
   ]
  },
  {
   "cell_type": "code",
   "execution_count": 14,
   "metadata": {},
   "outputs": [
    {
     "name": "stdout",
     "output_type": "stream",
     "text": [
      "14.1 µs ± 152 ns per loop (mean ± std. dev. of 7 runs, 100,000 loops each)\n"
     ]
    }
   ],
   "source": [
    "%%timeit\n",
    "fib_rec(12)"
   ]
  },
  {
   "cell_type": "markdown",
   "metadata": {},
   "source": [
    "Perché questo notevole peggioramente nel passare da 10 a 11 e da 11 a 12 ? Notare che calcolare il 40° numero di fibonacci con la funzione ricorsiva richiede vari secondi, mentre con la versione iterativa è istantaneo."
   ]
  },
  {
   "cell_type": "code",
   "execution_count": 20,
   "metadata": {},
   "outputs": [
    {
     "data": {
      "text/plain": [
       "102334155"
      ]
     },
     "execution_count": 20,
     "metadata": {},
     "output_type": "execute_result"
    }
   ],
   "source": [
    "fib_rec(40)"
   ]
  },
  {
   "cell_type": "code",
   "execution_count": 21,
   "metadata": {},
   "outputs": [
    {
     "data": {
      "text/plain": [
       "102334155"
      ]
     },
     "execution_count": 21,
     "metadata": {},
     "output_type": "execute_result"
    }
   ],
   "source": [
    "fib_iter(40)"
   ]
  },
  {
   "attachments": {
    "image.png": {
     "image/png": "[encoded data removed]"
    }
   },
   "cell_type": "markdown",
   "metadata": {},
   "source": [
    "Per capire come mai la versione ricorsiva è così più lenta di quella iterativa, si può esaminare il seguente grafico, che mostra tutte le chiamate di funzioni effettuate per `fib_rec(4)`.\n",
    "\n",
    "![image.png](attachment:image.png)"
   ]
  },
  {
   "attachments": {
    "image.png": {
     "image/png": "[encoded data removed]"
    }
   },
   "cell_type": "markdown",
   "metadata": {},
   "source": [
    "Si nota come `fib_rec(0)`, `fib_rec(1)` e `fib_rec(2)` vengono richiamate ripetutamente. Tutta la parte evidenziata in rosso è ripetuta esattamente due volte. La cosa è ancora più evidente quando si considera la chiamata a `fib_rec(5)`.\n",
    "\n",
    "![image.png](attachment:image.png)"
   ]
  },
  {
   "cell_type": "markdown",
   "metadata": {},
   "source": [
    "La parte in blu è quella relativa a `fib_rec(4)`. Si vede come passare da `fib_rec(4)` a `fib_rec(5)` non causa soltanto una chiamata ricorsiva in più ma tutto il blocco di chiamate in nero. In particolare, la computazione necessaria per determina `fib_rec(3)`, evidenziate in rosso, viene ripetuta di nuovo nonostante sia già stata eseguita per calcolare `fib_rec(4)`."
   ]
  },
  {
   "cell_type": "markdown",
   "metadata": {},
   "source": [
    "Questa continua ripetizione delle stesse computazioni causa l'enorme complessità computazionale di `fib_rec(n)`."
   ]
  },
  {
   "cell_type": "markdown",
   "metadata": {},
   "source": [
    "# File"
   ]
  },
  {
   "cell_type": "markdown",
   "metadata": {},
   "source": [
    "Vedremo come scrivere programmi che manipolano file. Un file, per il sistema operativo, è semplicemente una sequenza di byte con un nome associato. Dal punt di vista di come un file è utilizzato, si possono distinguere:\n",
    "* file binari\n",
    "* file di testo\n",
    "\n",
    "I file di testo sono quelli che contengono caratteri, codificati in ASCII o le sue estensioni come Unicode. I file di testo possono essere aperti con un editor di testo quale il *Notepad* di Windows o il *Text Editor* di Linux. I file binari contengono invece sequenze di byte che non possono essere interpretati in maniera sensata come sequenze di caratteri.\n",
    "\n",
    "Noi ci occuperemo solo dei file di testo.\n",
    "\n",
    "Per operare su un file, di solito si seguono i seguenti passi:\n",
    "* aprire il file\n",
    "* leggere / scrivere il contenuto\n",
    "* chiudere il file"
   ]
  },
  {
   "cell_type": "markdown",
   "metadata": {},
   "source": [
    "## Lettura di file"
   ]
  },
  {
   "cell_type": "markdown",
   "metadata": {},
   "source": [
    "La seguente istruzione apre il file `prova.txt` in modalità lettura (la `r` come secondo argomento è l'abbreviazione di `read`). Il risultato è un oggetto di tipo file che noi salviamo nella variabile `f`. Ci servirà dopo perché questo oggetto ha dei metodi che ci consentono di operare sul file. "
   ]
  },
  {
   "cell_type": "code",
   "execution_count": 34,
   "metadata": {},
   "outputs": [],
   "source": [
    "f = open(\"input.txt\", \"r\")"
   ]
  },
  {
   "cell_type": "markdown",
   "metadata": {},
   "source": [
    "Visualizzare il contenuto di `f` ci dice il nome del file, la modalità con cui è stato aperto (lettura, `r`)  e il set di caratteri usato per la codifica (UTF-8)."
   ]
  },
  {
   "cell_type": "code",
   "execution_count": 35,
   "metadata": {},
   "outputs": [
    {
     "data": {
      "text/plain": [
       "<_io.TextIOWrapper name='input.txt' mode='r' encoding='UTF-8'>"
      ]
     },
     "execution_count": 35,
     "metadata": {},
     "output_type": "execute_result"
    }
   ],
   "source": [
    "f"
   ]
  },
  {
   "cell_type": "markdown",
   "metadata": {},
   "source": [
    "Uno dei metodi che si possono chiamare sull'oggetto `f` è `readline()`, che legge una riga del file e la restituisce come risultato."
   ]
  },
  {
   "cell_type": "code",
   "execution_count": 36,
   "metadata": {},
   "outputs": [
    {
     "data": {
      "text/plain": [
       "'23\\n'"
      ]
     },
     "execution_count": 36,
     "metadata": {},
     "output_type": "execute_result"
    }
   ],
   "source": [
    "f.readline()"
   ]
  },
  {
   "cell_type": "markdown",
   "metadata": {},
   "source": [
    "Notare che, anche se si tratta di un numero, in maniera simile alla funzione `input` il risultato è comunque una stringa. Inoltre, l'ultimo carattere della stringa è la sequenza di escape `\\n` che rappresenta il carattere di andata a capo (codice ASCII 10)."
   ]
  },
  {
   "cell_type": "code",
   "execution_count": 37,
   "metadata": {},
   "outputs": [
    {
     "data": {
      "text/plain": [
       "'ciao sono io\\n'"
      ]
     },
     "execution_count": 37,
     "metadata": {},
     "output_type": "execute_result"
    }
   ],
   "source": [
    "f.readline()"
   ]
  },
  {
   "cell_type": "code",
   "execution_count": 38,
   "metadata": {},
   "outputs": [
    {
     "data": {
      "text/plain": [
       "'12\\n'"
      ]
     },
     "execution_count": 38,
     "metadata": {},
     "output_type": "execute_result"
    }
   ],
   "source": [
    "f.readline()"
   ]
  },
  {
   "cell_type": "markdown",
   "metadata": {},
   "source": [
    "Quando il file è terminato, ogni uteriore chiamata del metodo `readline` restituirà una stringa vuota."
   ]
  },
  {
   "cell_type": "code",
   "execution_count": 39,
   "metadata": {},
   "outputs": [
    {
     "data": {
      "text/plain": [
       "''"
      ]
     },
     "execution_count": 39,
     "metadata": {},
     "output_type": "execute_result"
    }
   ],
   "source": [
    "f.readline()"
   ]
  },
  {
   "cell_type": "markdown",
   "metadata": {},
   "source": [
    "Una volta che abbiamo letto il file possiamo chiuderlo con metodo `close()`."
   ]
  },
  {
   "cell_type": "code",
   "execution_count": 41,
   "metadata": {},
   "outputs": [],
   "source": [
    "f.close()"
   ]
  },
  {
   "cell_type": "markdown",
   "metadata": {},
   "source": [
    "Finché un file è aperto, il sistema operativo deve tenere in memoria delle strutture dati per la sua gestione. Pertanto, sempre meglio chiudere un file appena non si usa. Se ci si dimentica di chiuderlo, normalmente viene chiuso automaticamente quando il programma termina. Tuttavia, con alcune implementazioni di Python, se il file è aperto in scrittura, si potrebbero anche perdere le modifiche effettuate."
   ]
  },
  {
   "cell_type": "markdown",
   "metadata": {},
   "source": [
    "Una volta che il file è chiuso, ulteriori tentativi di lettura generano un errore."
   ]
  },
  {
   "cell_type": "code",
   "execution_count": 42,
   "metadata": {},
   "outputs": [
    {
     "ename": "ValueError",
     "evalue": "I/O operation on closed file.",
     "output_type": "error",
     "traceback": [
      "\u001b[0;31m---------------------------------------------------------------------------\u001b[0m",
      "\u001b[0;31mValueError\u001b[0m                                Traceback (most recent call last)",
      "Cell \u001b[0;32mIn[42], line 1\u001b[0m\n\u001b[0;32m----> 1\u001b[0m \u001b[43mf\u001b[49m\u001b[38;5;241;43m.\u001b[39;49m\u001b[43mreadline\u001b[49m\u001b[43m(\u001b[49m\u001b[43m)\u001b[49m\n",
      "\u001b[0;31mValueError\u001b[0m: I/O operation on closed file."
     ]
    }
   ],
   "source": [
    "f.readline()"
   ]
  },
  {
   "cell_type": "markdown",
   "metadata": {},
   "source": [
    "Proviamo ora a scrivere del codice che legge un file costituito da tante righe contenenti numeri, fa la somma di queste righe e stampa il risultato della somma. Si tratta di chiamare ripetutamente il metodo `readline` finché non c'è più niente da leggere. Si rimanda alla lezione del 24 dove vengono esaminate strategie diverse per leggere ripetutamente da tastiera (le stesse strategie si applicano alla lettura da file). Noi useremo la strategia denominata *con lettura di preparazione*."
   ]
  },
  {
   "cell_type": "code",
   "execution_count": 46,
   "metadata": {},
   "outputs": [
    {
     "name": "stdout",
     "output_type": "stream",
     "text": [
      "24\n"
     ]
    }
   ],
   "source": [
    "f = open(\"input2.txt\", \"r\")\n",
    "sum = 0\n",
    "# legge la prima riga\n",
    "linea = f.readline()\n",
    "while linea != \"\":\n",
    "    # elabora la linea\n",
    "    sum += int(linea)\n",
    "    # leggo nuova riga\n",
    "    linea = f.readline()\n",
    "print(sum)\n",
    "f.close()"
   ]
  },
  {
   "cell_type": "markdown",
   "metadata": {},
   "source": [
    "## Scrittura di un file"
   ]
  },
  {
   "cell_type": "markdown",
   "metadata": {},
   "source": [
    "Per scrivere un file:\n",
    "* il file va aperto in modalità scrittura, usando la stringa \"w\" (per write) come secondo parametro;\n",
    "* si può usare il metodo `write` invece di readline per scrivere una stringa dentro al file.\n",
    "\n",
    "Il seguente programma scrive sul file `out.txt` il seguente contenuto:\n",
    "```\n",
    "Ciao\n",
    "mi chiamo Gianluca\n",
    "```"
   ]
  },
  {
   "cell_type": "code",
   "execution_count": 45,
   "metadata": {},
   "outputs": [],
   "source": [
    "pippo = open(\"out.txt\", \"w\")\n",
    "pippo.write(\"Ciao\\n\")\n",
    "pippo.write(\"mi chiamo Gianluca\\n\")\n",
    "pippo.close()"
   ]
  },
  {
   "cell_type": "markdown",
   "metadata": {},
   "source": [
    "Notare che se il file esiste già, viene svuotato come prima cosa. Se vogliamo che le nostre scritte si aggiungano in fondo ad un file, dovremo usare \"a\" (append) come metodo di apertura invece di \"w\". "
   ]
  },
  {
   "cell_type": "markdown",
   "metadata": {},
   "source": [
    "Supponiamo di voler riprendere il programma dell'esempio precedente ma ora, oltre a calcolare la somma, vogliamo che il nostro programma generi un file di output che contenga:\n",
    "* gli stessi numeri del file in input, allineati a destra\n",
    "* una sequenza di simboli meno\n",
    "* la somma dei numeri\n",
    "\n",
    "Ad esempio, se l'input è il file\n",
    "```\n",
    "2\n",
    "3\n",
    "10\n",
    "9\n",
    "```\n",
    "il file di output dovrà contenere qualcosa come\n",
    "```\n",
    "    2\n",
    "    3\n",
    "   10\n",
    "    9\n",
    "------\n",
    "   24"
   ]
  },
  {
   "cell_type": "code",
   "execution_count": 49,
   "metadata": {},
   "outputs": [],
   "source": [
    "infile = open(\"input2.txt\", \"r\")\n",
    "outfile = open(\"out2.txt\", \"w\")\n",
    "sum = 0\n",
    "# leggo prima riga\n",
    "linea = infile.readline()\n",
    "while linea != \"\":\n",
    "    # converto in intero la linea\n",
    "    n = int(linea)\n",
    "    # scrivo il numero allineato nel file di output\n",
    "    outfile.write(f\"{n:8}\\n\")\n",
    "    # aggiorno la somma\n",
    "    sum += n\n",
    "    # leggo nuova riga\n",
    "    linea = infile.readline()\n",
    "infile.close()\n",
    "outfile.write(\"------------\\n\")\n",
    "outfile.write(f\"{sum:8}\\n\")\n",
    "outfile.close()"
   ]
  },
  {
   "cell_type": "markdown",
   "metadata": {},
   "source": [
    "### Domanda di uno studente\n",
    "\n",
    "Supponiamo di volere perfezionare il programma in modo da scrivere un simbolo `+` a destra di ogni numero, tranne che a destra dell'ultimo numero letto in input a destra del quale va il carattere `=`. Notare che al momento in cui il numero `n` viene visualizzato, non sappiao ancora se è l'ultimo oppure no, e se quindi andrà seguito da un `+` o un `=`. Per questo, la scrittura di  `+` e  `=` va posticipatà fino a che non abbiamo letto la riga successiva."
   ]
  },
  {
   "cell_type": "code",
   "execution_count": null,
   "metadata": {},
   "outputs": [],
   "source": [
    "infile = open(\"input2.txt\", \"r\")\n",
    "outfile = open(\"out2.txt\", \"w\")\n",
    "sum = 0\n",
    "# leggo prima riga\n",
    "linea = infile.readline()\n",
    "while linea != \"\":\n",
    "    # converto in intero la linea\n",
    "    n = int(linea)\n",
    "    # scrivo il numero allineato nel file di output (senza andata a capo)\n",
    "    outfile.write(f\"{n:8}\")\n",
    "    # aggiorno la somma\n",
    "    sum += n\n",
    "    # leggo nuova riga\n",
    "    linea = infile.readline()\n",
    "    # aggiungo carattere + o = e vado a capo\n",
    "    outfile.write(\" =\\n\" if linea == \"\" else \" +\\n\")\n",
    "infile.close()\n",
    "outfile.write(\"------------\\n\")\n",
    "outfile.write(f\"{sum:8}\\n\")\n",
    "outfile.close()"
   ]
  },
  {
   "cell_type": "markdown",
   "metadata": {},
   "source": [
    "## Leggere i file con un for"
   ]
  },
  {
   "cell_type": "markdown",
   "metadata": {},
   "source": [
    "Invece di leggere le righe di un file esplicitamente con il metodo `readline`, si può sfruttare il fatto che un file in Python è un tipo iterabile: vuol dire che può essere messo dentro una istruzione `for`, in maniera analoga alle stringhe, le liste e i range. Scrivere\n",
    "```python\n",
    "for l in f:\n",
    "    # fa qualcosa\n",
    "```\n",
    "esegue il corpo del for tante volte, una per ogni linea del file `f` che viene copiata di volta in volta nella variabile `l`. Ad esempio, il programma di prima che calcola la somma dei numeri in `input2.txt` può essere riscritto come segue."
   ]
  },
  {
   "cell_type": "code",
   "execution_count": 53,
   "metadata": {},
   "outputs": [
    {
     "name": "stdout",
     "output_type": "stream",
     "text": [
      "24\n"
     ]
    }
   ],
   "source": [
    "f = open(\"input2.txt\", \"r\")\n",
    "sum = 0\n",
    "for linea in f:\n",
    "    # faccio qualcosa\n",
    "    sum += int(linea)\n",
    "print(sum)\n",
    "f.close()"
   ]
  },
  {
   "cell_type": "markdown",
   "metadata": {},
   "source": [
    "### Domanda di uno studente\n",
    "\n",
    "Riprendiamo il problema di prima, quello di prendere i dati in input da un file, e produrre in output un altro file con i dati formattati, i totali, e i segni + o = a destra di ogni numero. Se proviamo a rifarlo utilizzando il `for` per leggere le linee dal file invece che il `while`, notiamo che la cosa è un po' complicata, più che altro per la necessità di distinguere il caso in cui mettere il `+` e il caso in cui mettere il simbolo `=`. Il problema è che non possiamo sapere se mettere `+` o `=` finché abbiamo letto la riga successiva, ma nel caso dell'uso del `for` vuol dire che i `+` e `=` finali di una riga vanno inseriti nella iterazione successiva.  Dentro il `for`, quindi, la prima cosa che dovremo fare è aggiungere il `+` per la riga precedente dell'output. Questo però non vale per la prima iterazione del `for`, nella quale non c'è nessuna riga precedente da completare. Per distinguere la prima iterazione dalle altre usiamo la variabile booleana `first`."
   ]
  },
  {
   "cell_type": "code",
   "execution_count": 8,
   "metadata": {},
   "outputs": [],
   "source": [
    "infile = open(\"input2.txt\", \"r\")\n",
    "outfile = open(\"out2.txt\", \"w\")\n",
    "sum = 0\n",
    "# utilizzata per distinguere la prima iterazione del for dalle successive\n",
    "first = True\n",
    "for linea in infile:\n",
    "    if not first:\n",
    "        # se non sono alla prima iterazione, scrivo per prima cosa il + e l'andata a capo\n",
    "        # per la riga precedente dell'output.\n",
    "        outfile.write(\"+\\n\")\n",
    "    else:\n",
    "        # altrimenti, se sono alla prima iterazione, non scrivo nulla ma aggiorno la\n",
    "        # variabile first.\n",
    "        first = False\n",
    "    # converto in intero la linea\n",
    "    n = int(linea)\n",
    "    # scrivo il numero allineato nel file di output (senza andata a capo)\n",
    "    outfile.write(f\"{n:8} \")\n",
    "    # aggiorno la somma\n",
    "    sum += n\n",
    "infile.close()\n",
    "# concludo l'ultima riga mettendo l'uguale\n",
    "outfile.write(\"=\\n\")\n",
    "# scrivo il totale\n",
    "outfile.write(\"------------\\n\")\n",
    "outfile.write(f\"{sum:8}\\n\")\n",
    "outfile.close()"
   ]
  },
  {
   "cell_type": "markdown",
   "metadata": {},
   "source": [
    "Ad ogni modo, questa soluzione è meno leggibile della precedente. La morale di questo esempio è che di solito usare il `for` per leggere un file rende il programma più leggibile, ma non sempre."
   ]
  },
  {
   "cell_type": "markdown",
   "metadata": {},
   "source": [
    "## L'istruzione with\n",
    "\n",
    "Per evitare di dimenticarsi di chiudere un file, Python mette a disposizione l'istruzione `with` che si occupa di chiudere automaticamente un file. Il programma di prima, con l'istruzione `with` diventa:"
   ]
  },
  {
   "cell_type": "code",
   "execution_count": 39,
   "metadata": {},
   "outputs": [
    {
     "name": "stdout",
     "output_type": "stream",
     "text": [
      "24\n"
     ]
    }
   ],
   "source": [
    "with open(\"input2.txt\", \"r\") as f:\n",
    "    sum = 0\n",
    "    for linea in f:\n",
    "        # faccio qualcosa\n",
    "        sum += int(linea)\n",
    "    print(sum)"
   ]
  },
  {
   "cell_type": "markdown",
   "metadata": {},
   "source": [
    "In pratica viene eseguita la funzione `open(\"input2.txt\", \"r\")` ed il risultato viene messo in `f`. Poi viene eseguito tutto il corpo del `with`. Quando il corpo è finito, il file `f` viene chiuso automaticamente.\n",
    "\n",
    "In realtà, la `with` fa qualcosa in più rispetto alla semplice chiusura automatica, ma per questo dovremo aspettare la prossima lezione sulle eccezioni."
   ]
  },
  {
   "cell_type": "markdown",
   "metadata": {},
   "source": [
    "## Elaborare più dati sulla stessa riga"
   ]
  },
  {
   "cell_type": "markdown",
   "metadata": {},
   "source": [
    "Nell amaggior parte dei casi, una riga di un file non conterrà una singola informazione, ma più informazioni separate da caratteri come spazi e virgole. Per trattare file di questo tipo, facciamo prima una digressione e parliamo del metodo `split` per le string."
   ]
  },
  {
   "cell_type": "markdown",
   "metadata": {},
   "source": [
    "Il metodo `split()` prende la stringa a cui è applicato, la divide in sottostringhe separati da spazi, e restituisce le varie sottostringhe sotto forma di una lista di stringhe."
   ]
  },
  {
   "cell_type": "code",
   "execution_count": 55,
   "metadata": {},
   "outputs": [],
   "source": [
    "s = \"ciao 23     sono   -1\""
   ]
  },
  {
   "cell_type": "code",
   "execution_count": 56,
   "metadata": {},
   "outputs": [
    {
     "data": {
      "text/plain": [
       "['ciao', '23', 'sono', '-1']"
      ]
     },
     "execution_count": 56,
     "metadata": {},
     "output_type": "execute_result"
    }
   ],
   "source": [
    "s.split()"
   ]
  },
  {
   "cell_type": "markdown",
   "metadata": {},
   "source": [
    "I pezzi che compongo `s`, ovvero `ciao`, `23`, `sono` e `-1` sono stati separati e restituiti sotto forma di una lista."
   ]
  },
  {
   "cell_type": "markdown",
   "metadata": {},
   "source": [
    "Può accadere che le informazioni in una riga non siano separati da spazi ma altri caratteri, come le virgole. In tal caso, il carattere separatore può essere indicato come argomento di `split`."
   ]
  },
  {
   "cell_type": "code",
   "execution_count": 57,
   "metadata": {},
   "outputs": [],
   "source": [
    "s=\"23,12,34\""
   ]
  },
  {
   "cell_type": "markdown",
   "metadata": {},
   "source": [
    "Se provo una semplice `s.split()`, l'intera stringa `23,12,34` viene considerata come una unica componente."
   ]
  },
  {
   "cell_type": "code",
   "execution_count": 58,
   "metadata": {},
   "outputs": [
    {
     "data": {
      "text/plain": [
       "['23,12,34']"
      ]
     },
     "execution_count": 58,
     "metadata": {},
     "output_type": "execute_result"
    }
   ],
   "source": [
    "s.split()"
   ]
  },
  {
   "cell_type": "markdown",
   "metadata": {},
   "source": [
    "Se invece fornisco la virgola come parametro, i tre numeri vengono correttamente separati."
   ]
  },
  {
   "cell_type": "code",
   "execution_count": 59,
   "metadata": {},
   "outputs": [
    {
     "data": {
      "text/plain": [
       "['23', '12', '34']"
      ]
     },
     "execution_count": 59,
     "metadata": {},
     "output_type": "execute_result"
    }
   ],
   "source": [
    "s.split(\",\")"
   ]
  },
  {
   "cell_type": "markdown",
   "metadata": {},
   "source": [
    "A questo punto, però, gli spazi non hanno nessun trattamente particolare e sono visti come caratteri veri e propri e non elementi di separazione."
   ]
  },
  {
   "cell_type": "code",
   "execution_count": 60,
   "metadata": {},
   "outputs": [
    {
     "data": {
      "text/plain": [
       "['23', ' 12', ' 24']"
      ]
     },
     "execution_count": 60,
     "metadata": {},
     "output_type": "execute_result"
    }
   ],
   "source": [
    "\"23, 12, 24\".split(\",\")"
   ]
  },
  {
   "cell_type": "markdown",
   "metadata": {},
   "source": [
    "Si vede come le stringhe risultato di `split` contengono degli spazi."
   ]
  },
  {
   "cell_type": "markdown",
   "metadata": {},
   "source": [
    "Vediamo adesso di mettere a buon uso questa funzione `split`. Supponiamo che il nostro file `input3.txt` abbia questa struttura:\n",
    "```\n",
    "Pescara 123 88\n",
    "Chieti 67 23\n",
    "Teramo 88 182\n",
    "```\n",
    "e supponiamo di voler produre come output la stessa sequenza di città, ma con accanto un numero ottenuto come somma dei due numeri dati. Dando in input l'esempio di sopra, vorremmo ottenere:\n",
    "```\n",
    "Pescara 211\n",
    "Chieti 90\n",
    "Teramo 270\n",
    "```\n",
    "Possiamo leggere il file di input una riga alla volta, e usare il metodo `split` per separare le tre colonne."
   ]
  },
  {
   "cell_type": "code",
   "execution_count": 62,
   "metadata": {},
   "outputs": [
    {
     "name": "stdout",
     "output_type": "stream",
     "text": [
      "Pescara 211\n",
      "Chieti 90\n",
      "Teramo 270\n"
     ]
    }
   ],
   "source": [
    "with open(\"input3.txt\", \"r\") as f:\n",
    "    for linea in f:\n",
    "        # Uso l'assegnmento multiplo per mettere i tre valori che risultano dal metodo `split()`\n",
    "        # direttamente nelle tre variabili citta, x ed y. Si veda la lezione del 21 novembre 2023.\n",
    "        citta, x, y = linea.split()\n",
    "        print(citta, int(x) + int(y))"
   ]
  },
  {
   "cell_type": "markdown",
   "metadata": {},
   "source": [
    "## Leggere uno o più caratteri alla volta"
   ]
  },
  {
   "cell_type": "markdown",
   "metadata": {},
   "source": [
    "Un'alternativa all'uso di `readline` o del `for`  è l'uso del metodo `read`. Il metodo `read()`, se usato senza parametri, legge tutto il file fino alla fine e lo restituisce come una unica stringa. Altrimenti, se viene specificato un numero come parametro, leggerà il numero di caratteri specificato nel parametro."
   ]
  },
  {
   "cell_type": "code",
   "execution_count": 66,
   "metadata": {},
   "outputs": [],
   "source": [
    "f = open(\"input3.txt\", \"r\")"
   ]
  },
  {
   "cell_type": "code",
   "execution_count": 67,
   "metadata": {},
   "outputs": [
    {
     "data": {
      "text/plain": [
       "'P'"
      ]
     },
     "execution_count": 67,
     "metadata": {},
     "output_type": "execute_result"
    }
   ],
   "source": [
    "# legge un carattere\n",
    "f.read(1)"
   ]
  },
  {
   "cell_type": "code",
   "execution_count": 68,
   "metadata": {},
   "outputs": [
    {
     "data": {
      "text/plain": [
       "'e'"
      ]
     },
     "execution_count": 68,
     "metadata": {},
     "output_type": "execute_result"
    }
   ],
   "source": [
    "# legge il carattere successivo\n",
    "f.read(1)"
   ]
  },
  {
   "cell_type": "code",
   "execution_count": 69,
   "metadata": {},
   "outputs": [
    {
     "data": {
      "text/plain": [
       "'scara'"
      ]
     },
     "execution_count": 69,
     "metadata": {},
     "output_type": "execute_result"
    }
   ],
   "source": [
    "# legge i successivi 5 caratteri\n",
    "f.read(5)"
   ]
  },
  {
   "cell_type": "code",
   "execution_count": 70,
   "metadata": {},
   "outputs": [
    {
     "data": {
      "text/plain": [
       "' 123 88\\nChieti 67 23\\nTeramo 88 182\\n'"
      ]
     },
     "execution_count": 70,
     "metadata": {},
     "output_type": "execute_result"
    }
   ],
   "source": [
    "# legge tutto fino alla fine\n",
    "f.read()"
   ]
  },
  {
   "cell_type": "code",
   "execution_count": 71,
   "metadata": {},
   "outputs": [],
   "source": [
    "f.close()"
   ]
  },
  {
   "cell_type": "markdown",
   "metadata": {},
   "source": [
    "Voglio usare `read(1)` per leggere un file un carattere alla volta e contare quante volte compare nel file ogni lettera dell'alfabato. Per far ciò userò una lista per contenre i conteggi di tutte le lettere. La posizione `0` della lista conterrà il numero di `A` lette dal file, la posizione `1` il numero di `B` fino alla posizione `25` che contiene il numero di `Z`."
   ]
  },
  {
   "cell_type": "markdown",
   "metadata": {},
   "source": [
    "Mi servirà però il modo di convertire una lettera da `A` a `Z` in un numero da 0 a 25 e, viceversa, il modo di convertire un numero da 0 a 25 in una lettera da `A` a `Z`. Per questo possono tornare utili le funzioni predefinite `chr` e `ord`."
   ]
  },
  {
   "cell_type": "markdown",
   "metadata": {},
   "source": [
    "La funzione `ord` perende in input un carattere e restituisce il codice Unicode associato carattere (è un intero)."
   ]
  },
  {
   "cell_type": "code",
   "execution_count": 75,
   "metadata": {},
   "outputs": [
    {
     "data": {
      "text/plain": [
       "65"
      ]
     },
     "execution_count": 75,
     "metadata": {},
     "output_type": "execute_result"
    }
   ],
   "source": [
    "# La lettere A maiuscola ha codice Unicode (e ASCII) 65\n",
    "ord(\"A\")"
   ]
  },
  {
   "cell_type": "code",
   "execution_count": 76,
   "metadata": {},
   "outputs": [
    {
     "data": {
      "text/plain": [
       "66"
      ]
     },
     "execution_count": 76,
     "metadata": {},
     "output_type": "execute_result"
    }
   ],
   "source": [
    "# La lettere B maiuscola ha codice Unicode (e ASCII) 66\n",
    "ord(\"B\")"
   ]
  },
  {
   "cell_type": "markdown",
   "metadata": {},
   "source": [
    "La funzione `chr` fa esattamente il contrario: prende un intero e restituisce il carattere che ha il codice Unicode passato come parametro."
   ]
  },
  {
   "cell_type": "code",
   "execution_count": 77,
   "metadata": {},
   "outputs": [
    {
     "data": {
      "text/plain": [
       "'A'"
      ]
     },
     "execution_count": 77,
     "metadata": {},
     "output_type": "execute_result"
    }
   ],
   "source": [
    "# La lettere A maiuscola ha codice Unicode (e ASCII) 65\n",
    "chr(65)"
   ]
  },
  {
   "cell_type": "markdown",
   "metadata": {},
   "source": [
    "Se nella variabile `ch` ho un carattere da `A` a `Z` e voglio convertirlo in un numero da `0` a `25`, mi basta calcolare il codice numerico di `ch` (che va da 65 in poi) e sottrarre 65 (che è il codice della A maiuscola. Questo perché i codici numerici delle lettere maiuscole sono consecutivi. Viceversa, se ho un numero `i` da 0 a 25 e voglio trasformarlo in una lettera da `A` a `Z`, mi basta sommare ad `i` il codice numerico della lettera `A` (65) e passare il tutto alla funzione `chr`."
   ]
  },
  {
   "cell_type": "markdown",
   "metadata": {},
   "source": [
    "Siamo pronti per scrivere il programma voluto."
   ]
  },
  {
   "cell_type": "code",
   "execution_count": 79,
   "metadata": {},
   "outputs": [
    {
     "name": "stdout",
     "output_type": "stream",
     "text": [
      "A 3\n",
      "B 0\n",
      "C 2\n",
      "D 0\n",
      "E 3\n",
      "F 0\n",
      "G 0\n",
      "H 1\n",
      "I 2\n",
      "J 0\n",
      "K 0\n",
      "L 0\n",
      "M 1\n",
      "N 0\n",
      "O 1\n",
      "P 1\n",
      "Q 0\n",
      "R 2\n",
      "S 1\n",
      "T 2\n",
      "U 0\n",
      "V 0\n",
      "W 0\n",
      "X 0\n",
      "Y 0\n",
      "Z 0\n"
     ]
    }
   ],
   "source": [
    "with open(\"input3.txt\") as f:\n",
    "    # creo la lista che conterrà i conteggi delle 26 lettere\n",
    "    conteggi = [0] * 26\n",
    "    # leggo il primo carattere\n",
    "    ch = f.read(1)\n",
    "    while ch != \"\":\n",
    "        # converto in maiuscolo\n",
    "        ch = ch.upper()\n",
    "        # se il carattere è una lettera, ovvero è compreso tra \"A\" e \"Z\"\n",
    "        if \"A\" <= ch <= \"Z\":\n",
    "            # determino l'equivalente numerico di ch\n",
    "            x =  ord(ch) - ord(\"A\")\n",
    "            # incremento il conteggio corretto\n",
    "            conteggi[x] += 1\n",
    "        # leggo un nuovo carattere\n",
    "        ch = f.read(1)\n",
    "\n",
    "# visualizzo ail risultato\n",
    "for i in range(len(conteggi)):\n",
    "    # converto l'indice i in una lettera\n",
    "    ch = chr(i + ord('A'))\n",
    "    print(ch, conteggi[i])"
   ]
  },
  {
   "cell_type": "code",
   "execution_count": null,
   "metadata": {},
   "outputs": [],
   "source": []
  }
 ],
 "metadata": {
  "kernelspec": {
   "display_name": "Python 3",
   "language": "python",
   "name": "python3"
  },
  "language_info": {
   "codemirror_mode": {
    "name": "ipython",
    "version": 3
   },
   "file_extension": ".py",
   "mimetype": "text/x-python",
   "name": "python",
   "nbconvert_exporter": "python",
   "pygments_lexer": "ipython3",
   "version": "3.12.1"
  }
 },
 "nbformat": 4,
 "nbformat_minor": 2
}
