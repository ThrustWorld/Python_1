{
 "cells": [
  {
   "cell_type": "markdown",
   "metadata": {},
   "source": [
    "# Eccezioni"
   ]
  },
  {
   "cell_type": "markdown",
   "metadata": {},
   "source": [
    "Quando si verifica un errore a tempo di esecuzione, l'errore viene normalmente mostrato sullo schermo. Le informazioni mostrate in particolare sono:\n",
    "* il tipo dell'errore (qua sotto, `ZeroDivisionError`)\n",
    "* un messaggio di errore (qua sotto, `division by zero`)\n",
    "* la linea in cui si è verificato l'errore, e l'eventuale pila di chiamate a funzioni "
   ]
  },
  {
   "cell_type": "code",
   "execution_count": 1,
   "metadata": {},
   "outputs": [
    {
     "ename": "ZeroDivisionError",
     "evalue": "division by zero",
     "output_type": "error",
     "traceback": [
      "\u001b[0;31m---------------------------------------------------------------------------\u001b[0m",
      "\u001b[0;31mZeroDivisionError\u001b[0m                         Traceback (most recent call last)",
      "Cell \u001b[0;32mIn[1], line 1\u001b[0m\n\u001b[0;32m----> 1\u001b[0m \u001b[38;5;241;43m1\u001b[39;49m\u001b[38;5;241;43m/\u001b[39;49m\u001b[38;5;241;43m0\u001b[39;49m\n",
      "\u001b[0;31mZeroDivisionError\u001b[0m: division by zero"
     ]
    }
   ],
   "source": [
    "1/0"
   ]
  },
  {
   "cell_type": "markdown",
   "metadata": {},
   "source": [
    "Vediamo un altro tipo di errore: accesso ad una posizione inestistente in una stringa."
   ]
  },
  {
   "cell_type": "code",
   "execution_count": 30,
   "metadata": {},
   "outputs": [
    {
     "ename": "IndexError",
     "evalue": "string index out of range",
     "output_type": "error",
     "traceback": [
      "\u001b[0;31m---------------------------------------------------------------------------\u001b[0m",
      "\u001b[0;31mIndexError\u001b[0m                                Traceback (most recent call last)",
      "Cell \u001b[0;32mIn[30], line 2\u001b[0m\n\u001b[1;32m      1\u001b[0m stringa \u001b[38;5;241m=\u001b[39m \u001b[38;5;124m\"\u001b[39m\u001b[38;5;124mpippo\u001b[39m\u001b[38;5;124m\"\u001b[39m\n\u001b[0;32m----> 2\u001b[0m \u001b[43mstringa\u001b[49m\u001b[43m[\u001b[49m\u001b[38;5;241;43m10\u001b[39;49m\u001b[43m]\u001b[49m\n",
      "\u001b[0;31mIndexError\u001b[0m: string index out of range"
     ]
    }
   ],
   "source": [
    "stringa = \"pippo\"\n",
    "stringa[10]"
   ]
  },
  {
   "cell_type": "markdown",
   "metadata": {},
   "source": [
    "E ancora, tentativo di trasformare in intero una stringa che contiene caratteri non numerici."
   ]
  },
  {
   "cell_type": "code",
   "execution_count": 3,
   "metadata": {},
   "outputs": [
    {
     "ename": "ValueError",
     "evalue": "invalid literal for int() with base 10: '23j'",
     "output_type": "error",
     "traceback": [
      "\u001b[0;31m---------------------------------------------------------------------------\u001b[0m",
      "\u001b[0;31mValueError\u001b[0m                                Traceback (most recent call last)",
      "Cell \u001b[0;32mIn[3], line 1\u001b[0m\n\u001b[0;32m----> 1\u001b[0m \u001b[38;5;28;43mint\u001b[39;49m\u001b[43m(\u001b[49m\u001b[38;5;124;43m\"\u001b[39;49m\u001b[38;5;124;43m23j\u001b[39;49m\u001b[38;5;124;43m\"\u001b[39;49m\u001b[43m)\u001b[49m\n",
      "\u001b[0;31mValueError\u001b[0m: invalid literal for int() with base 10: '23j'"
     ]
    }
   ],
   "source": [
    "int(\"23j\")"
   ]
  },
  {
   "cell_type": "markdown",
   "metadata": {},
   "source": [
    "I vari tipi di errori fanno parte di una gerarchia.\n",
    "\n"
   ]
  },
  {
   "cell_type": "markdown",
   "metadata": {},
   "source": [
    "## Creare e sollevare eccezioni"
   ]
  },
  {
   "cell_type": "markdown",
   "metadata": {},
   "source": [
    "In realtà, quello che noi chiamiamo errore è più corretto chiamare `eccezione`. Una eccezione è un oggetto di Python che contiene le informazioni relative ad un errore che si è verificato. Ad esempio, la seguente riga crea un eccezione per un errore di tipo `ValueError` con messaggio `qui c'è un problema`."
   ]
  },
  {
   "cell_type": "code",
   "execution_count": 4,
   "metadata": {},
   "outputs": [],
   "source": [
    "e = ValueError(\"qui c'è un problema\")"
   ]
  },
  {
   "cell_type": "markdown",
   "metadata": {},
   "source": [
    "Creare una eccezione non genera nessun errore, si tratta semplicemente di un tipo Python come un altro. Possiamo ad esempio vederne il contenuto."
   ]
  },
  {
   "cell_type": "code",
   "execution_count": 5,
   "metadata": {},
   "outputs": [
    {
     "data": {
      "text/plain": [
       "ValueError(\"qui c'è un problema\")"
      ]
     },
     "execution_count": 5,
     "metadata": {},
     "output_type": "execute_result"
    }
   ],
   "source": [
    "e"
   ]
  },
  {
   "cell_type": "markdown",
   "metadata": {},
   "source": [
    "Tuttavia, l'istruzione `raise` di Python ci consente di **sollevare** una eccezione, ovvero generare un errore con il contenuto della eccezione. Vediamo che l'errore che viene visualizzato è di tipo `ValueErroe` e messaggio `qui c'è un problema`, esattamente quelli dell'eccezione generata."
   ]
  },
  {
   "cell_type": "code",
   "execution_count": 6,
   "metadata": {},
   "outputs": [
    {
     "ename": "ValueError",
     "evalue": "qui c'è un problema",
     "output_type": "error",
     "traceback": [
      "\u001b[0;31m---------------------------------------------------------------------------\u001b[0m",
      "\u001b[0;31mValueError\u001b[0m                                Traceback (most recent call last)",
      "Cell \u001b[0;32mIn[6], line 1\u001b[0m\n\u001b[0;32m----> 1\u001b[0m \u001b[38;5;28;01mraise\u001b[39;00m e\n",
      "\u001b[0;31mValueError\u001b[0m: qui c'è un problema"
     ]
    }
   ],
   "source": [
    "raise e"
   ]
  },
  {
   "cell_type": "markdown",
   "metadata": {},
   "source": [
    "Quando una eccezione viene sollevata, il resto del programma non viene eseguito. Ad esempio, nel codice qui sotto, l'istruzione `print(\"sono gianluca\")` non viene eseguita. Notare che il notebool si accorge di questo fatto, e visualizza la riga in maniera sbiadita."
   ]
  },
  {
   "cell_type": "code",
   "execution_count": 7,
   "metadata": {},
   "outputs": [
    {
     "name": "stdout",
     "output_type": "stream",
     "text": [
      "ciao\n"
     ]
    },
    {
     "ename": "ArithmeticError",
     "evalue": "prova errore",
     "output_type": "error",
     "traceback": [
      "\u001b[0;31m---------------------------------------------------------------------------\u001b[0m",
      "\u001b[0;31mArithmeticError\u001b[0m                           Traceback (most recent call last)",
      "Cell \u001b[0;32mIn[7], line 2\u001b[0m\n\u001b[1;32m      1\u001b[0m \u001b[38;5;28mprint\u001b[39m(\u001b[38;5;124m\"\u001b[39m\u001b[38;5;124mciao\u001b[39m\u001b[38;5;124m\"\u001b[39m)\n\u001b[0;32m----> 2\u001b[0m \u001b[38;5;28;01mraise\u001b[39;00m \u001b[38;5;167;01mArithmeticError\u001b[39;00m(\u001b[38;5;124m\"\u001b[39m\u001b[38;5;124mprova errore\u001b[39m\u001b[38;5;124m\"\u001b[39m)\n\u001b[1;32m      3\u001b[0m \u001b[38;5;28mprint\u001b[39m(\u001b[38;5;124m\"\u001b[39m\u001b[38;5;124msono gianluca\u001b[39m\u001b[38;5;124m\"\u001b[39m)\n",
      "\u001b[0;31mArithmeticError\u001b[0m: prova errore"
     ]
    }
   ],
   "source": [
    "print(\"ciao\")\n",
    "raise ArithmeticError(\"prova errore\")\n",
    "print(\"sono gianluca\")"
   ]
  },
  {
   "cell_type": "markdown",
   "metadata": {},
   "source": [
    "## Cattura delle eccezioni"
   ]
  },
  {
   "cell_type": "markdown",
   "metadata": {},
   "source": [
    "È possibile *catturare* una eccezione, ovvero far sì che, qualora essa si verifichi, non venga interrotto un programma, ma venga eseguito un pezzo di codice stabilito da voi. Si utilizza a tal scopo l'istruzione `try ... except`. Nel seguente programma, se si verifica una eccezione di tipo `ValueError`, il programma stampa un messaggio di errore personalizzato. Notare che, una volta che una eccezione viene catturata, non causa più l'interruzione del programma. Pertanto la scritta `ciao` viene stampata in ogni caso, sia in caso di immissione di numero intero, sia in caso di stringa non convertibile in intero."
   ]
  },
  {
   "cell_type": "code",
   "execution_count": 8,
   "metadata": {},
   "outputs": [
    {
     "name": "stdout",
     "output_type": "stream",
     "text": [
      "Ti ho detto che devi inserire un numero INTERO!!!!\n",
      "ciao\n"
     ]
    }
   ],
   "source": [
    "try:\n",
    "  x = int(input(\"immetti un numero intero: \"))\n",
    "  print(\"Il doppio del numero immesso è:\", 2*x)\n",
    "except ValueError:\n",
    "  print(\"Ti ho detto che devi inserire un numero INTERO!!!!\")\n",
    "print(\"ciao\")"
   ]
  },
  {
   "cell_type": "markdown",
   "metadata": {},
   "source": [
    "Possiamo sfruttare l'istruzione `try` per scrivere una funzione che chiede all'utente di inserire un numero intero, e lo chiede ripetutamente finché l'utente non inserisce effettivamente un intero. Trovate il codice ne file `programma_231222_1_inputintero.py`."
   ]
  },
  {
   "cell_type": "markdown",
   "metadata": {},
   "source": [
    "È possibile catturare anche più eccezioni, inserendo clausole `execpt` multiple. Nel seguente programma, viene visualizzato il messaggio `è un erorre di tipo value`, ma se si cambia l'istruzione `x = int(\"3f\")` con una istruzione che causa la divisione per zero, verrà visualizzato in messaggio `non lo sai che non si può dividere per 0 ?` In entrambi i casi, il programma non termina subito, e viene quindi sempre visualizzata la stringa `Tutto OK`."
   ]
  },
  {
   "cell_type": "code",
   "execution_count": 9,
   "metadata": {},
   "outputs": [
    {
     "name": "stdout",
     "output_type": "stream",
     "text": [
      "Inizio\n",
      "è un errore di tipo value\n",
      "Tutto OK\n"
     ]
    }
   ],
   "source": [
    "try:\n",
    "    print(\"Inizio\")\n",
    "    x = int(\"3f\")\n",
    "    print(\"Fine\")\n",
    "except ValueError:\n",
    "    print(\"è un errore di tipo value\")\n",
    "except ZeroDivisionError:\n",
    "    print(\"non lo sai che non si può dividere per 0 ?\")\n",
    "print(\"Tutto OK\")"
   ]
  },
  {
   "cell_type": "markdown",
   "metadata": {},
   "source": [
    "### Esempio: eccezioni e gestione dei file"
   ]
  },
  {
   "cell_type": "markdown",
   "metadata": {},
   "source": [
    "Riprendiamo il programma della lezione precedente che legge una serie di numero da un file di testo e li somma. Nel programma originale, che riporto qui sotto, se qualche riga del file di input non è convertibile in numero si genera un eccezione e il programma termina."
   ]
  },
  {
   "cell_type": "code",
   "execution_count": 10,
   "metadata": {},
   "outputs": [
    {
     "ename": "ValueError",
     "evalue": "invalid literal for int() with base 10: 'ciao\\n'",
     "output_type": "error",
     "traceback": [
      "\u001b[0;31m---------------------------------------------------------------------------\u001b[0m",
      "\u001b[0;31mValueError\u001b[0m                                Traceback (most recent call last)",
      "Cell \u001b[0;32mIn[10], line 5\u001b[0m\n\u001b[1;32m      2\u001b[0m \u001b[38;5;28msum\u001b[39m \u001b[38;5;241m=\u001b[39m \u001b[38;5;241m0\u001b[39m\n\u001b[1;32m      3\u001b[0m \u001b[38;5;28;01mfor\u001b[39;00m linea \u001b[38;5;129;01min\u001b[39;00m f:\n\u001b[1;32m      4\u001b[0m     \u001b[38;5;66;03m# faccio qualcosa\u001b[39;00m\n\u001b[0;32m----> 5\u001b[0m     \u001b[38;5;28msum\u001b[39m \u001b[38;5;241m+\u001b[39m\u001b[38;5;241m=\u001b[39m \u001b[38;5;28;43mint\u001b[39;49m\u001b[43m(\u001b[49m\u001b[43mlinea\u001b[49m\u001b[43m)\u001b[49m\n\u001b[1;32m      6\u001b[0m \u001b[38;5;28mprint\u001b[39m(\u001b[38;5;28msum\u001b[39m)\n\u001b[1;32m      7\u001b[0m f\u001b[38;5;241m.\u001b[39mclose()\n",
      "\u001b[0;31mValueError\u001b[0m: invalid literal for int() with base 10: 'ciao\\n'"
     ]
    }
   ],
   "source": [
    "f = open(\"input4.txt\", \"r\")\n",
    "sum = 0\n",
    "for linea in f:\n",
    "    # faccio qualcosa\n",
    "    sum += int(linea)\n",
    "print(sum)\n",
    "f.close()"
   ]
  },
  {
   "cell_type": "markdown",
   "metadata": {},
   "source": [
    "Vogliamo evitare che questo succeda, e ignorare completamente le righe che contengono valori non numerici."
   ]
  },
  {
   "cell_type": "code",
   "execution_count": 12,
   "metadata": {},
   "outputs": [
    {
     "name": "stdout",
     "output_type": "stream",
     "text": [
      "24\n"
     ]
    }
   ],
   "source": [
    "f = open(\"input4.txt\", \"r\")\n",
    "sum = 0\n",
    "for linea in f:\n",
    "    try:\n",
    "        # La parte che può causare errori la metto dentro la clausola try\n",
    "        sum += int(linea)\n",
    "    except ValueError:\n",
    "        # Se si verifica una eccezione, non faccio assolutamente nulla. Mi basta catturarla\n",
    "        # perché non si verifichi un errore e la linea venga ignorata. Notare che siccome una\n",
    "        # istruzione in ogni suite è obbligatoria, metto l'istruzione pass che è una istruzione\n",
    "        # che non fa assolutamente nulla.\n",
    "        pass\n",
    "print(sum)\n",
    "f.close()"
   ]
  },
  {
   "cell_type": "markdown",
   "metadata": {},
   "source": [
    "## Try...finally"
   ]
  },
  {
   "cell_type": "markdown",
   "metadata": {},
   "source": [
    "Dopo l'istruzione `try` è possibile utilizzare la clausola `finally` invece di except. Con la clausola `finally` le eccezion non vengono catturate, ma sia che l'esecuzione del `try` vada a buon fine, sia che si generi una eccezione, è assicurato il fatto che il codice nella clausola `finally` venga eseguito. Nel programma che segue, in cui non si verifica alcuna eccezione, viene stampato `Clausola finally`."
   ]
  },
  {
   "cell_type": "code",
   "execution_count": 13,
   "metadata": {},
   "outputs": [
    {
     "name": "stdout",
     "output_type": "stream",
     "text": [
      "Inizio\n",
      "Fine\n",
      "Clausola finally\n",
      "Tutto OK\n"
     ]
    }
   ],
   "source": [
    "# Caso senza nessun errore\n",
    "try:\n",
    "    print(\"Inizio\")\n",
    "    x = 4\n",
    "    print(\"Fine\")\n",
    "finally:\n",
    "    print(\"Clausola finally\")\n",
    "print(\"Tutto OK\")"
   ]
  },
  {
   "cell_type": "code",
   "execution_count": 14,
   "metadata": {},
   "outputs": [
    {
     "name": "stdout",
     "output_type": "stream",
     "text": [
      "Inizio\n",
      "Clausola finally\n"
     ]
    },
    {
     "ename": "ZeroDivisionError",
     "evalue": "division by zero",
     "output_type": "error",
     "traceback": [
      "\u001b[0;31m---------------------------------------------------------------------------\u001b[0m",
      "\u001b[0;31mZeroDivisionError\u001b[0m                         Traceback (most recent call last)",
      "Cell \u001b[0;32mIn[14], line 4\u001b[0m\n\u001b[1;32m      2\u001b[0m \u001b[38;5;28;01mtry\u001b[39;00m:\n\u001b[1;32m      3\u001b[0m     \u001b[38;5;28mprint\u001b[39m(\u001b[38;5;124m\"\u001b[39m\u001b[38;5;124mInizio\u001b[39m\u001b[38;5;124m\"\u001b[39m)\n\u001b[0;32m----> 4\u001b[0m     x \u001b[38;5;241m=\u001b[39m \u001b[38;5;241;43m1\u001b[39;49m\u001b[38;5;241;43m/\u001b[39;49m\u001b[38;5;241;43m0\u001b[39;49m\n\u001b[1;32m      5\u001b[0m     \u001b[38;5;28mprint\u001b[39m(\u001b[38;5;124m\"\u001b[39m\u001b[38;5;124mFine\u001b[39m\u001b[38;5;124m\"\u001b[39m)\n\u001b[1;32m      6\u001b[0m \u001b[38;5;28;01mfinally\u001b[39;00m:\n",
      "\u001b[0;31mZeroDivisionError\u001b[0m: division by zero"
     ]
    }
   ],
   "source": [
    "# Caso con divisione per zero\n",
    "try:\n",
    "    print(\"Inizio\")\n",
    "    x = 1/0\n",
    "    print(\"Fine\")\n",
    "finally:\n",
    "    print(\"Clausola finally\")\n",
    "print(\"Tutto OK\")"
   ]
  },
  {
   "cell_type": "markdown",
   "metadata": {},
   "source": [
    "In geneale, nei liguaggi che hanno l'istruzione `try...finally`, uno dei suoi utilizzi principali è far sì che eventuali risorse chieste al sistema operativo vengano rilasciate quando non servono più, anche se si è verificato un errore. Ad esempio, nel seguente programma il file `input4.txt` viene chiuso anche se si è verificato un errore durante la sua elaborazione."
   ]
  },
  {
   "cell_type": "code",
   "execution_count": 15,
   "metadata": {},
   "outputs": [
    {
     "ename": "ValueError",
     "evalue": "invalid literal for int() with base 10: 'ciao\\n'",
     "output_type": "error",
     "traceback": [
      "\u001b[0;31m---------------------------------------------------------------------------\u001b[0m",
      "\u001b[0;31mValueError\u001b[0m                                Traceback (most recent call last)",
      "Cell \u001b[0;32mIn[15], line 4\u001b[0m\n\u001b[1;32m      2\u001b[0m \u001b[38;5;28;01mtry\u001b[39;00m:\n\u001b[1;32m      3\u001b[0m     \u001b[38;5;28;01mfor\u001b[39;00m linea \u001b[38;5;129;01min\u001b[39;00m f:\n\u001b[0;32m----> 4\u001b[0m         \u001b[38;5;28msum\u001b[39m \u001b[38;5;241m+\u001b[39m\u001b[38;5;241m=\u001b[39m \u001b[38;5;28;43mint\u001b[39;49m\u001b[43m(\u001b[49m\u001b[43mlinea\u001b[49m\u001b[43m)\u001b[49m\n\u001b[1;32m      5\u001b[0m     \u001b[38;5;28mprint\u001b[39m(\u001b[38;5;28msum\u001b[39m)\n\u001b[1;32m      6\u001b[0m \u001b[38;5;28;01mfinally\u001b[39;00m:\n",
      "\u001b[0;31mValueError\u001b[0m: invalid literal for int() with base 10: 'ciao\\n'"
     ]
    }
   ],
   "source": [
    "f = open(\"input4.txt\")\n",
    "try:\n",
    "    for linea in f:\n",
    "        sum += int(linea)\n",
    "    print(sum)\n",
    "finally:\n",
    "    f.close()"
   ]
  },
  {
   "cell_type": "markdown",
   "metadata": {},
   "source": [
    "In realtà, in Python questo utilizzo non è molto comune, perché l'istruzione `with` vista la lezione scorsa si occupa già di chiudere i file sia in caso di esecuzione normale sia in caso di errore. Il precedente codice sarebbe molto più comunemente scritto in Python come segue:"
   ]
  },
  {
   "cell_type": "code",
   "execution_count": 16,
   "metadata": {},
   "outputs": [
    {
     "ename": "ValueError",
     "evalue": "invalid literal for int() with base 10: 'ciao\\n'",
     "output_type": "error",
     "traceback": [
      "\u001b[0;31m---------------------------------------------------------------------------\u001b[0m",
      "\u001b[0;31mValueError\u001b[0m                                Traceback (most recent call last)",
      "Cell \u001b[0;32mIn[16], line 3\u001b[0m\n\u001b[1;32m      1\u001b[0m \u001b[38;5;28;01mwith\u001b[39;00m \u001b[38;5;28mopen\u001b[39m(\u001b[38;5;124m\"\u001b[39m\u001b[38;5;124minput4.txt\u001b[39m\u001b[38;5;124m\"\u001b[39m) \u001b[38;5;28;01mas\u001b[39;00m f:\n\u001b[1;32m      2\u001b[0m     \u001b[38;5;28;01mfor\u001b[39;00m linea \u001b[38;5;129;01min\u001b[39;00m f:\n\u001b[0;32m----> 3\u001b[0m         \u001b[38;5;28msum\u001b[39m \u001b[38;5;241m+\u001b[39m\u001b[38;5;241m=\u001b[39m \u001b[38;5;28;43mint\u001b[39;49m\u001b[43m(\u001b[49m\u001b[43mlinea\u001b[49m\u001b[43m)\u001b[49m\n\u001b[1;32m      4\u001b[0m     \u001b[38;5;28mprint\u001b[39m(\u001b[38;5;28msum\u001b[39m)\n",
      "\u001b[0;31mValueError\u001b[0m: invalid literal for int() with base 10: 'ciao\\n'"
     ]
    }
   ],
   "source": [
    "with open(\"input4.txt\") as f:\n",
    "    for linea in f:\n",
    "        sum += int(linea)\n",
    "    print(sum)"
   ]
  },
  {
   "cell_type": "markdown",
   "metadata": {},
   "source": [
    "# Ancora sul passaggio di parametri alle funzioni"
   ]
  },
  {
   "cell_type": "markdown",
   "metadata": {},
   "source": [
    "## Argomenti passati per parola chiave"
   ]
  },
  {
   "cell_type": "markdown",
   "metadata": {},
   "source": [
    "Consideriamo la seguente funzione con parametri `a` e `b`."
   ]
  },
  {
   "cell_type": "code",
   "execution_count": 17,
   "metadata": {},
   "outputs": [],
   "source": [
    "def funzione(a, b):\n",
    "    x = a - b\n",
    "    return x"
   ]
  },
  {
   "cell_type": "markdown",
   "metadata": {},
   "source": [
    "Abbiamo che quando chiamiamo una funzione dobbiamo fornire degli argomenti che verranno assegnati ai parametri `a` e `b`. Nel seguente esempio, `5` viene assegnato ad `a`  e `4` a `b`."
   ]
  },
  {
   "cell_type": "code",
   "execution_count": 18,
   "metadata": {},
   "outputs": [
    {
     "data": {
      "text/plain": [
       "1"
      ]
     },
     "execution_count": 18,
     "metadata": {},
     "output_type": "execute_result"
    }
   ],
   "source": [
    "funzione(5, 4)"
   ]
  },
  {
   "cell_type": "markdown",
   "metadata": {},
   "source": [
    "Chiaramente l'ordine degli argomenti è importante. Nel caso che segue, `4` viene assegnato ad `a` e `5` a `b`."
   ]
  },
  {
   "cell_type": "code",
   "execution_count": 19,
   "metadata": {},
   "outputs": [
    {
     "data": {
      "text/plain": [
       "-1"
      ]
     },
     "execution_count": 19,
     "metadata": {},
     "output_type": "execute_result"
    }
   ],
   "source": [
    "funzione(4, 5)"
   ]
  },
  {
   "cell_type": "markdown",
   "metadata": {},
   "source": [
    "Tuttavia c'è un altro modo di legare i parameti e gli argomenti, fornendo direttamente al momento della chiamata della funzione. Nella seguente istruzione, `5` viene assegnato al parametro `a` e `4` al parametro `b` non per il loro ordine, ma perché la corrispondenza è fornita esplicitamente."
   ]
  },
  {
   "cell_type": "code",
   "execution_count": 20,
   "metadata": {},
   "outputs": [
    {
     "data": {
      "text/plain": [
       "1"
      ]
     },
     "execution_count": 20,
     "metadata": {},
     "output_type": "execute_result"
    }
   ],
   "source": [
    "funzione(a=5, b=4)"
   ]
  },
  {
   "cell_type": "markdown",
   "metadata": {},
   "source": [
    "Pertanto, se modifichiamo l'ordine degli argomenti forniti per norme, il risultato non cambia:  `5` viene sempre assegnato al parametro `a` e `4` sempre al parametro `b`."
   ]
  },
  {
   "cell_type": "code",
   "execution_count": 21,
   "metadata": {},
   "outputs": [
    {
     "data": {
      "text/plain": [
       "1"
      ]
     },
     "execution_count": 21,
     "metadata": {},
     "output_type": "execute_result"
    }
   ],
   "source": [
    "funzione(b=4, a=5)"
   ]
  },
  {
   "cell_type": "markdown",
   "metadata": {},
   "source": [
    "Quando gli aegomenti vengono passati tramite il nome si parla di *argomenti con parola chiave* (o, in inglese, *keyword arguments*), mentre gli argomenti passati in maniera tradizionale tramite posizione prendono il nome di *argomenti posizionali* (o, in inglese, *positional arguments*)."
   ]
  },
  {
   "cell_type": "markdown",
   "metadata": {},
   "source": [
    "È possibile mischiare entramb i tipi di argomenti, ma gli argomenti posizionali devono precedere quelli per parole chiave."
   ]
  },
  {
   "cell_type": "code",
   "execution_count": 41,
   "metadata": {},
   "outputs": [
    {
     "data": {
      "text/plain": [
       "1"
      ]
     },
     "execution_count": 41,
     "metadata": {},
     "output_type": "execute_result"
    }
   ],
   "source": [
    "funzione(5, b=4)"
   ]
  },
  {
   "cell_type": "code",
   "execution_count": 42,
   "metadata": {},
   "outputs": [
    {
     "ename": "SyntaxError",
     "evalue": "positional argument follows keyword argument (1164598860.py, line 1)",
     "output_type": "error",
     "traceback": [
      "\u001b[0;36m  Cell \u001b[0;32mIn[42], line 1\u001b[0;36m\u001b[0m\n\u001b[0;31m    funzione(b=4, 5)\u001b[0m\n\u001b[0m                   ^\u001b[0m\n\u001b[0;31mSyntaxError\u001b[0m\u001b[0;31m:\u001b[0m positional argument follows keyword argument\n"
     ]
    }
   ],
   "source": [
    "funzione(b=4, 5)"
   ]
  },
  {
   "cell_type": "markdown",
   "metadata": {},
   "source": [
    "## Parametri con valori di  default"
   ]
  },
  {
   "cell_type": "markdown",
   "metadata": {},
   "source": [
    "Supponiamo di voler scrivere una funzione `somma_potenze(l, n)` che calcola la somma delle potenza n-esime dei numeri presenti nella lista `l`. Per esempio, se `l = [1, 4, 3]` ed `n = 2`, il risultato deve essere $1^2 + 4^2 + 3^2 = 26$. Questo è il codice."
   ]
  },
  {
   "cell_type": "code",
   "execution_count": 22,
   "metadata": {},
   "outputs": [],
   "source": [
    "def somma_potenze(l, n):\n",
    "    \"\"\"\n",
    "    Calcola la somma degli elementi della lista l elevati all'esponente n.\n",
    "    \"\"\"\n",
    "    sum = 0\n",
    "    for x in l:\n",
    "        sum += x ** n\n",
    "    return sum"
   ]
  },
  {
   "cell_type": "code",
   "execution_count": 23,
   "metadata": {},
   "outputs": [
    {
     "data": {
      "text/plain": [
       "26"
      ]
     },
     "execution_count": 23,
     "metadata": {},
     "output_type": "execute_result"
    }
   ],
   "source": [
    "somma_potenze([1, 4, 3], 2)"
   ]
  },
  {
   "cell_type": "markdown",
   "metadata": {},
   "source": [
    "È moto probabile che l'utilizzo principale di questa funzione sia con `n=1`, per calcolare semplicemente la somma degli elementi di `l`. Per semplificare la vita al programmatore, potremmo scrivere una nuova funzione, chiamiamola `somma`, che richiama `somma_potenze` col corretto valore di `n`. "
   ]
  },
  {
   "cell_type": "code",
   "execution_count": 24,
   "metadata": {},
   "outputs": [],
   "source": [
    "def somma(l):\n",
    "    return somma_potenze(l, 1)"
   ]
  },
  {
   "cell_type": "code",
   "execution_count": 25,
   "metadata": {},
   "outputs": [
    {
     "data": {
      "text/plain": [
       "8"
      ]
     },
     "execution_count": 25,
     "metadata": {},
     "output_type": "execute_result"
    }
   ],
   "source": [
    "somma([1, 4, 3])"
   ]
  },
  {
   "cell_type": "markdown",
   "metadata": {},
   "source": [
    "Tuttavia, una alternativa è far sì che il programmatore continui ad usare `somma_potenze`, ma che il parametro `n` sia facoltativo. Per far ciò, occorre fornire un valore di *default* che viene utilizzato se chi chiama la funzione non fornisce una valore per `n`. Il valore di default lo si specifica indicandolo subito dopo il nome del parametro nella intestazione della funzione."
   ]
  },
  {
   "cell_type": "code",
   "execution_count": 26,
   "metadata": {},
   "outputs": [],
   "source": [
    "def somma_potenze(l, n = 1):  # è stato specificato il valore di default 1 per il parametro n\n",
    "    \"\"\"\n",
    "    Calcola la somma degli elementi della lista l elevati all'esponente n.\n",
    "    \"\"\"\n",
    "    sum = 0\n",
    "    for x in l:\n",
    "        sum += x ** n\n",
    "    return sum"
   ]
  },
  {
   "cell_type": "markdown",
   "metadata": {},
   "source": [
    "A questo punto posso chiamare `somma_potenze` con due parametri"
   ]
  },
  {
   "cell_type": "code",
   "execution_count": 27,
   "metadata": {},
   "outputs": [
    {
     "data": {
      "text/plain": [
       "26"
      ]
     },
     "execution_count": 27,
     "metadata": {},
     "output_type": "execute_result"
    }
   ],
   "source": [
    "somma_potenze([1, 4, 3], 2)"
   ]
  },
  {
   "cell_type": "markdown",
   "metadata": {},
   "source": [
    "o con un solo parametro, nel qual caso è come specificare `1` come secondo."
   ]
  },
  {
   "cell_type": "code",
   "execution_count": 28,
   "metadata": {},
   "outputs": [
    {
     "data": {
      "text/plain": [
       "8"
      ]
     },
     "execution_count": 28,
     "metadata": {},
     "output_type": "execute_result"
    }
   ],
   "source": [
    "somma_potenze([1, 4, 3])"
   ]
  },
  {
   "cell_type": "markdown",
   "metadata": {},
   "source": [
    "## Valori di default calcolati"
   ]
  },
  {
   "cell_type": "markdown",
   "metadata": {},
   "source": [
    "Un caso abbastanza comune di questo utilizzo è per le funzioni ausiliarie ricorsive. Questo qui sotto è il codice di `palindroma_ricorsiva_aux` tratto dalla lezione del 14 febbrario. Per evitare la continua creazione di sotto-stringhe, questa funzione ha due parametri `first` e `last` che determinano quale pezzo della stringa di input si vuole determinare se è palindroma. Questi parametri servono quasi esclusivamente per la chiamata ricorsiva, normalmente chi chiama questa funzione vuole sapere se una certa string è palindroma o no, non se è palindroma una sottostringa. Per rendere più facile l'utilizzo della funzione, la scorsa lezione abbiamo accompagnato alla funzione ricorsiva una funzione di interfaccia che prende come solo parametro la stringa da controllare, e richiama `palindroma_ricorsiva_aux` con gli argomenti `first` e `last` corretti."
   ]
  },
  {
   "cell_type": "code",
   "execution_count": 29,
   "metadata": {},
   "outputs": [],
   "source": [
    "def palindroma_ricorsiva_aux(s, first, last):\n",
    "    \"\"\"\n",
    "    Restituisce True se la parte di str compresta tra la posizione first e la posizione\n",
    "    last è palindroma, False altrimenti. Se first > last si intende che la parte\n",
    "    compresa tra first e last è vuota.\n",
    "    \"\"\"\n",
    "    if last <= first:          # caso base, la sottostringa che ci interessa ha lunghezza 0 oppure 1\n",
    "        return True\n",
    "    elif str[first] != str[last]:  # casi ricorsivi\n",
    "        return False\n",
    "    else:\n",
    "        # invece di richiamare \"palindroma_ricorsiva_aux\" su una porzione di \"s\" la\n",
    "        # richiamiamo su \"s\" stessa, ma restingiamo la finestra di osservazione eliminando\n",
    "        # il carattere in posizione \"first\" e quello in posizione \"last\"\n",
    "        return palindroma_ricorsiva_aux(str, first+1, last-1)\n",
    "\n",
    "def palindroma_ricorsiva(str):\n",
    "    # richiamo la funzione palindroma_ricorsiva_aux con i valori opportuni\n",
    "    return palindroma_ricorsiva_aux(s, 0, len(s)-1)"
   ]
  },
  {
   "cell_type": "code",
   "execution_count": 44,
   "metadata": {},
   "outputs": [
    {
     "data": {
      "text/plain": [
       "False"
      ]
     },
     "execution_count": 44,
     "metadata": {},
     "output_type": "execute_result"
    }
   ],
   "source": [
    "palindroma_ricorsiva(\"pippo\")"
   ]
  },
  {
   "cell_type": "code",
   "execution_count": 45,
   "metadata": {},
   "outputs": [
    {
     "data": {
      "text/plain": [
       "True"
      ]
     },
     "execution_count": 45,
     "metadata": {},
     "output_type": "execute_result"
    }
   ],
   "source": [
    "palindroma_ricorsiva(\"osso\")"
   ]
  },
  {
   "cell_type": "markdown",
   "metadata": {},
   "source": [
    "Una alternativa è però utilizzare una sola funzione, ma specificare dei valori di default per i parametri `first` e `last`. La cosa però non è così semplice perché il valore di parametro di default per `first` è 0, ma quello di default per 'last` dovrebbe essere la lunghezza della stringa in input meno 1. Purtroppo, in Python non è ammesso che il valore di default di un parametro dipenda da un altro."
   ]
  },
  {
   "cell_type": "code",
   "execution_count": 33,
   "metadata": {},
   "outputs": [
    {
     "ename": "NameError",
     "evalue": "name 's' is not defined",
     "output_type": "error",
     "traceback": [
      "\u001b[0;31m---------------------------------------------------------------------------\u001b[0m",
      "\u001b[0;31mNameError\u001b[0m                                 Traceback (most recent call last)",
      "Cell \u001b[0;32mIn[33], line 1\u001b[0m\n\u001b[0;32m----> 1\u001b[0m \u001b[38;5;28;01mdef\u001b[39;00m \u001b[38;5;21mpalindroma_ricorsiva2\u001b[39m(s, first\u001b[38;5;241m=\u001b[39m\u001b[38;5;241m0\u001b[39m, last \u001b[38;5;241m=\u001b[39m \u001b[38;5;28mlen\u001b[39m(\u001b[43ms\u001b[49m)\u001b[38;5;241m-\u001b[39m\u001b[38;5;241m1\u001b[39m):\n\u001b[1;32m      2\u001b[0m     \u001b[38;5;66;03m# per ora metto un pass perché mi interessa solo far vedere che in last non\u001b[39;00m\n\u001b[1;32m      3\u001b[0m     \u001b[38;5;66;03m# mi posso riferire ad s\u001b[39;00m\n\u001b[1;32m      4\u001b[0m     \u001b[38;5;28;01mpass\u001b[39;00m\n",
      "\u001b[0;31mNameError\u001b[0m: name 's' is not defined"
     ]
    }
   ],
   "source": [
    "def palindroma_ricorsiva2(s, first=0, last = len(s)-1):\n",
    "    # per ora metto un pass perché mi interessa solo far vedere che in last non\n",
    "    # mi posso riferire ad s\n",
    "    pass"
   ]
  },
  {
   "cell_type": "markdown",
   "metadata": {},
   "source": [
    "La soluzione standard a questo problema è usare il valore `None` come default per `last`, e all'interno della funzione controllare che se il valore è `None` va rimpiazzato con il valore opportuno."
   ]
  },
  {
   "cell_type": "code",
   "execution_count": 34,
   "metadata": {},
   "outputs": [],
   "source": [
    "def palindroma_ricorsiva2(s, first=0, last = None):\n",
    "    if last == None:\n",
    "        last = len(s) - 1\n",
    "    # continua il codice della funzione"
   ]
  },
  {
   "cell_type": "markdown",
   "metadata": {},
   "source": [
    "Adottando quindi questa soluzione otteniamo:"
   ]
  },
  {
   "cell_type": "code",
   "execution_count": 37,
   "metadata": {},
   "outputs": [],
   "source": [
    "def palindroma_ricorsiva2(s, first=0, last=None):\n",
    "    \"\"\"\n",
    "    Restituisce True se la parte di s compresta tra la posizione first e la posizione\n",
    "    last è palindroma, False altrimenti. Se first > last si intende che la parte\n",
    "    compresa tra first e last è vuota.\n",
    "    \"\"\"\n",
    "    if last == None:\n",
    "        last = len(s) - 1\n",
    "    if last <= first:          # caso base, la sottostringa che ci interessa ha lunghezza 0 oppure 1\n",
    "        return True\n",
    "    elif s[first] != s[last]:  # casi ricorsivi\n",
    "        return False\n",
    "    else:\n",
    "        # invece di richiamare \"palindroma_ricorsiva_aux\" su una porzione di \"s\" la\n",
    "        # richiamiamo su \"s\" stessa, ma restingiamo la finestra di osservazione eliminando\n",
    "        # il carattere in posizione \"first\" e quello in posizione \"last\"\n",
    "        return palindroma_ricorsiva2(s, first+1,last-1)"
   ]
  },
  {
   "cell_type": "code",
   "execution_count": 38,
   "metadata": {},
   "outputs": [
    {
     "data": {
      "text/plain": [
       "False"
      ]
     },
     "execution_count": 38,
     "metadata": {},
     "output_type": "execute_result"
    }
   ],
   "source": [
    "palindroma_ricorsiva2(\"pippo\")"
   ]
  },
  {
   "cell_type": "code",
   "execution_count": 39,
   "metadata": {},
   "outputs": [
    {
     "data": {
      "text/plain": [
       "True"
      ]
     },
     "execution_count": 39,
     "metadata": {},
     "output_type": "execute_result"
    }
   ],
   "source": [
    "palindroma_ricorsiva2(\"osso\")"
   ]
  },
  {
   "cell_type": "markdown",
   "metadata": {},
   "source": [
    "## Parametri di default e funzioni predefinite"
   ]
  },
  {
   "cell_type": "markdown",
   "metadata": {},
   "source": [
    "L'uso dei parametri di default è molto usato tra le funzioni predefinite. Ad esempio, la funzione  `round` ha un parametro `ndigits` che vale `None` come default. Se il parametro non è specificato, la funzione `round` arrotonda il primo parametro all'intero più vicino, e restituisce un valore intero. Altimenti, il numero sarà arrotondato preservando `ndigits` cifre decimali e il risultato sarà di tipo `float`."
   ]
  },
  {
   "cell_type": "code",
   "execution_count": 33,
   "metadata": {},
   "outputs": [
    {
     "data": {
      "text/plain": [
       "4"
      ]
     },
     "execution_count": 33,
     "metadata": {},
     "output_type": "execute_result"
    }
   ],
   "source": [
    "round(4.47383)"
   ]
  },
  {
   "cell_type": "code",
   "execution_count": 34,
   "metadata": {},
   "outputs": [
    {
     "data": {
      "text/plain": [
       "4.47"
      ]
     },
     "execution_count": 34,
     "metadata": {},
     "output_type": "execute_result"
    }
   ],
   "source": [
    "round(4.47383, 2)"
   ]
  },
  {
   "cell_type": "markdown",
   "metadata": {},
   "source": [
    "Si può scoprire quali sono i parametri di default di una funzione usando `help`."
   ]
  },
  {
   "cell_type": "code",
   "execution_count": 32,
   "metadata": {},
   "outputs": [
    {
     "name": "stdout",
     "output_type": "stream",
     "text": [
      "Help on built-in function round in module builtins:\n",
      "\n",
      "round(number, ndigits=None)\n",
      "    Round a number to a given precision in decimal digits.\n",
      "\n",
      "    The return value is an integer if ndigits is omitted or None.  Otherwise\n",
      "    the return value has the same type as the number.  ndigits may be negative.\n",
      "\n"
     ]
    }
   ],
   "source": [
    "help(round)"
   ]
  },
  {
   "cell_type": "markdown",
   "metadata": {},
   "source": [
    "## Combinare parametri di default e argomenti con parola chiave"
   ]
  },
  {
   "cell_type": "markdown",
   "metadata": {},
   "source": [
    "Infine, è possibile combinare i parametri di default e gli argomenti con parole chiavi. Ad esempio:"
   ]
  },
  {
   "cell_type": "code",
   "execution_count": 38,
   "metadata": {},
   "outputs": [
    {
     "data": {
      "text/plain": [
       "4.47"
      ]
     },
     "execution_count": 38,
     "metadata": {},
     "output_type": "execute_result"
    }
   ],
   "source": [
    "round(4.47383, ndigits=2)"
   ]
  },
  {
   "cell_type": "code",
   "execution_count": 66,
   "metadata": {},
   "outputs": [
    {
     "data": {
      "text/plain": [
       "92"
      ]
     },
     "execution_count": 66,
     "metadata": {},
     "output_type": "execute_result"
    }
   ],
   "source": [
    "somma_potenze([1, 4, 3], n=3)"
   ]
  },
  {
   "cell_type": "markdown",
   "metadata": {},
   "source": [
    "Un esempio di funzione che abbiamo usato combinando parametri di default e parole chiavi è `print`. Il parametro `end` (che normalmente è il carattere di andata a capo) lo abbiamo sempre specificato tramite parola chiave. Il parametro `end` è semplicemente una stringa che viene aggiunta all'output."
   ]
  },
  {
   "cell_type": "code",
   "execution_count": 39,
   "metadata": {},
   "outputs": [
    {
     "name": "stdout",
     "output_type": "stream",
     "text": [
      "Ciao\n",
      "Sono Io\n"
     ]
    }
   ],
   "source": [
    "# Dopo la stringa `Ciao` si va a capo perché si uda il valore di default per end\n",
    "print(\"Ciao\")\n",
    "print(\"Sono Io\")"
   ]
  },
  {
   "cell_type": "code",
   "execution_count": 41,
   "metadata": {},
   "outputs": [
    {
     "name": "stdout",
     "output_type": "stream",
     "text": [
      "Ciao sono io\n"
     ]
    }
   ],
   "source": [
    "# Dopo la stringa `Ciao` si aggiunge uno spazio\n",
    "print(\"Ciao\", end=\" \")\n",
    "print(\"sono io\")"
   ]
  },
  {
   "cell_type": "markdown",
   "metadata": {},
   "source": [
    "In realtà il caso di `print` è un po' particolare: poiché print accetta un numero arbitrario di elementi da stampare, l'unico modo di passare il parametro `end` alla funzione è tramite parola chiave. Se visualizziamo l'help in linea di `print`, notiamo la presenza di un valore di default per `end` ma anche un parametro `args` precedeuto da un asterisco. Questo identifica che si tratta di una funzione che accetta un numero arbitario di argomenti (cosa che non abbiamo trattato nel corso)."
   ]
  },
  {
   "cell_type": "code",
   "execution_count": 67,
   "metadata": {},
   "outputs": [
    {
     "name": "stdout",
     "output_type": "stream",
     "text": [
      "Help on built-in function print in module builtins:\n",
      "\n",
      "print(*args, sep=' ', end='\\n', file=None, flush=False)\n",
      "    Prints the values to a stream, or to sys.stdout by default.\n",
      "\n",
      "    sep\n",
      "      string inserted between values, default a space.\n",
      "    end\n",
      "      string appended after the last value, default a newline.\n",
      "    file\n",
      "      a file-like object (stream); defaults to the current sys.stdout.\n",
      "    flush\n",
      "      whether to forcibly flush the stream.\n",
      "\n"
     ]
    }
   ],
   "source": [
    "help(print)"
   ]
  }
 ],
 "metadata": {
  "kernelspec": {
   "display_name": "Python 3",
   "language": "python",
   "name": "python3"
  },
  "language_info": {
   "codemirror_mode": {
    "name": "ipython",
    "version": 3
   },
   "file_extension": ".py",
   "mimetype": "text/x-python",
   "name": "python",
   "nbconvert_exporter": "python",
   "pygments_lexer": "ipython3",
   "version": "3.12.1"
  }
 },
 "nbformat": 4,
 "nbformat_minor": 2
}
