{
 "cells": [
  {
   "cell_type": "markdown",
   "metadata": {},
   "source": [
    "# Ordinamento per fusione (merge sort)"
   ]
  },
  {
   "cell_type": "markdown",
   "metadata": {},
   "source": [
    "Ripreniamo un problema che abbiamo già affrontato nella lezione del 23 novembre: data una lista `l`, vogliamo riordinare i suoi elementi dal più piccolo al più grande. Abbiamo già visto un algoritmo che risolve questo problema, il *selection sort* (ordinamento per selezione)."
   ]
  },
  {
   "cell_type": "markdown",
   "metadata": {},
   "source": [
    "L'algoritmo di ordinamento per fusione (merge sort) si basa sull'idea di dividere a metà la lista, ordinare sepratamente le due parti e rifonderle (ordinate) nella lista di partenza. Il caso base è costitutito dalle liste di lunghezza 0 oppure 1, che sono sempre ordinate."
   ]
  },
  {
   "cell_type": "code",
   "execution_count": 49,
   "metadata": {},
   "outputs": [],
   "source": [
    "def merge_sort(l):\n",
    "    \"\"\"\n",
    "    Ordina gli elementi di l dal più piccolo al più grande.\n",
    "    \"\"\"\n",
    "    # CASO BASE: se l ha lunghezza 0 oppure 1, è già ordinata, e usciamo subito.\n",
    "    if len(l) <= 1: return\n",
    "    # CASO RICORSIVO\n",
    "    # separo la lista l in due metà, first e second\n",
    "    mid = len(l) // 2\n",
    "    first = l[0:mid]\n",
    "    second = l[mid:len(l)]\n",
    "    # richiamo ricorsivamente merge_sort sulle due sottoliste\n",
    "    merge_sort(first)\n",
    "    merge_sort(second)\n",
    "    # metto assieme i risultati\n",
    "    merge(first, second, l)"
   ]
  },
  {
   "cell_type": "markdown",
   "metadata": {},
   "source": [
    "La funzione `merge_sort` si basa sulla funzione `merge`, che mette assieme due liste precedentemente ordinate."
   ]
  },
  {
   "cell_type": "code",
   "execution_count": 51,
   "metadata": {},
   "outputs": [],
   "source": [
    "def merge(l1, l2, l):\n",
    "    \"\"\"\n",
    "    Date due liste ordinate l1 ed l2, copia i loro elementi nella lista l\n",
    "    preservando l'ordine complessivo. Per ipotesi, la lunghezza di l è\n",
    "    almeno pari alla somma delle lunghezze di l1 ed l2.\n",
    "    \"\"\"\n",
    "    i1 = 0   # indice dell'elemento da osservare in l1\n",
    "    i2 = 0   # indice dell'elemento da osservare in l2\n",
    "    idst = 0 # indiece dell'elemnento da sovrascrivere in l\n",
    "    while i1 < len(l1) and i2 < len(l2):\n",
    "        if l1[i1] < l2[i2]:\n",
    "            l[idst] = l1[i1]\n",
    "            i1 += 1\n",
    "            idst += 1\n",
    "        else:\n",
    "            l[idst] = l2[i2]\n",
    "            i2 += 1\n",
    "            idst += 1\n",
    "\n",
    "    # Copia la parte rimanente della lista l1 dentro l\n",
    "    while i1 < len(l1):\n",
    "        l[idst] = l1[i1]\n",
    "        i1 += 1\n",
    "        idst += 1\n",
    "\n",
    "    # Copia la parte rimanente della lista l2 dentro l\n",
    "    while i2 < len(l2):\n",
    "        l[idst] = l2[i2]\n",
    "        i2 += 1\n",
    "        idst += 1"
   ]
  },
  {
   "cell_type": "markdown",
   "metadata": {},
   "source": [
    "Vediamo come usare `merge` per fondere le liste `[1, 10]` e `[2, 4]`. Si noti che in questa implementazione bisogna fornire come terzo parametro di `merge_sort` la lista destinazione che deve avere già una lunghezza sufficiente per contenere il risultato. La cosa è un po' strana in generale, ma è la versione più comoda da usare per la funzione `merge_sort`."
   ]
  },
  {
   "cell_type": "code",
   "execution_count": 54,
   "metadata": {},
   "outputs": [
    {
     "data": {
      "text/plain": [
       "[1, 2, 4, 10]"
      ]
     },
     "execution_count": 54,
     "metadata": {},
     "output_type": "execute_result"
    }
   ],
   "source": [
    "l = [0] * 4\n",
    "merge([1, 10], [2, 4], l)\n",
    "l"
   ]
  },
  {
   "cell_type": "markdown",
   "metadata": {},
   "source": [
    "E questo è un esempio di utilizzo di `merge_sort`."
   ]
  },
  {
   "cell_type": "code",
   "execution_count": 56,
   "metadata": {},
   "outputs": [
    {
     "data": {
      "text/plain": [
       "[-2, 1, 4, 6, 12, 15, 20, 75]"
      ]
     },
     "execution_count": 56,
     "metadata": {},
     "output_type": "execute_result"
    }
   ],
   "source": [
    "l = [15, 20, 12, -2, 75, 4, 6, 1]\n",
    "merge_sort(l)\n",
    "l"
   ]
  },
  {
   "cell_type": "markdown",
   "metadata": {},
   "source": [
    "Ricordiamo per completezza il codice della funzione `selection_sort`."
   ]
  },
  {
   "cell_type": "code",
   "execution_count": 57,
   "metadata": {},
   "outputs": [],
   "source": [
    "def minimum_position(l, start):\n",
    "    \"\"\"\n",
    "    Restituisce la posizione dell'elemento minimo nella sottolista l[start:].\n",
    "    Si assume che start sia una posizione valida per l.\n",
    "    \"\"\"\n",
    "    minpos = start\n",
    "    for i in range(start + 1, len(l)):\n",
    "        if l[i] < l[minpos]:\n",
    "            minpos = i\n",
    "    return minpos\n",
    "\n",
    "def selection_sort(l):\n",
    "    \"\"\"Ordina gli elementi di l dal più piccolo al più grande.\"\"\"\n",
    "    for i in range(len(l)-1):\n",
    "        m = minimum_position(l, i)\n",
    "        l[i], l[m] = l[m], l[i]"
   ]
  },
  {
   "cell_type": "markdown",
   "metadata": {},
   "source": [
    "# Tempo di esecuzione"
   ]
  },
  {
   "cell_type": "markdown",
   "metadata": {},
   "source": [
    "## Liste piccole\n",
    "\n",
    "Il codice di `merge_sort` è più complesso di quello di `selection_sort`. La cosa sembra ripercuotersi nel tempo di esecuzione, almeno per le liste piccole."
   ]
  },
  {
   "cell_type": "code",
   "execution_count": null,
   "metadata": {},
   "outputs": [
    {
     "name": "stdout",
     "output_type": "stream",
     "text": [
      "1.87 µs ± 114 ns per loop (mean ± std. dev. of 7 runs, 100,000 loops each)\n"
     ]
    }
   ],
   "source": [
    "%%timeit\n",
    "l = [15, 20, 12, -2, 75, 4, 6, 1]\n",
    "selection_sort(l)"
   ]
  },
  {
   "cell_type": "code",
   "execution_count": 36,
   "metadata": {},
   "outputs": [
    {
     "name": "stdout",
     "output_type": "stream",
     "text": [
      "4.6 µs ± 261 ns per loop (mean ± std. dev. of 7 runs, 100,000 loops each)\n"
     ]
    }
   ],
   "source": [
    "%%timeit\n",
    "l = [15, 20, 12, -2, 75, 4, 6, 1]\n",
    "merge_sort(l)"
   ]
  },
  {
   "cell_type": "markdown",
   "metadata": {},
   "source": [
    "Si vede che il merge sort per questa lista di esempio è circa 3 volte più lento del selection sort."
   ]
  },
  {
   "cell_type": "markdown",
   "metadata": {},
   "source": [
    "## Liste un po' più grandi"
   ]
  },
  {
   "cell_type": "markdown",
   "metadata": {},
   "source": [
    "Riutilizziamo la funzione `create_random_list(n)` già vista nella lezione del 23 novembre."
   ]
  },
  {
   "cell_type": "code",
   "execution_count": 58,
   "metadata": {},
   "outputs": [],
   "source": [
    "from random import randint\n",
    "\n",
    "def create_random_list(n):\n",
    "    \"\"\"\n",
    "    Restituisce una lista di lunghezza `n` riempita di numeri interi casuali tra\n",
    "    zero e un milione.\n",
    "    \"\"\"\n",
    "    l = []\n",
    "    for _ in range(n):\n",
    "        l.append(randint(0, 1_000_000))\n",
    "    return l"
   ]
  },
  {
   "cell_type": "code",
   "execution_count": 59,
   "metadata": {},
   "outputs": [
    {
     "data": {
      "text/plain": [
       "[634626,\n",
       " 297055,\n",
       " 880161,\n",
       " 825470,\n",
       " 452972,\n",
       " 873262,\n",
       " 978584,\n",
       " 258307,\n",
       " 666917,\n",
       " 325511,\n",
       " 891502,\n",
       " 314571,\n",
       " 77259,\n",
       " 44754,\n",
       " 187838,\n",
       " 736296,\n",
       " 173731,\n",
       " 892838,\n",
       " 103180,\n",
       " 276672]"
      ]
     },
     "execution_count": 59,
     "metadata": {},
     "output_type": "execute_result"
    }
   ],
   "source": [
    "create_random_list(20)"
   ]
  },
  {
   "cell_type": "code",
   "execution_count": 61,
   "metadata": {},
   "outputs": [],
   "source": [
    "l_lunga = create_random_list(50)"
   ]
  },
  {
   "cell_type": "code",
   "execution_count": 64,
   "metadata": {},
   "outputs": [
    {
     "name": "stdout",
     "output_type": "stream",
     "text": [
      "29.8 µs ± 969 ns per loop (mean ± std. dev. of 7 runs, 10,000 loops each)\n"
     ]
    }
   ],
   "source": [
    "%%timeit\n",
    "# Notare l'uso di \"l = l_lunga[:]\" invece di \"l = l_lunga\" perché voglio che l sia una copia\n",
    "# di l_lunga, e non un alias. Infatti, non voglio che ordinare l abbia come effetto collaterale\n",
    "# quello di ordinare anche l_lunga.\n",
    "l = l_lunga[:]\n",
    "selection_sort(l)"
   ]
  },
  {
   "cell_type": "code",
   "execution_count": 65,
   "metadata": {},
   "outputs": [
    {
     "name": "stdout",
     "output_type": "stream",
     "text": [
      "38.4 µs ± 838 ns per loop (mean ± std. dev. of 7 runs, 10,000 loops each)\n"
     ]
    }
   ],
   "source": [
    "%%timeit\n",
    "l = l_lunga[:]\n",
    "merge_sort(l)"
   ]
  },
  {
   "cell_type": "markdown",
   "metadata": {},
   "source": [
    "Notare che il selection sort è ancora più veloce del merge sort (almeno sul mio computer) ma il margine di miglioramento si è ridotto."
   ]
  },
  {
   "cell_type": "markdown",
   "metadata": {},
   "source": [
    "Proviamo con una lista ancora più grande."
   ]
  },
  {
   "cell_type": "code",
   "execution_count": 67,
   "metadata": {},
   "outputs": [],
   "source": [
    "l_più_lunga = create_random_list(100)"
   ]
  },
  {
   "cell_type": "code",
   "execution_count": 69,
   "metadata": {},
   "outputs": [
    {
     "name": "stdout",
     "output_type": "stream",
     "text": [
      "99.2 µs ± 332 ns per loop (mean ± std. dev. of 7 runs, 10,000 loops each)\n"
     ]
    }
   ],
   "source": [
    "%%timeit\n",
    "l = l_più_lunga[:]\n",
    "selection_sort(l)"
   ]
  },
  {
   "cell_type": "code",
   "execution_count": 70,
   "metadata": {},
   "outputs": [
    {
     "name": "stdout",
     "output_type": "stream",
     "text": [
      "85.3 µs ± 2.02 µs per loop (mean ± std. dev. of 7 runs, 10,000 loops each)\n"
     ]
    }
   ],
   "source": [
    "%%timeit\n",
    "l = l_più_lunga[:]\n",
    "merge_sort(l)"
   ]
  },
  {
   "cell_type": "markdown",
   "metadata": {},
   "source": [
    "Adesso il merge sort ha preso il sopravvento e risulta più veloce del selection sort."
   ]
  },
  {
   "cell_type": "markdown",
   "metadata": {},
   "source": [
    "## Liste molto grandi"
   ]
  },
  {
   "cell_type": "markdown",
   "metadata": {},
   "source": [
    "Riprendiamo un pezzo di codice scritto per la lezione del 23 novembre che prova ad ordine liste di lunghezza crescente da 1000 fino a 15.000 elementi."
   ]
  },
  {
   "cell_type": "code",
   "execution_count": 71,
   "metadata": {},
   "outputs": [
    {
     "name": "stdout",
     "output_type": "stream",
     "text": [
      "Size 1000 Selection Sort Time:      0.016 secondi\n",
      "Size 2000 Selection Sort Time:      0.064 secondi\n",
      "Size 3000 Selection Sort Time:      0.142 secondi\n",
      "Size 4000 Selection Sort Time:      0.254 secondi\n",
      "Size 5000 Selection Sort Time:      0.399 secondi\n",
      "Size 6000 Selection Sort Time:      0.569 secondi\n",
      "Size 7000 Selection Sort Time:      0.812 secondi\n",
      "Size 8000 Selection Sort Time:      1.052 secondi\n",
      "Size 9000 Selection Sort Time:      1.273 secondi\n",
      "Size 10000 Selection Sort Time:      1.588 secondi\n",
      "Size 11000 Selection Sort Time:      2.009 secondi\n",
      "Size 12000 Selection Sort Time:      2.294 secondi\n",
      "Size 13000 Selection Sort Time:      2.897 secondi\n",
      "Size 14000 Selection Sort Time:      3.248 secondi\n",
      "Size 15000 Selection Sort Time:      3.595 secondi\n"
     ]
    }
   ],
   "source": [
    "from time import time\n",
    "\n",
    "times = []\n",
    "for i in range(1000, 15001, 1000):\n",
    "    l = create_random_list(i)\n",
    "    # La funzione time restituisce il numero di secondi trascorsi dal 1° gennaio 1970.\n",
    "    start_time = time()\n",
    "    selection_sort(l)\n",
    "    end_time = time()\n",
    "    # La differenza tra end_time e start_time è la quantitià di tempo, in secondi, che è\n",
    "    # stata impiegata dalla funzione selection_sort.\n",
    "    times.append(end_time - start_time)\n",
    "    print(f\"Size {i} Selection Sort Time: {end_time - start_time:10.3f} secondi\")"
   ]
  },
  {
   "cell_type": "code",
   "execution_count": 72,
   "metadata": {},
   "outputs": [
    {
     "name": "stdout",
     "output_type": "stream",
     "text": [
      "Size 1000 Merge Sort Time:      0.001 secondi\n",
      "Size 2000 Merge Sort Time:      0.006 secondi\n",
      "Size 3000 Merge Sort Time:      0.005 secondi\n",
      "Size 4000 Merge Sort Time:      0.008 secondi\n",
      "Size 5000 Merge Sort Time:      0.008 secondi\n",
      "Size 6000 Merge Sort Time:      0.010 secondi\n",
      "Size 7000 Merge Sort Time:      0.025 secondi\n",
      "Size 8000 Merge Sort Time:      0.013 secondi\n",
      "Size 9000 Merge Sort Time:      0.015 secondi\n",
      "Size 10000 Merge Sort Time:      0.017 secondi\n",
      "Size 11000 Merge Sort Time:      0.019 secondi\n",
      "Size 12000 Merge Sort Time:      0.021 secondi\n",
      "Size 13000 Merge Sort Time:      0.023 secondi\n",
      "Size 14000 Merge Sort Time:      0.025 secondi\n",
      "Size 15000 Merge Sort Time:      0.042 secondi\n"
     ]
    }
   ],
   "source": [
    "times = []\n",
    "for i in range(1000, 15001, 1000):\n",
    "    l = create_random_list(i)\n",
    "    # La funzione time restituisce il numero di secondi trascorsi dal 1° gennaio 1970.\n",
    "    start_time = time()\n",
    "    merge_sort(l)\n",
    "    end_time = time()\n",
    "    # La differenza tra end_time e start_time è la quantitià di tempo, in secondi, che è\n",
    "    # stata impiegata dalla funzione selection_sort.\n",
    "    times.append(end_time - start_time)\n",
    "    print(f\"Size {i} Merge Sort Time: {end_time - start_time:10.3f} secondi\")"
   ]
  },
  {
   "cell_type": "markdown",
   "metadata": {},
   "source": [
    "Si vede che il merge sort per liste così lunghe è deisamente più veloce del selection sort. Evidentemente il selection sort è più efficiente per liste corte, ma il merge sort è più veloce per liste lunghe."
   ]
  },
  {
   "cell_type": "markdown",
   "metadata": {},
   "source": [
    "Notiamo anche che quando raddoppiamo la dimensione della lista, il tempo di esecuzione del selection sort circa si quadruplica (nel passaggio da 5000 a 10.000 elementi il tempo passa da 0.399 a 1.588 secondi) mentre quello del merge sort raddoppia (o poco più). Abbiamo già visto infatti che il selection sort ha un tempo di esecuzione dell'ordine di $O(n^2)$: se $n$ raddoppia, $n^2$ quadruplica. Una analisi teorica ci mostrerà che il tempo di esecuzione del merge sort è invece dell'ordine di $O(n \\log n)$, che è poso di più di una funzione linerare $O(n)$."
   ]
  }
 ],
 "metadata": {
  "kernelspec": {
   "display_name": "Python 3",
   "language": "python",
   "name": "python3"
  },
  "language_info": {
   "codemirror_mode": {
    "name": "ipython",
    "version": 3
   },
   "file_extension": ".py",
   "mimetype": "text/x-python",
   "name": "python",
   "nbconvert_exporter": "python",
   "pygments_lexer": "ipython3",
   "version": "3.12.1"
  }
 },
 "nbformat": 4,
 "nbformat_minor": 2
}
